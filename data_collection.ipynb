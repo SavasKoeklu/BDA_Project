{
 "cells": [
  {
   "cell_type": "code",
   "execution_count": 1,
   "metadata": {},
   "outputs": [
    {
     "name": "stdout",
     "output_type": "stream",
     "text": [
      "['admin', 'bda', 'config', 'local']\n"
     ]
    }
   ],
   "source": [
    "import requests\n",
    "import re \n",
    "import time\n",
    "import json\n",
    "from pymongo import MongoClient\n",
    "import json\n",
    "import random\n",
    "\n",
    "client = MongoClient('localhost', 27017)\n",
    "\n",
    "# let's get the list of DBs already defined\n",
    "print(client.list_database_names())\n",
    "\n",
    "# access token can be used till february 2024\n",
    "access_token = \"EAAKb83xTK40BO7gBDVcd3GoFsLMwJFEv1MrkbdbqpTKOVeA2a0GuZCnusq2SuGeD4IG2GjbeEV5OkV4dzHEN53KTRoDgnsKlsPLAIkuo2Yz7zdtEYRl3IvM4mHct3e6syQu0MjKt4wq3FViWZBkms1jGhxbFmOe8ZALYRQNfOBTOs4wH9I5v4kC\"\n",
    "instagram_account_id = 17841402187545471\n",
    "\n",
    "\n",
    "graph_url = 'https://graph.facebook.com/v18.0/'\n",
    "def get_hashtag_id(hashtag = '',instagram_account_id = '',access_token = ''):\n",
    "    url = graph_url + 'ig_hashtag_search'\n",
    "    param = dict()\n",
    "    param['user_id'] = instagram_account_id\n",
    "    param['q'] = hashtag\n",
    "    param['access_token'] = access_token\n",
    "    response = requests.get(url,param)\n",
    "    response = response.json()\n",
    "    \n",
    "    hashtag_id = response['data'][0]['id']\n",
    "    return hashtag_id\n",
    "\n",
    "# retrieve name and id for a hasthag\n",
    "def get_data_of_hashtag(hashtag_id = '',access_token=''):\n",
    "    url = graph_url + hashtag_id\n",
    "    param =dict()\n",
    "    param['access_token'] = access_token\n",
    "    param['fields'] = 'id,name'\n",
    "    response = requests.get(url,param)\n",
    "    response = response.json()\n",
    "    return response\n",
    "\n",
    "# recent media for a hashtag\n",
    "def get_recent_media(hashtag_id='',access_token = '',instagram_account_id = ''):\n",
    "    url = graph_url + hashtag_id + '/recent_media'\n",
    "    param = dict()\n",
    "    param['access_token'] = access_token\n",
    "    param['user_id'] = instagram_account_id\n",
    "    param['fields'] = 'caption,like_count,permalink,timestamp,media_type,comments_count,media_url'\n",
    "    response = requests.get(url, param,timeout=90)\n",
    "    response = response.json()\n",
    "    print(response)\n",
    "    return response\n",
    "\n",
    "def get_top_media(hashtag_id='',access_token='',instagram_account_id=''):\n",
    "    url = graph_url + hashtag_id + '/top_media'\n",
    "    param = dict()\n",
    "    param['access_token'] = access_token\n",
    "    param['user_id'] = instagram_account_id\n",
    "    param['fields'] = 'caption,like_count,permalink'\n",
    "    response = requests.get(url, param)\n",
    "    response = response.json()\n",
    "    print(response)\n",
    "    return response\n",
    "\n",
    "def get_all_posts_since_24hours(hashtag_names, access_token, instagram_account_id):\n",
    "    posts = []\n",
    "    hashtag_ids = []\n",
    "    wait_for_decreaseing_limits()\n",
    "    for name in hashtag_names:\n",
    "        hashtag_id = get_hashtag_id(name,instagram_account_id,access_token)\n",
    "        hashtag_ids.append(hashtag_id)\n",
    "    \n",
    "    random.shuffle(hashtag_ids)\n",
    "    \n",
    "    for hashtag_id in hashtag_ids:\n",
    "        # print to verify the id\n",
    "        wait_for_decreaseing_limits()\n",
    "        print(\"data for hashtag\")\n",
    "        print(get_data_of_hashtag(hashtag_id,access_token))\n",
    "        posts_for_hashtag = get_all_posts_since_24hours_for_given_hashtag_id(hashtag_id,access_token, instagram_account_id)\n",
    "        client['bda']['posts'].insert_many(posts_for_hashtag)\n",
    "        posts = posts + posts_for_hashtag\n",
    "    return posts\n",
    "\n",
    "\n",
    "#def plot_most_common_hashtags_in_data()\n",
    "def wait_for_decreaseing_limits():\n",
    "    try:\n",
    "        param = dict()\n",
    "        param['access_token'] = access_token\n",
    "        response = requests.get(graph_url+\"me/\",param,timeout=300)\n",
    "        # Here we look at three metircs total time, total cpu time and call count that give us percentages  for their limit usages.\n",
    "        # the code get's delayed one hour, till they reset\n",
    "        usage = json.loads(response.headers['x-app-usage'])\n",
    "        print(usage)\n",
    "        if usage[\"total_cputime\"] >= 90 or usage[\"total_time\"] >= 90 or usage[\"call_count\"] >= 90:\n",
    "            print(\"sleeping\")\n",
    "            time.sleep(600)\n",
    "    except requests.exceptions.Timeout:\n",
    "        print(\"Timeout\")\n",
    "\n",
    "def get_all_posts_since_24hours_for_given_hashtag_id(hashtag_id,access_token,instagram_account_id):\n",
    "    data = []\n",
    "    count = 0\n",
    "    wait_for_decreaseing_limits()\n",
    "    recent = get_recent_media(hashtag_id, access_token,instagram_account_id)\n",
    "    data = [] + recent[\"data\"]\n",
    "    while True:\n",
    "        if not ( 'paging' in recent and 'next' in recent['paging']):\n",
    "            break\n",
    "        count = count + 1\n",
    "        try:\n",
    "            response = requests.get(recent['paging']['next'] ,timeout=300)\n",
    "            if (count%50) == 0:\n",
    "                wait_for_decreaseing_limits()\n",
    "            \n",
    "            recent = response.json()\n",
    "            # we saw that sometimes there is at the last pages not data returned, but urls for new pages\n",
    "            if'data'not in recent:\n",
    "                break\n",
    "            print(recent['data'][0]['timestamp'])\n",
    "            data = data + recent['data']\n",
    "        except requests.exceptions.Timeout:\n",
    "            print(\"Timeout\")\n",
    "            print(recent)\n",
    "            break\n",
    "        except: #code to run if error occurs\n",
    "            print(\"caught_it\")\n",
    "            print(recent)\n",
    "    return data\n",
    "    \n",
    "    \n"
   ]
  },
  {
   "cell_type": "code",
   "execution_count": 39,
   "metadata": {},
   "outputs": [
    {
     "name": "stdout",
     "output_type": "stream",
     "text": [
      "{'call_count': 22, 'total_cputime': 0, 'total_time': 9}\n"
     ]
    }
   ],
   "source": [
    "wait_for_decreaseing_limits()\n"
   ]
  },
  {
   "cell_type": "code",
   "execution_count": 5,
   "metadata": {},
   "outputs": [
    {
     "name": "stdout",
     "output_type": "stream",
     "text": [
      "['admin', 'bda', 'config', 'local']\n"
     ]
    }
   ],
   "source": [
    "from pymongo import MongoClient\n",
    "import json\n",
    "\n",
    "client = MongoClient('localhost', 27017)\n",
    "\n",
    "# let's get the list of DBs already defined\n",
    "print(client.list_database_names())"
   ]
  },
  {
   "cell_type": "code",
   "execution_count": 3,
   "metadata": {},
   "outputs": [],
   "source": [
    "# let's create a new DB - bda\n",
    "database = client['bda']\n",
    "\n",
    "# let's create a collection\n",
    "posts = database.posts"
   ]
  },
  {
   "cell_type": "code",
   "execution_count": 2,
   "metadata": {},
   "outputs": [
    {
     "name": "stdout",
     "output_type": "stream",
     "text": [
      "{'call_count': 19, 'total_cputime': 0, 'total_time': 43}\n",
      "{'call_count': 20, 'total_cputime': 0, 'total_time': 43}\n",
      "data for hashtag\n",
      "{'id': '17843857138016461', 'name': 'war'}\n",
      "{'call_count': 20, 'total_cputime': 0, 'total_time': 43}\n",
      "{'data': [{'caption': 'ഇസ്രായേലിനെ ന്യായീകരിച്ച് വിദ്വേഷ പരാമർശങ്ങളുമായി ജോൺസൻ ആൻഡ് ജോൺസൻ മുൻ മേധാവി\\n\\nഇസ്രായേൽ നടത്തുന്ന ഫലസ്തീൻ കൂട്ടക്കൊലയെ ബൈബിൾ വചനം ഉദ്ധരിച്ചാണ് ജോൺസൻ ആൻഡ് ജോൺസൻ മുൻ വൈസ് പ്രസിഡന്റ് സാം മൽഡൊണാഡോ ന്യായീകരിച്ചത്\\n.\\n.\\n.\\n.\\n.\\n.\\n.\\n.\\n#johsonandjohnson #sammaldonado #gazzawar #war', 'like_count': 4, 'permalink': 'https://www.instagram.com/reel/C1UUz4QqlA3/', 'timestamp': '2023-12-26T13:16:35+0000', 'media_type': 'VIDEO', 'comments_count': 0, 'media_url': 'https://scontent-mad2-1.cdninstagram.com/o1/v/t16/f1/m82/F447B0F08B5189C694F11B73837B0B86_video_dashinit.mp4?efg=eyJ2ZW5jb2RlX3RhZyI6InZ0c192b2RfdXJsZ2VuLmNsaXBzLnVua25vd24tQzMuNzIwLmRhc2hfYmFzZWxpbmVfMV92MSJ9&_nc_ht=scontent-mad2-1.cdninstagram.com&_nc_cat=102&vs=1034397174484046_1277973802&_nc_vs=HBksFQIYT2lnX3hwdl9yZWVsc19wZXJtYW5lbnRfcHJvZC9GNDQ3QjBGMDhCNTE4OUM2OTRGMTFCNzM4MzdCMEI4Nl92aWRlb19kYXNoaW5pdC5tcDQVAALIAQAVAhg6cGFzc3Rocm91Z2hfZXZlcnN0b3JlL0dMMnBzQmlfYklPZzFrVUNBS1hvcG9wRDZwUVhicV9FQUFBRhUCAsgBACgAGAAbAYgHdXNlX29pbAExFQAAJqTJmOujh4FAFQIoAkMzLBdAaAuVgQYk3RgSZGFzaF9iYXNlbGluZV8xX3YxEQB1AAA%3D&ccb=9-4&oh=00_AfAWahpZtPeAp83bPXC4xbn9TxCt59mAyZoHpn4nZYDzqQ&oe=658C8213&_nc_sid=1d576d&_nc_rid=766a24ea8e', 'id': '18009823580134085'}, {'caption': 'adelatheer holylandspeaks #freepalestine 🇵🇸 #savepalestine #muslim #islam #palestine #war #israel #palestinewillbefree #islamic #trend #trending #arab #istandwithpalestine #saudiarabia #boycottstarbucks #sudan #uae #unitedarabemirates #us #unitedstates #islamic #boycott #boycottisrael #boycottisraelproducts #boycottisraelapartheid #nyc #newyorkcity #joebiden #rishisunak #democracy #vote', 'like_count': 1, 'permalink': 'https://www.instagram.com/p/C1UU2lDymsF/', 'timestamp': '2023-12-26T13:16:23+0000', 'media_type': 'IMAGE', 'comments_count': 0, 'media_url': 'https://scontent-mad1-1.cdninstagram.com/v/t51.29350-15/414270156_1278574729477084_1246556605947671850_n.webp?stp=dst-jpg&_nc_cat=105&ccb=1-7&_nc_sid=c4dd86&_nc_ohc=GFqh4PhxOVEAX-E7R-G&_nc_ht=scontent-mad1-1.cdninstagram.com&edm=AEoDcc0EAAAA&oh=00_AfAbQfa-599oqMusFUH8jJakY_B8Wn5ZOeDH-BKqrLVy9g&oe=658F4370', 'id': '17981813660422467'}, {'caption': 'shameless raw firepower\\ndeptofdefense #comic #art #artofinstagram #artwork #handdrawn #cartoons #funny #humor #comics #instacomic #jokes #outsiderart #comedy #drawing #absurdart #absurd #webcomic #webcartoon #christmas #war #fighting #guns #bomb #bombshell', 'like_count': 0, 'permalink': 'https://www.instagram.com/reel/C1UUuXUsogb/', 'timestamp': '2023-12-26T13:15:25+0000', 'media_type': 'VIDEO', 'comments_count': 0, 'media_url': 'https://scontent-mad2-1.cdninstagram.com/o1/v/t16/f1/m82/39484DB552EF47DD8F1CE6D403BF8BB9_video_dashinit.mp4?efg=eyJ2ZW5jb2RlX3RhZyI6InZ0c192b2RfdXJsZ2VuLmNsaXBzLnVua25vd24tQzMuNzIwLmRhc2hfYmFzZWxpbmVfMV92MSJ9&_nc_ht=scontent-mad2-1.cdninstagram.com&_nc_cat=109&vs=1107303673759525_850034429&_nc_vs=HBksFQIYT2lnX3hwdl9yZWVsc19wZXJtYW5lbnRfcHJvZC8zOTQ4NERCNTUyRUY0N0REOEYxQ0U2RDQwM0JGOEJCOV92aWRlb19kYXNoaW5pdC5tcDQVAALIAQAVAhg6cGFzc3Rocm91Z2hfZXZlcnN0b3JlL0dMc0J1UmhNMDRNam1LSUNBT3lzX2J3UWdCMTlicV9FQUFBRhUCAsgBACgAGAAbAYgHdXNlX29pbAExFQAAJvrHl7W81%2FI%2FFQIoAkMzLBdAPOfvnbItDhgSZGFzaF9iYXNlbGluZV8xX3YxEQB1AAA%3D&ccb=9-4&oh=00_AfD7NDNB2gAMUAX7bGN_t6gYZqXZhHzHosaOdmh96DUNOQ&oe=658CBE68&_nc_sid=1d576d&_nc_rid=b8f2ba43e6', 'id': '18088633606399065'}, {'caption': 'zakariahababe #freepalestine 🇵🇸 #savepalestine #muslim #islam #palestine #war #israel #palestinewillbefree #islamic #trend #trending #arab #istandwithpalestine #saudiarabia #boycottstarbucks #sudan #uae #unitedarabemirates #us #unitedstates #islamic #boycott #boycottisrael #boycottisraelproducts #boycottisraelapartheid #nyc #newyorkcity #joebiden #rishisunak #democracy #vote', 'like_count': 1, 'permalink': 'https://www.instagram.com/p/C1UUraXysZi/', 'timestamp': '2023-12-26T13:14:52+0000', 'media_type': 'IMAGE', 'comments_count': 0, 'media_url': 'https://scontent-mad2-1.cdninstagram.com/v/t51.29350-15/412651444_2385506911640929_4469552280821071091_n.webp?stp=dst-jpg&_nc_cat=109&ccb=1-7&_nc_sid=c4dd86&_nc_ohc=MK8N6fS-TxYAX_dU4BP&_nc_ht=scontent-mad2-1.cdninstagram.com&edm=AEoDcc0EAAAA&oh=00_AfAtS9ZzRfm2i-aOoWhdDt1Rwyx5b3n2akTguh-vqkKO5Q&oe=65905BAD', 'id': '17932061513700962'}, {'caption': 'Jai jai shiv shanker 🥰✨✨\\n#dancer #dancechallenge #jaijaishivshankar \\n#war #hritikroshan #explore #trending \\n#trendingreels #thenitinsoni #viral #instareels \\n#instareelsindia❤️', 'like_count': 0, 'permalink': 'https://www.instagram.com/reel/C1UUSM2Rkq6/', 'timestamp': '2023-12-26T13:13:36+0000', 'media_type': 'VIDEO', 'comments_count': 0, 'media_url': 'https://scontent-mad2-1.cdninstagram.com/o1/v/t16/f1/m82/E4446FD08F85FDF4C0505849FB199E8C_video_dashinit.mp4?efg=eyJ2ZW5jb2RlX3RhZyI6InZ0c192b2RfdXJsZ2VuLmNsaXBzLnVua25vd24tQzMuNzIwLmRhc2hfYmFzZWxpbmVfMV92MSJ9&_nc_ht=scontent-mad2-1.cdninstagram.com&_nc_cat=108&vs=1737718396704433_1417225963&_nc_vs=HBksFQIYT2lnX3hwdl9yZWVsc19wZXJtYW5lbnRfcHJvZC9FNDQ0NkZEMDhGODVGREY0QzA1MDU4NDlGQjE5OUU4Q192aWRlb19kYXNoaW5pdC5tcDQVAALIAQAVAhg6cGFzc3Rocm91Z2hfZXZlcnN0b3JlL0dMQml0eGdOWU91azl5d0RBS3ZxZWNUZVNVNWJicV9FQUFBRhUCAsgBACgAGAAbAYgHdXNlX29pbAExFQAAJv7w29u534hAFQIoAkMzLBdAKAKPXCj1wxgSZGFzaF9iYXNlbGluZV8xX3YxEQB1AAA%3D&ccb=9-4&oh=00_AfAJOC2oPkzekBVaim1LZbdmEIzqEd5dWB1xe2cRHrZAoA&oe=658C7594&_nc_sid=1d576d&_nc_rid=04d5af49f1', 'id': '17844726978131408'}, {'caption': 'MOVIE OF 2005 FULL HD QUALITY [720p] & [1080p]\\n\\n*SHOOTING DOGS #Drama #History #War -RATE 7.0 Full HD [720p] & [1080p] Plus ENGLISH SUB TITTLE 👆, Mzigo Tayari upo Ofisini 🔥🔥🔥 Kwa Latest MOVIES & SERIES bila kusahau OLD MOVIES zikiwa katika HD Cheki na Mimi 🎬🎬🎬 Via [ KIPASINHO_LATEST_ MOVIES ] &[ MUSIC_ CENTER ] Soweto Mbeya City Tz', 'like_count': 0, 'permalink': 'https://www.instagram.com/p/C1UUf-vtaFH/', 'timestamp': '2023-12-26T13:13:18+0000', 'media_type': 'IMAGE', 'comments_count': 0, 'media_url': 'https://scontent-mad1-1.cdninstagram.com/v/t51.29350-15/412742875_1355291605110268_2005490849980360700_n.webp?stp=dst-jpg&_nc_cat=103&ccb=1-7&_nc_sid=c4dd86&_nc_ohc=ODOJP16MCmYAX-aBoVk&_nc_ht=scontent-mad1-1.cdninstagram.com&edm=AEoDcc0EAAAA&oh=00_AfAUME-bQ3giANtMC4SSa_iBeybsMEk8_EReL4q-q7LU2Q&oe=65906E06', 'id': '17909775551862746'}, {'caption': 'motazmalhees saradjazz #freepalestine 🇵🇸 #savepalestine #muslim #islam #palestine #war #israel #palestinewillbefree #islamic #trend #trending #arab #istandwithpalestine #saudiarabia #boycottstarbucks #sudan #uae #unitedarabemirates #us #unitedstates #islamic #boycott #boycottisrael #boycottisraelproducts #boycottisraelapartheid #nyc #newyorkcity #joebiden #rishisunak #democracy #vote', 'like_count': 1, 'permalink': 'https://www.instagram.com/p/C1UUfwAyoYe/', 'timestamp': '2023-12-26T13:13:16+0000', 'media_type': 'IMAGE', 'comments_count': 0, 'media_url': 'https://scontent-mad2-1.cdninstagram.com/v/t51.29350-15/412602135_754486779855641_1448906146924967597_n.webp?stp=dst-jpg&_nc_cat=111&ccb=1-7&_nc_sid=c4dd86&_nc_ohc=VBVpP5yMP1UAX84JQrS&_nc_ht=scontent-mad2-1.cdninstagram.com&edm=AEoDcc0EAAAA&oh=00_AfC8CfWF8JLoEJJ2WrNCjHeJBflQqa2rNbTKRkUVoXZHWA&oe=6590044A', 'id': '18021085984777629'}, {'caption': 'Ukraina menyerang salah satu kapal perang terbesar Rusia dengan rudal jelajah!\\n\\nMenurut laporan, 300 orang awak kapal ini telah tewas.\\n\\n#ww3 #war #new #update', 'like_count': 0, 'permalink': 'https://www.instagram.com/reel/C1UUdBYuNhV/', 'timestamp': '2023-12-26T13:12:56+0000', 'media_type': 'VIDEO', 'comments_count': 0, 'media_url': 'https://video-mad2-1.cdninstagram.com/v/t42.1790-2/413611502_190066410795894_3452109542808197199_n.mp4?_nc_cat=100&ccb=1-7&_nc_sid=c4dd86&_nc_ohc=MJEB8QpBavQAX9yDTY2&_nc_ht=video-mad2-1.cdninstagram.com&edm=AEoDcc0EAAAA&oh=00_AfATQgN5rHhOePSAOPO5zvxXFw139WhBPOREP_aWvdLeiA&oe=659040EA', 'id': '17990049512526490'}, {'caption': 'Heuer Bundeswehr 3H - Flyback\\n\\n#heuer #bundeswehr #3H #valjoux #230 #chronograph #manual #winding #steel #pilot #war #watch #military #style #swiss #made #collector #passion #pornwatch #big #crown #counters #tritium #nato #strap', 'like_count': 2, 'permalink': 'https://www.instagram.com/p/C1UUdJoNKRF/', 'timestamp': '2023-12-26T13:12:55+0000', 'media_type': 'IMAGE', 'comments_count': 0, 'media_url': 'https://scontent-mad2-1.cdninstagram.com/v/t51.29350-15/412542161_884456563467095_3746568091976806301_n.heic?stp=dst-jpg&_nc_cat=110&ccb=1-7&_nc_sid=c4dd86&_nc_ohc=GS0VQ4OQpYgAX9Rd4bz&_nc_ht=scontent-mad2-1.cdninstagram.com&edm=AEoDcc0EAAAA&oh=00_AfABE1zw7TBUZ6SdHexkJbsNBHf5GlUHJJges0sLxa6dvQ&oe=65902A0A', 'id': '18276377671089741'}, {'caption': 'MOVIE OF 2005 FULL HD QUALITY [720p] & [1080p]\\n\\n*SHOOTING DOGS #Drama #History #War -RATE 7.0 Full HD [720p] & [1080p] Plus ENGLISH SUB TITTLE 👆, Mzigo Tayari upo Ofisini 🔥🔥🔥 Kwa Latest MOVIES & SERIES bila kusahau OLD MOVIES zikiwa katika HD Cheki na Mimi 🎬🎬🎬 Via [ KIPASINHO_LATEST_ MOVIES ] &[ MUSIC_ CENTER ] Soweto Mbeya City Tz', 'like_count': 0, 'permalink': 'https://www.instagram.com/p/C1UUZ-lNCBY/', 'timestamp': '2023-12-26T13:12:29+0000', 'media_type': 'IMAGE', 'comments_count': 0, 'media_url': 'https://scontent-mad2-1.cdninstagram.com/v/t51.29350-15/412618172_1079736996780917_2512976027380987643_n.webp?stp=dst-jpg&_nc_cat=108&ccb=1-7&_nc_sid=c4dd86&_nc_ohc=-AGWWqxBjQAAX8jxI84&_nc_ht=scontent-mad2-1.cdninstagram.com&edm=AEoDcc0EAAAA&oh=00_AfC-gFh5tRxBB3BpVPnFbjb0-qNOJGYgpx9tk4ua15xr_g&oe=658F3A1B', 'id': '18042393829591410'}, {'caption': '“วอร์ วนรัตน์” โต้เป็นป๋าสายเปย์ คนเอาไปเต้าข่าวเอง\\n\\n#วอร์ #war #วอร์วนรัตน์ #warwanarat warwanarat \\n#หยิ่นวอร์ #yinwar', 'like_count': 3, 'permalink': 'https://www.instagram.com/reel/C1UURpjLYgt/', 'timestamp': '2023-12-26T13:12:18+0000', 'media_type': 'VIDEO', 'comments_count': 0, 'media_url': 'https://scontent-mad2-1.cdninstagram.com/o1/v/t16/f1/m82/5945BE84E35442650D3CCF3C2F77E0B6_video_dashinit.mp4?efg=eyJ2ZW5jb2RlX3RhZyI6InZ0c192b2RfdXJsZ2VuLmNsaXBzLnVua25vd24tQzMuNzIwLmRhc2hfYmFzZWxpbmVfMV92MSJ9&_nc_ht=scontent-mad2-1.cdninstagram.com&_nc_cat=111&vs=899098984757717_1399448564&_nc_vs=HBksFQIYT2lnX3hwdl9yZWVsc19wZXJtYW5lbnRfcHJvZC81OTQ1QkU4NEUzNTQ0MjY1MEQzQ0NGM0MyRjc3RTBCNl92aWRlb19kYXNoaW5pdC5tcDQVAALIAQAVAhg6cGFzc3Rocm91Z2hfZXZlcnN0b3JlL0dPeWlxeGdpS1d1cUNCWU5BQ1loVFhWaVFSNFFicV9FQUFBRhUCAsgBACgAGAAbAYgHdXNlX29pbAExFQAAJrjA%2Btax9odAFQIoAkMzLBdAVoAAAAAAABgSZGFzaF9iYXNlbGluZV8xX3YxEQB1AAA%3D&ccb=9-4&oh=00_AfAbFePG3TnD4HFoA1srJ-mSdSLC2iDle-OLsOmOWMQTdw&oe=658C4CB0&_nc_sid=1d576d&_nc_rid=a094b63565', 'id': '18292236133149118'}, {'caption': 'm1209.90 #freepalestine 🇵🇸 #savepalestine #muslim #islam #palestine #war #israel #palestinewillbefree #islamic #trend #trending #arab #istandwithpalestine #saudiarabia #boycottstarbucks #sudan #uae #unitedarabemirates #us #unitedstates #islamic #boycott #boycottisrael #boycottisraelproducts #boycottisraelapartheid #nyc #newyorkcity #joebiden #rishisunak #democracy #vote', 'like_count': 1, 'permalink': 'https://www.instagram.com/p/C1UUWmNy-ux/', 'timestamp': '2023-12-26T13:12:01+0000', 'media_type': 'IMAGE', 'comments_count': 0, 'media_url': 'https://scontent-mad2-1.cdninstagram.com/v/t51.29350-15/412762100_3548640312068359_1710038465472930794_n.webp?stp=dst-jpg&_nc_cat=104&ccb=1-7&_nc_sid=c4dd86&_nc_ohc=6pWZWfp00PIAX9Vpyxx&_nc_ht=scontent-mad2-1.cdninstagram.com&edm=AEoDcc0EAAAA&oh=00_AfAAA3w-uC4sXX_qrs3FvEoVwUPXwX7mVc33lnH_ER-GsA&oe=658F39E5', 'id': '18045006769585789'}, {'caption': 'Ahhhh🤌\\n~\\n~\\n~\\n~\\n~\\n~\\n~\\nFOLLOW YOUR GIRL\\n^^^_badixbichx_ ~~\\n~\\n~\\n~\\n~\\n~\\n~\\n~\\n#fy #foryou #battle #war #quiteperson #explore #exploremore', 'like_count': 1, 'permalink': 'https://www.instagram.com/reel/C1UUST0IXig/', 'timestamp': '2023-12-26T13:11:39+0000', 'media_type': 'VIDEO', 'comments_count': 0, 'media_url': 'https://scontent-mad2-1.cdninstagram.com/o1/v/t16/f1/m82/E2462711736A18DA9FEEA28891293799_video_dashinit.mp4?efg=eyJ2ZW5jb2RlX3RhZyI6InZ0c192b2RfdXJsZ2VuLmNsaXBzLnVua25vd24tQzMuNTc2LmRhc2hfYmFzZWxpbmVfMV92MSJ9&_nc_ht=scontent-mad2-1.cdninstagram.com&_nc_cat=102&vs=1383531339231716_2881734823&_nc_vs=HBksFQIYT2lnX3hwdl9yZWVsc19wZXJtYW5lbnRfcHJvZC9FMjQ2MjcxMTczNkExOERBOUZFRUEyODg5MTI5Mzc5OV92aWRlb19kYXNoaW5pdC5tcDQVAALIAQAVAhg6cGFzc3Rocm91Z2hfZXZlcnN0b3JlL0dLZXJ1Qmlkb09EZy1qQUdBSzNFb0hUd0dtd0VicV9FQUFBRhUCAsgBACgAGAAbAYgHdXNlX29pbAExFQAAJoqlu5nk4oZAFQIoAkMzLBdAJvEm6XjU%2FhgSZGFzaF9iYXNlbGluZV8xX3YxEQB1AAA%3D&ccb=9-4&oh=00_AfDZYHU89k2MG77Mjq_KMLsXv1xFyotBFMav4yZAWzD6YA&oe=658CAE38&_nc_sid=1d576d&_nc_rid=b085554c92', 'id': '18288855244152249'}, {'like_count': 2, 'permalink': 'https://www.instagram.com/reel/C1UUIxmSErT/', 'timestamp': '2023-12-26T13:10:53+0000', 'media_type': 'VIDEO', 'comments_count': 1, 'media_url': 'https://scontent-mad2-1.cdninstagram.com/o1/v/t16/f1/m82/4D489806DA3EFC6D2F218791A629A9A9_video_dashinit.mp4?efg=eyJ2ZW5jb2RlX3RhZyI6InZ0c192b2RfdXJsZ2VuLmNsaXBzLnVua25vd24tQzMuNzIwLmRhc2hfYmFzZWxpbmVfMV92MSJ9&_nc_ht=scontent-mad2-1.cdninstagram.com&_nc_cat=100&vs=340849248660960_1040807318&_nc_vs=HBksFQIYT2lnX3hwdl9yZWVsc19wZXJtYW5lbnRfcHJvZC80RDQ4OTgwNkRBM0VGQzZEMkYyMTg3OTFBNjI5QTlBOV92aWRlb19kYXNoaW5pdC5tcDQVAALIAQAVAhg6cGFzc3Rocm91Z2hfZXZlcnN0b3JlL0dDdmZzaGl0WEJFUmhYUVpBTFhidHlaY2tvUmRicV9FQUFBRhUCAsgBACgAGAAbAYgHdXNlX29pbAExFQAAJqSk%2F9qr%2Bvw%2FFQIoAkMzLBdAVmj1wo9cKRgSZGFzaF9iYXNlbGluZV8xX3YxEQB1AAA%3D&ccb=9-4&oh=00_AfA9D0kf7W8RHDKI5177EjLetaluGZhkPvzPxWTlC6N32w&oe=658C5C3A&_nc_sid=1d576d&_nc_rid=61f5f17afe', 'id': '18083910628407138'}, {'caption': '#cancelrussia #russiaterrorist #russiaisaterroriststate #україна #standwithukraine #ukraine #istandwithukraine #плакат #plakat #socialart #socialposter #socialartist #warinukraine #war #ukraineart #ukrainedesign #ukrainiandesigner #ukrainianart\\n#illustration #illustrationartist\\n#illustrator #posteroftheday #posters #posterdesigner #posterartist #poster #posterart', 'like_count': 4, 'permalink': 'https://www.instagram.com/p/C1UUNVptPwh/', 'timestamp': '2023-12-26T13:10:45+0000', 'media_type': 'IMAGE', 'comments_count': 0, 'media_url': 'https://scontent-mad2-1.cdninstagram.com/v/t51.29350-15/412675661_352248280837371_6372928167860611891_n.jpg?_nc_cat=109&ccb=1-7&_nc_sid=c4dd86&_nc_ohc=khhk3-7FnEMAX-qzUTf&_nc_ht=scontent-mad2-1.cdninstagram.com&edm=AEoDcc0EAAAA&oh=00_AfDHCcfrbun8usJX74Iil54J75fews-1pih_2rJk3XIrmg&oe=658FF94F', 'id': '17917032365838885'}, {'caption': 'An old military tradition is that friends who have not seen or heard from each other for long periods of time never question their friendship. These friendships resume at the same time they left off regardless of distance and time between them. We call these friends \"Family\". \\n I did not name anyone because there are way too many Family & Friends we have served with all around the world! Merry Christmas!!!\\nYou guys know who you are..\\n.\\n#veterans #warrior #war #soldier \\n#veteran #proud', 'like_count': 1, 'permalink': 'https://www.instagram.com/p/C1UUNBiMxDb/', 'timestamp': '2023-12-26T13:10:43+0000', 'media_type': 'IMAGE', 'comments_count': 0, 'media_url': 'https://scontent-mad1-1.cdninstagram.com/v/t51.29350-15/412631880_900278467956816_3722641769871088815_n.heic?stp=dst-jpg&_nc_cat=107&ccb=1-7&_nc_sid=c4dd86&_nc_ohc=etQAAjFMSPYAX-f5oSB&_nc_ht=scontent-mad1-1.cdninstagram.com&edm=AEoDcc0EAAAA&oh=00_AfCQoNJVw4B4nfVHc2dDMbaZVG9O8hTwaVWF9jW3m4gXYQ&oe=6590816E', 'id': '18020254123814861'}, {'caption': 'Andrew gets heated \\n\\n#andrewtate #interview #war #palestine #israel #god #podcast #fyp #games #minecraft', 'like_count': 1, 'permalink': 'https://www.instagram.com/reel/C1UT6qfpJvM/', 'timestamp': '2023-12-26T13:10:40+0000', 'media_type': 'VIDEO', 'comments_count': 0, 'media_url': 'https://scontent-mad2-1.cdninstagram.com/o1/v/t16/f1/m82/444C8CBBDC94CF3259215E26EC25F498_video_dashinit.mp4?efg=eyJ2ZW5jb2RlX3RhZyI6InZ0c192b2RfdXJsZ2VuLmNsaXBzLnVua25vd24tQzMuNzIwLmRhc2hfYmFzZWxpbmVfMV92MSJ9&_nc_ht=scontent-mad2-1.cdninstagram.com&_nc_cat=111&vs=276453495427489_2014990855&_nc_vs=HBksFQIYT2lnX3hwdl9yZWVsc19wZXJtYW5lbnRfcHJvZC80NDRDOENCQkRDOTRDRjMyNTkyMTVFMjZFQzI1RjQ5OF92aWRlb19kYXNoaW5pdC5tcDQVAALIAQAVAhg6cGFzc3Rocm91Z2hfZXZlcnN0b3JlL0dBa1F1Qmg0djUxSVEwa0lBR2hDaDhpVjZlTWJicV9FQUFBRhUCAsgBACgAGAAbAYgHdXNlX29pbAExFQAAJqj4p66ywOk%2FFQIoAkMzLBdARG7ZFocrAhgSZGFzaF9iYXNlbGluZV8xX3YxEQB1AAA%3D&ccb=9-4&oh=00_AfCIVKSx03eHaHFnfm0ktWCKFrNOKUSGvGJvi-0PA9iCGA&oe=658C75D6&_nc_sid=1d576d&_nc_rid=d7fbaa02ca', 'id': '18020823046800058'}, {'caption': '😎😎\\n#trending #reels #explore #wold #war #ronak_rajput914', 'like_count': 2, 'permalink': 'https://www.instagram.com/reel/C1UT3FwPL3i/', 'timestamp': '2023-12-26T13:10:40+0000', 'media_type': 'VIDEO', 'comments_count': 0, 'id': '17908400327869852'}, {'caption': 'دراسة جديدة تكشف عن ارتفاعٍ كبير في معدلات إقبال الإسرائيلـ...ــيين على المخـ.ـــدرات والكحـ...ــول للهرب من التبعات النفسية للحــ..ـــرب على غزة\\n\\n#عربي_بوست #غزة #حرب #كحول #مخدرات #مرض_نفسي\\n#ArabicPost #Gaza #War #Alcohol #Drugs #MentalIllness', 'like_count': 3, 'permalink': 'https://www.instagram.com/reel/C1UUF-giOlO/', 'timestamp': '2023-12-26T13:10:05+0000', 'media_type': 'VIDEO', 'comments_count': 0, 'media_url': 'https://scontent-mad2-1.cdninstagram.com/o1/v/t16/f1/m82/EB42472C8933A76981F178EDF318FDA6_video_dashinit.mp4?efg=eyJ2ZW5jb2RlX3RhZyI6InZ0c192b2RfdXJsZ2VuLmNsaXBzLnVua25vd24tQzMuNzIwLmRhc2hfYmFzZWxpbmVfMV92MSJ9&_nc_ht=scontent-mad2-1.cdninstagram.com&_nc_cat=104&vs=1444159926447898_1975470214&_nc_vs=HBksFQIYT2lnX3hwdl9yZWVsc19wZXJtYW5lbnRfcHJvZC9FQjQyNDcyQzg5MzNBNzY5ODFGMTc4RURGMzE4RkRBNl92aWRlb19kYXNoaW5pdC5tcDQVAALIAQAVAhg6cGFzc3Rocm91Z2hfZXZlcnN0b3JlL0dCNFd1QmphWFI0VUJCVURBRW04dnlNTWdZNERicV9FQUFBRhUCAsgBACgAGAAbAYgHdXNlX29pbAExFQAAJqjg0N%2FauYRAFQIoAkMzLBdAUTdLxqfvnhgSZGFzaF9iYXNlbGluZV8xX3YxEQB1AAA%3D&ccb=9-4&oh=00_AfAzhvxVXSguz7eS3yFWpdFfZVt_yoFAgyatmhCewYMoPg&oe=658C83F1&_nc_sid=1d576d&_nc_rid=ff44a6e18e', 'id': '18006514664239596'}, {'caption': 'The winner was Countryhumans and friends I made back then ft. purpley_ranyaw 🪧\\n\\n📃: just messing around. And gabut aja\\n\\n🌺: maaf kalo jelek, lagi afk otakku 💀\\n\\n#oc #ocs#ocean #skin #skinoc #art #artfanart #fanart #random #digital #drawing #ibispaint #ibispaintx  #countryhumans #country #countryhumansindonesia #countryindonesia #countryhumansindonesian #fpyシ #indonesia #countryhuman #ocdrawing #artdigital #fpy #followforfollowback #krs_arts213 #indonesia #gambarindonesia #gambardigital #anakbangsa #war', 'like_count': 11, 'permalink': 'https://www.instagram.com/p/C1UUHAmpdcc/', 'timestamp': '2023-12-26T13:09:53+0000', 'media_type': 'CAROUSEL_ALBUM', 'comments_count': 6, 'id': '18221131924250542'}, {'caption': 'mondoweiss #freepalestine 🇵🇸 #savepalestine #muslim #islam #palestine #war #israel #palestinewillbefree #islamic #trend #trending #arab #istandwithpalestine #saudiarabia #boycottstarbucks #sudan #uae #unitedarabemirates #us #unitedstates #islamic #boycott #boycottisrael #boycottisraelproducts #boycottisraelapartheid #nyc #newyorkcity #joebiden #rishisunak #democracy #vote', 'like_count': 1, 'permalink': 'https://www.instagram.com/p/C1UUGnqywhM/', 'timestamp': '2023-12-26T13:09:50+0000', 'media_type': 'IMAGE', 'comments_count': 0, 'media_url': 'https://scontent-mad2-1.cdninstagram.com/v/t51.29350-15/412685507_800638878534788_1042572712259274805_n.webp?stp=dst-jpg&_nc_cat=110&ccb=1-7&_nc_sid=c4dd86&_nc_ohc=kJ2W3gWiXDgAX-85r_U&_nc_ht=scontent-mad2-1.cdninstagram.com&edm=AEoDcc0EAAAA&oh=00_AfAdRSiianmzg41gJtMu4JbduUW34-WTEZ9z8BGe-UFcRQ&oe=65900D0B', 'id': '17873550411014890'}, {'caption': '«…полуроты против 20 танков»\\nфраза родственника в разговоре о том, что происходит на передовой.\\nСам он с минуса.\\n\\nПока на основании собственных знаний и наблюдений пишу статью про контузии\\nскажу: разговаривайте с военными. Много. Обо всем. Спокойно. Не повышая тон голоса. Им это нужно. Особенно когда звонят/пишут/присылают голосовые инициативно. Некоторые военные выезжают на время с позиций на гражданку по состоянию здоровья и совершенно не адаптированы к обыкновенной жизни.\\nПоддержите. \\nОтмечайте праздники тише. Впереди взрывная смесь уймы праздников. Громкие праздники и вычурность откровенно военным не нравятся.«Дякуємо за свята» оставьте себе. Подякуйте лучше донатом и необходимым. Это оценят. Ощутят, что не все потеряно и почувствуют себя нужными.\\n\\nПраздники должны быть. \\nНо тише…и культурнее\\nМы должны адаптировать гражданскую жизнь так, чтоб в новой реальности военным было комфортнее и легче.\\n⠀\\n⠀\\n⠀\\n⠀\\n⠀\\n⠀\\n⠀\\n⠀\\n#війна #україна #українасьогодні #war #ukraine #ukrainian #ukrainetoday #forest #wander #київ #kyiv #kyivgram #kyivtoday #celebration #newyear #допомогавійськовим #військовісьогодні', 'like_count': 0, 'permalink': 'https://www.instagram.com/p/C1UUE7Ztruf/', 'timestamp': '2023-12-26T13:09:36+0000', 'media_type': 'IMAGE', 'comments_count': 0, 'media_url': 'https://scontent-mad2-1.cdninstagram.com/v/t51.29350-15/412598909_685403953720857_8532654967275076852_n.jpg?_nc_cat=109&ccb=1-7&_nc_sid=c4dd86&_nc_ohc=pEwFObraBswAX_4kLP7&_nc_ht=scontent-mad2-1.cdninstagram.com&edm=AEoDcc0EAAAA&oh=00_AfCKjDbJA-p4DEAjzqg43LUMR0gRuEO2TcSprWv51BNQIw&oe=659076C1', 'id': '18411020848027478'}, {'caption': 'No😡more🔥arguments🥵only😤War😎👈.....😜\\n.\\n.\\n.\\n.\\n.\\n#war #rowdy #trending #post #fire #like #kakinada #papular', 'like_count': 9, 'permalink': 'https://www.instagram.com/p/C1UUDZQvAv-/', 'timestamp': '2023-12-26T13:09:24+0000', 'media_type': 'IMAGE', 'comments_count': 1, 'media_url': 'https://scontent-mad1-1.cdninstagram.com/v/t51.29350-15/412577500_165708806627048_1950662805955871861_n.webp?stp=dst-jpg&_nc_cat=107&ccb=1-7&_nc_sid=c4dd86&_nc_ohc=ShIr0Q051EkAX9doiuf&_nc_ht=scontent-mad1-1.cdninstagram.com&edm=AEoDcc0EAAAA&oh=00_AfDjDVz3Kx_lhAchqce751LxO_Amk-s3DVCQDIrRn-05mQ&oe=65908756', 'id': '18037318633634963'}, {'caption': 'Indira Gandhi ✨🔥\\n.\\n.\\n.\\n#indira #indiragandhi #india #indian #🇮🇳 #nationalist #patriot #patriots #jaihind #jaihind🇮🇳 #congress #politics #geopolitics #political #politicalmemes #modi #narendramodi #primeminister #modiji #military #army #war #1971 #instagram #instareels #instagood', 'like_count': 0, 'permalink': 'https://www.instagram.com/reel/C1UTN5CLeqC/', 'timestamp': '2023-12-26T13:06:24+0000', 'media_type': 'VIDEO', 'comments_count': 0, 'media_url': 'https://scontent-mad2-1.cdninstagram.com/o1/v/t16/f1/m82/244537114F60663BE3150994777C2E93_video_dashinit.mp4?efg=eyJ2ZW5jb2RlX3RhZyI6InZ0c192b2RfdXJsZ2VuLmNsaXBzLnVua25vd24tQzMuNzIwLmRhc2hfYmFzZWxpbmVfMV92MSJ9&_nc_ht=scontent-mad2-1.cdninstagram.com&_nc_cat=107&vs=310672294624793_1114141535&_nc_vs=HBksFQIYT2lnX3hwdl9yZWVsc19wZXJtYW5lbnRfcHJvZC8yNDQ1MzcxMTRGNjA2NjNCRTMxNTA5OTQ3NzdDMkU5M192aWRlb19kYXNoaW5pdC5tcDQVAALIAQAVAhg6cGFzc3Rocm91Z2hfZXZlcnN0b3JlL0dKUmZsQmh2R0pSV05tQUJBTzNjQnZwZzBoQUdicV9FQUFBRhUCAsgBACgAGAAbAYgHdXNlX29pbAExFQAAJpTu1vON5fU%2FFQIoAkMzLBdATy7ZFocrAhgSZGFzaF9iYXNlbGluZV8xX3YxEQB1AAA%3D&ccb=9-4&oh=00_AfA5VkqMbg5_aOS-j_cFOQ5Axkwj-lN_Kj4ObS_G8VnxhQ&oe=658CC989&_nc_sid=1d576d&_nc_rid=523798dd39', 'id': '17982644396412771'}, {'caption': 'Schreibe deine Meinung dazu\\n#Gaza\\n#news\\n#Nachrichten \\n#Israel\\n#Wahrheit\\n#aktuelles\\n#Politik\\n#krieg \\n#war', 'like_count': 1, 'permalink': 'https://www.instagram.com/reel/C1UJocUMiiq/', 'timestamp': '2023-12-26T11:39:50+0000', 'media_type': 'VIDEO', 'comments_count': 0, 'media_url': 'https://scontent-mad2-1.cdninstagram.com/o1/v/t16/f1/m82/75471614E65EA9118E1BF13D6D09ABAD_video_dashinit.mp4?efg=eyJ2ZW5jb2RlX3RhZyI6InZ0c192b2RfdXJsZ2VuLmNsaXBzLnVua25vd24tQzMuNzIwLmRhc2hfYmFzZWxpbmVfMV92MSJ9&_nc_ht=scontent-mad2-1.cdninstagram.com&_nc_cat=106&vs=1346469765977479_3098066640&_nc_vs=HBksFQIYT2lnX3hwdl9yZWVsc19wZXJtYW5lbnRfcHJvZC83NTQ3MTYxNEU2NUVBOTExOEUxQkYxM0Q2RDA5QUJBRF92aWRlb19kYXNoaW5pdC5tcDQVAALIAQAVAhg6cGFzc3Rocm91Z2hfZXZlcnN0b3JlL0dIRml0QmpReExtRDI4SVhBSEJvZnRrcmlGRnpicV9FQUFBRhUCAsgBACgAGAAbAYgHdXNlX29pbAExFQAAJpyC3LGH%2FuE%2FFQIoAkMzLBdAVQgQYk3S8hgSZGFzaF9iYXNlbGluZV8xX3YxEQB1AAA%3D&ccb=9-4&oh=00_AfDI_d_unBwUAwY5K3HRehxg5pZacu7rLUKv2ai3SrM_Ig&oe=658C8573&_nc_sid=1d576d&_nc_rid=7ce5a6afd0', 'id': '17858818884076560'}], 'paging': {'cursors': {'after': 'UVZAGRU5FVmhRbFowVjNKNGVGUXRWRVZAVY1hKMVh6Sm1halJ2TUVwemQzQndjVVYwVFVKcFZAsZAFBkblpzZAUdWbmRYVTJXWFk1VVU1WFZAISXlYM2RZAWDFOa1FYbDNSSFEzTWxRMFNVWm9WMWh0YlhOVGVqRnFNZAz09'}, 'next': 'https://graph.facebook.com/v18.0/17843857138016461/recent_media?access_token=EAAKb83xTK40BO7gBDVcd3GoFsLMwJFEv1MrkbdbqpTKOVeA2a0GuZCnusq2SuGeD4IG2GjbeEV5OkV4dzHEN53KTRoDgnsKlsPLAIkuo2Yz7zdtEYRl3IvM4mHct3e6syQu0MjKt4wq3FViWZBkms1jGhxbFmOe8ZALYRQNfOBTOs4wH9I5v4kC&user_id=17841402187545471&fields=caption%2Clike_count%2Cpermalink%2Ctimestamp%2Cmedia_type%2Ccomments_count%2Cmedia_url&limit=25&after=UVZAGRU5FVmhRbFowVjNKNGVGUXRWRVZAVY1hKMVh6Sm1halJ2TUVwemQzQndjVVYwVFVKcFZAsZAFBkblpzZAUdWbmRYVTJXWFk1VVU1WFZAISXlYM2RZAWDFOa1FYbDNSSFEzTWxRMFNVWm9WMWh0YlhOVGVqRnFNZAz09'}}\n",
      "2023-12-26T13:09:22+0000\n",
      "2023-12-26T13:01:36+0000\n",
      "2023-12-26T12:55:10+0000\n",
      "2023-12-26T12:48:04+0000\n",
      "2023-12-26T12:41:22+0000\n",
      "2023-12-26T12:31:05+0000\n",
      "2023-12-26T12:20:15+0000\n"
     ]
    }
   ],
   "source": [
    "\n",
    "while True:\n",
    "    posts = get_all_posts_since_24hours(['war'],access_token,instagram_account_id)\n",
    "    print(f\"posts succesfull getted {len(posts)}\")\n",
    "    print(f\"posts succesfull getted {client['bda']['posts'].count_documents({})}\")\n"
   ]
  },
  {
   "cell_type": "markdown",
   "metadata": {},
   "source": [
    "I searched after the popularst hastags for the palätina isreal war. So I have searched 5 different hastags for the palästina side and 5 for isreal. For the palästina side I fount the hashtags #FreePalestine, #palistina, #savepalestine, #alquds (the holy city), gazaunderattack, #palestinewillbefree, #palastine. For the isreal side I have : #IsraelUnderAttack, #FreeIsrael, #israel, #proisrael (30000), #standwithisreal, #BringThemHomeNow. I will put all posts in one collection into a mongodb database.Also we take the hashtag #war to see a more broader overview of what is discussed under this hashtag."
   ]
  },
  {
   "cell_type": "code",
   "execution_count": 3,
   "metadata": {},
   "outputs": [],
   "source": [
    "# get data for hashtags\n",
    "hashtags_for_palästina = ['freepalestine', 'palestine', 'savepalestine','palestinewillbefree','gazaunderattack','gaza']\n",
    "hashtags_for_isreal = ['IsraelUnderAttack', 'prayforisrael', 'israel', 'proisrael', 'standwithisrael', 'BringThemHomeNow']\n",
    "hashtags_for_general_war = ['war']"
   ]
  },
  {
   "cell_type": "code",
   "execution_count": 4,
   "metadata": {},
   "outputs": [
    {
     "name": "stdout",
     "output_type": "stream",
     "text": [
      "{'call_count': 20, 'total_cputime': 0, 'total_time': 41}\n",
      "{'call_count': 25, 'total_cputime': 0, 'total_time': 43}\n",
      "data for hashtag\n",
      "{'id': '17841596584074200', 'name': 'israel'}\n",
      "{'call_count': 27, 'total_cputime': 0, 'total_time': 43}\n",
      "{'data': [{'caption': 'Für Amine war der Gaza-Streifen immer weit weg - sie wuchs als Tochter eines Palästinensers in Deutschland auf. Doch seit dem Terroranschlag der radikal-islamischen Hamas auf Israel wird sie immer wieder nach ihrer Meinung zum Nahostkonflikt gefragt und soll Stellung beziehen, obwohl sie nicht mehr Informationen habe als die anderen, sagt sie. Und dennoch: Aufgrund ihres palästinensischen Hintergrundes empfindet sie es als ihre Pflicht, zu vermitteln. Amine möchte Lehrerin werden und Kinder im Kampf gegen Antisemitismus aufklären. \\n \\nIn den Medien und der öffentlichen Diskussion vermisst sie oft die palästinensische Seite. \"Das ist ungerecht und vermittelt Menschen mit palästinensischen Wurzeln das Gefühl, ausgegrenzt und benachteiligt zu werden. Das bringt den Unmut\", sagt Amine. Im Alltag versucht sie, Verständnis für beide Seiten zu vermitteln.\\n \\nDen ganzen Artikel findet ihr auf unserer Webseite - Link in unserer Bio 👉 ndrsh\\n•\\n#NDRsh #SchleswigHolstein #NDR #Norddeutschland #Nachrichten #Kiel #Nahostkonflikt #Israel #Palästina', 'like_count': 0, 'permalink': 'https://www.instagram.com/p/C1UVFb_RSnM/', 'timestamp': '2023-12-26T13:18:28+0000', 'media_type': 'IMAGE', 'comments_count': 0, 'media_url': 'https://scontent-mad1-1.cdninstagram.com/v/t51.2885-15/412725692_686632703382694_8113280340766624744_n.jpg?_nc_cat=101&ccb=1-7&_nc_sid=c4dd86&_nc_ohc=MyMD_4ExQZgAX__1Hr8&_nc_oc=AQleYEI7K0EBpKahT5yulMbug8Ay9z9ieAsagY1RRvMebamd6eVTv-axBY8Jk2mdzgM&_nc_ht=scontent-mad1-1.cdninstagram.com&edm=AEoDcc0EAAAA&oh=00_AfBcihxBFODPZwpH54sSOPZuCJgAiFg4W22euElxW578Fw&oe=6590469B', 'id': '18000593309121305'}, {'caption': 'Desde o dia 3 de dezembro, o conjunto da esquerda nacional não organizou mais qualquer ato público em apoio ao povo palestino em São Paulo, centro da luta política no País. Ainda que o Partido da Causa Operária (PCO) tenha convocado a caminhada contra o assassinato das crianças palestinas, ocorrido no dia 17, a atividade não contou com o apoio das demais organizações que vinham participando dos atos contra o genocídio na Faixa de Gaza.\\n\\nIndependente dos motivos alegados pelas organizações, a falta de atos públicos é o resultado de uma capitulação diante da pressão do sionismo, do bolsonarismo e do imperialismo contra o movimento de solidariedade à resistência árabe. A imprensa burguesa se cartelizou e ataca, diuturnamente, aqueles que se colocam ao lado do povo palestino, acusando-os de “terroristas” e de “antissemitas”. A Polícia Federal, infiltrada pelo Mossad, serviço de inteligência israelense, já prendeu três pessoas por supostas relações com o partido libanês Hesbolá, protagonizando um dos casos mais grotescos de perseguição política. Figuras de destaque do bolsonarismo, por sua vez, começaram a pedir a prisão daqueles que manifestassem seu apoio à luta palestina, de tal forma que dois dirigentes do PCO hoje correm risco de serem presos por declarações feitas em atos públicos. Por fim, o próprio Judiciário brasileiro censurou o jornalista Breno Altman, filiado ao Partido dos Trabalhadores (PT), obrigando-o a retirar publicações de suas redes sociais.\\n\\nEsses casos mostram que tudo o que a direita quer é que não haja um movimento em apoio aos palestinos. E é por isso que não se manifestar é uma capitulação: não há forma melhor de demonstrar força que sair às ruas. (...)\\n\\nContinue lendo no diariocausaoperaria\\n\\n#venezuela #essequibo #essequibobelongstovenezuela #maduro #nicolasmaduro #parana #curitiba #brasil #brasil🇧🇷 #israel #palestine #palestine🇵🇸 #palestine #genocidio #freepalestine #freeassange #pco #comitesdeluta #comitedeluta #comunismo #comunism #socialismo #socialism #marxism #marx #marxismo #trotskismo #trotskyism #esquerda #lulapresidente #lula', 'like_count': 0, 'permalink': 'https://www.instagram.com/p/C1UVEsjrmHk/', 'timestamp': '2023-12-26T13:18:19+0000', 'media_type': 'IMAGE', 'comments_count': 0, 'media_url': 'https://scontent-mad1-1.cdninstagram.com/v/t51.29350-15/412714214_392891203163801_7702954469179567041_n.webp?stp=dst-jpg&_nc_cat=106&ccb=1-7&_nc_sid=c4dd86&_nc_ohc=ytNcgNz_u5wAX_03B7r&_nc_ht=scontent-mad1-1.cdninstagram.com&edm=AEoDcc0EAAAA&oh=00_AfA7scB57qZK4UL9AkLdZTYVp0L8ZZSzStuUUBKrTtSkyw&oe=65900496', 'id': '18111431008317066'}, {'caption': '#pray\\n\\n#japan\\n\\n#nagasaki \\n\\n#worldpeace\\n\\n#jew \\n\\n#prayforturkey\\n\\n#prayforsyria\\n \\n#prayfortheworld \\n\\n#realmadrid \\n\\n#rezo\\n\\n#turkia\\n\\n#syria \\n\\n#ucraina\\n\\n#sudan\\n\\n#israel\\n\\n#palestine', 'like_count': 0, 'permalink': 'https://www.instagram.com/p/C1UVEc5P7X5/', 'timestamp': '2023-12-26T13:18:17+0000', 'media_type': 'IMAGE', 'comments_count': 0, 'media_url': 'https://scontent-mad2-1.cdninstagram.com/v/t51.29350-15/412635367_4374000806158859_2633077226740787671_n.jpg?_nc_cat=100&ccb=1-7&_nc_sid=c4dd86&_nc_ohc=g8FpqDrbv7EAX_B80EK&_nc_oc=AQmcc7cxfnK0raCItxJVvePue3CHB6WIMmYfut0MXP85yCcTOORYlN2sSXtynFD813k&_nc_ht=scontent-mad2-1.cdninstagram.com&edm=AEoDcc0EAAAA&oh=00_AfApgsJE99vUZ-4-xh9S4rFU4G3kdVFToMnFbpWFj81WzA&oe=65901134', 'id': '17858665356079925'}, {'caption': '😢😢😢 #freepalestine #savechildrenpalestine #Israel #usa #us', 'like_count': 0, 'permalink': 'https://www.instagram.com/reel/C1UVCEgITtp/', 'timestamp': '2023-12-26T13:18:13+0000', 'media_type': 'VIDEO', 'comments_count': 0, 'media_url': 'https://scontent-mad2-1.cdninstagram.com/o1/v/t16/f1/m82/224CAB14248AE72C8BE880B6D77561A3_video_dashinit.mp4?efg=eyJ2ZW5jb2RlX3RhZyI6InZ0c192b2RfdXJsZ2VuLmNsaXBzLnVua25vd24tQzMuNzIwLmRhc2hfYmFzZWxpbmVfMV92MSJ9&_nc_ht=scontent-mad2-1.cdninstagram.com&_nc_cat=105&vs=2063965907270351_2669534798&_nc_vs=HBksFQIYT2lnX3hwdl9yZWVsc19wZXJtYW5lbnRfcHJvZC8yMjRDQUIxNDI0OEFFNzJDOEJFODgwQjZENzc1NjFBM192aWRlb19kYXNoaW5pdC5tcDQVAALIAQAVAhg6cGFzc3Rocm91Z2hfZXZlcnN0b3JlL0dMZEF1eGd0aWt5eVB6OERBQVhQckpVZTBDRVVicV9FQUFBRhUCAsgBACgAGAAbAYgHdXNlX29pbAExFQAAJv6xyf%2BAqIBAFQIoAkMzLBdAQb2RaHKwIRgSZGFzaF9iYXNlbGluZV8xX3YxEQB1AAA%3D&ccb=9-4&oh=00_AfA43pJB-h7lK1cKPk4x77IbprSIdvFvDRNaJE_Jvlv4hQ&oe=658C93FE&_nc_sid=1d576d&_nc_rid=6e18bc6219', 'id': '18034120837664890'}, {'caption': 'Censorship is real. Shaun King banned from IG for sharing ACTUAL GENOCIDE THAT IS STILL HAPPENING THAT AMERICA IS COMPLICIT …. and yet billionaire Trump can incite violence on the Capital building and keep Tweeting BS with zero facts #fakenews - Nothing—where’s his ban?? meta #hypocrisy \\n\\n#istandwithpalestine theshaunking #america #usa #gaza #palestine #family #i #israel #war #follow #money #capitalism #censorshipisreal #instagram #socialmedia', 'like_count': 0, 'permalink': 'https://www.instagram.com/reel/C1UUiEROG_1/', 'timestamp': '2023-12-26T13:18:12+0000', 'media_type': 'VIDEO', 'comments_count': 0, 'media_url': 'https://scontent-mad2-1.cdninstagram.com/o1/v/t16/f1/m82/D34A384448EDB7FF2553442F9E21EAA2_video_dashinit.mp4?efg=eyJ2ZW5jb2RlX3RhZyI6InZ0c192b2RfdXJsZ2VuLmNsaXBzLnVua25vd24tQzMuNDgwLmRhc2hfYmFzZWxpbmVfMV92MSJ9&_nc_ht=scontent-mad2-1.cdninstagram.com&_nc_cat=111&vs=1024472845446459_4034841311&_nc_vs=HBksFQIYT2lnX3hwdl9yZWVsc19wZXJtYW5lbnRfcHJvZC9EMzRBMzg0NDQ4RURCN0ZGMjU1MzQ0MkY5RTIxRUFBMl92aWRlb19kYXNoaW5pdC5tcDQVAALIAQAVAhg6cGFzc3Rocm91Z2hfZXZlcnN0b3JlL0dLaVh1eGpkRXdOQ2sxd0JBTFhYVzJRNDAxeGlicV9FQUFBRhUCAsgBACgAGAAbAYgHdXNlX29pbAExFQAAJv716uqUzLo%2FFQIoAkMzLBdAVoGJN0vGqBgSZGFzaF9iYXNlbGluZV8xX3YxEQB1AAA%3D&ccb=9-4&oh=00_AfDxga6rZ9vzJTrKusFKLVBqz2kG9U72CCFKt-5gNL39fw&oe=658C9B32&_nc_sid=1d576d&_nc_rid=9a155ffd23', 'id': '17998263899355919'}, {'caption': '#pray\\n\\n#japan\\n\\n#nagasaki \\n\\n#worldpeace\\n\\n#jew \\n\\n#prayforturkey\\n\\n#prayforsyria\\n \\n#prayfortheworld \\n\\n#realmadrid \\n\\n#rezo\\n\\n#turkia\\n\\n#syria \\n\\n#ucraina\\n\\n#sudan\\n\\n#israel\\n\\n#palestine', 'like_count': 0, 'permalink': 'https://www.instagram.com/p/C1UVDfXv5j6/', 'timestamp': '2023-12-26T13:18:09+0000', 'media_type': 'IMAGE', 'comments_count': 0, 'media_url': 'https://scontent-mad2-1.cdninstagram.com/v/t51.29350-15/412722436_1516309085889182_8610778140580588411_n.jpg?_nc_cat=110&ccb=1-7&_nc_sid=c4dd86&_nc_ohc=g4ikJ-w7VJIAX_gGmce&_nc_ht=scontent-mad2-1.cdninstagram.com&edm=AEoDcc0EAAAA&oh=00_AfCcFGzWrNS1Bc5bf-4Dxx-a2XIOqiy-11s2RBIZD-F79Q&oe=658ECADE', 'id': '18050204464492104'}, {'caption': 'Defence Minister Rajnath Singh assures that the perpetrators in the Red Sea drone attack will be traced even from the depths of the seas.\\n\\nLink in bio🔗\\n.\\n.\\n.\\n.\\n#rajnathsingh #defenceminister #redsea #droneattack #iran #israel', 'like_count': 0, 'permalink': 'https://www.instagram.com/p/C1UVDYKrT06/', 'timestamp': '2023-12-26T13:18:08+0000', 'media_type': 'CAROUSEL_ALBUM', 'comments_count': 0, 'id': '17895765854946655'}, {'caption': '#pray\\n\\n#japan\\n\\n#nagasaki \\n\\n#worldpeace\\n\\n#jew \\n\\n#prayforturkey\\n\\n#prayforsyria\\n \\n#prayfortheworld \\n\\n#realmadrid \\n\\n#rezo\\n\\n#turkia\\n\\n#syria \\n\\n#ucraina\\n\\n#sudan\\n\\n#israel\\n\\n#palestine', 'like_count': 0, 'permalink': 'https://www.instagram.com/p/C1UVCWrvFwz/', 'timestamp': '2023-12-26T13:18:00+0000', 'media_type': 'IMAGE', 'comments_count': 0, 'media_url': 'https://scontent-mad1-1.cdninstagram.com/v/t51.29350-15/413453962_364790409534234_786829096074075392_n.jpg?_nc_cat=106&ccb=1-7&_nc_sid=c4dd86&_nc_ohc=4EjeZxkKzFgAX9PtXwL&_nc_ht=scontent-mad1-1.cdninstagram.com&edm=AEoDcc0EAAAA&oh=00_AfBeDAFfvUtHj5mvflCf0XoOalfqEHpQnESbV0euKm6z8g&oe=658F8950', 'id': '18036914401649983'}, {'caption': 'इस भगवे को रोक सके वो कौन मय का लाल है 🚩🔥\\n\\n#sanatandharma #hindu #hindustan #india #indianfood #indianphotography #indian #reelsindia #pkmkb #pakistan #islam #muslim #muslimah #modi #narendramodi #yogi #yogiadityanath #hinduism #hindutva #hindutemple #like #likesforlike #instalike #israel #palistine #indiastandswithisrael  #trending #trendingreels #trendingnow', 'like_count': 0, 'permalink': 'https://www.instagram.com/reel/C1UU8CAIwNQ/', 'timestamp': '2023-12-26T13:17:47+0000', 'media_type': 'VIDEO', 'comments_count': 0, 'media_url': 'https://scontent-mad2-1.cdninstagram.com/o1/v/t16/f1/m82/5F4CB8E4CDD3161D110817C64054B1A6_video_dashinit.mp4?efg=eyJ2ZW5jb2RlX3RhZyI6InZ0c192b2RfdXJsZ2VuLmNsaXBzLnVua25vd24tQzMuNzIwLmRhc2hfYmFzZWxpbmVfMV92MSJ9&_nc_ht=scontent-mad2-1.cdninstagram.com&_nc_cat=101&vs=345536004866561_1211049757&_nc_vs=HBksFQIYT2lnX3hwdl9yZWVsc19wZXJtYW5lbnRfcHJvZC81RjRDQjhFNENERDMxNjFEMTEwODE3QzY0MDU0QjFBNl92aWRlb19kYXNoaW5pdC5tcDQVAALIAQAVAhg6cGFzc3Rocm91Z2hfZXZlcnN0b3JlL0dENkVzaGdCaHlmRlJEc0dBRGhROWdTMm5qdzdicV9FQUFBRhUCAsgBACgAGAAbAYgHdXNlX29pbAExFQAAJvCfp7TO2ptAFQIoAkMzLBdAMfLxqfvnbRgSZGFzaF9iYXNlbGluZV8xX3YxEQB1AAA%3D&ccb=9-4&oh=00_AfA9cTCfF9q6uVVPAiOVyVa-CifTKgy5XuM1KKgCO-5xWQ&oe=658C5439&_nc_sid=1d576d&_nc_rid=68d766f677', 'id': '18027186427870311'}, {'caption': 'לא מגלים איפה בחנות מיקמנו אותו, כדי לא לתת נ״צ למל״טים עוינים🙃🇮🇱\\n\\n#manteca #beersheva #israel #style #shop #cool #fashion #urban #champion #buckethat #hat #championhat #championbuckethat #bucket', 'like_count': 0, 'permalink': 'https://www.instagram.com/p/C1UVAULob6u/', 'timestamp': '2023-12-26T13:17:43+0000', 'media_type': 'IMAGE', 'comments_count': 0, 'media_url': 'https://scontent-mad2-1.cdninstagram.com/v/t51.29350-15/412771892_385742590484069_3105004643412862197_n.jpg?_nc_cat=100&ccb=1-7&_nc_sid=c4dd86&_nc_ohc=Ebw-CFT1jXwAX__SNfY&_nc_ht=scontent-mad2-1.cdninstagram.com&edm=AEoDcc0EAAAA&oh=00_AfA85XLg_r3QYgHPYHufJDJT4BUCDPuvMG1twMbzEsHghw&oe=6590237E', 'id': '18031701754692089'}, {'caption': 'mondoweiss #freepalestine 🇵🇸 #savepalestine #muslim #islam #palestine #war #israel #palestinewillbefree #islamic #trend #trending #arab #istandwithpalestine #saudiarabia #boycottstarbucks #sudan #uae #unitedarabemirates #us #unitedstates #islamic #boycott #boycottisrael #boycottisraelproducts #boycottisraelapartheid #nyc #newyorkcity #joebiden #rishisunak #democracy #vote', 'like_count': 1, 'permalink': 'https://www.instagram.com/p/C1UVAD2ybCH/', 'timestamp': '2023-12-26T13:17:41+0000', 'media_type': 'IMAGE', 'comments_count': 0, 'media_url': 'https://scontent-mad1-1.cdninstagram.com/v/t51.29350-15/412577233_673140375017730_5587120020700604431_n.webp?stp=dst-jpg&_nc_cat=106&ccb=1-7&_nc_sid=c4dd86&_nc_ohc=JEI4IahqKF4AX_0DLTQ&_nc_oc=AQmnmWfF9msOFmESfUElBtQ8Jx4yFwA8vp3Cb5W9UGrs42TRC8W-cWzgbVkdrBcdy2A&_nc_ht=scontent-mad1-1.cdninstagram.com&edm=AEoDcc0EAAAA&oh=00_AfCHZCvxEasldjUEEgQv82Bpir1MVPah1sJzPcTKSVYyfQ&oe=658FAA5B', 'id': '17950201922720630'}, {'caption': '#palestine #freepalestine #gaza #islam #israel #jerusalem #savepalestine #muslim #syria #palestina #indonesia #palestinian #love #lebanon #alquds #turkey #jordan #westbank #palestinewillbefree #allah #savegaza #alaqsa #iraq #quran #gazaunderattack #standwithgaza #standwithpalestine #egypt #hijrah #prayforpalestine', 'like_count': 0, 'permalink': 'https://www.instagram.com/reel/C1UU-LzoDh2/', 'timestamp': '2023-12-26T13:17:36+0000', 'media_type': 'VIDEO', 'comments_count': 0, 'media_url': 'https://scontent-mad2-1.cdninstagram.com/o1/v/t16/f1/m82/08479B733EAF705A8C9A2D457C297B90_video_dashinit.mp4?efg=eyJ2ZW5jb2RlX3RhZyI6InZ0c192b2RfdXJsZ2VuLmNsaXBzLnVua25vd24tQzMuNzIwLmRhc2hfYmFzZWxpbmVfMV92MSJ9&_nc_ht=scontent-mad2-1.cdninstagram.com&_nc_cat=111&vs=695183889397316_3598476397&_nc_vs=HBkcFQIYT2lnX3hwdl9yZWVsc19wZXJtYW5lbnRfcHJvZC8wODQ3OUI3MzNFQUY3MDVBOEM5QTJENDU3QzI5N0I5MF92aWRlb19kYXNoaW5pdC5tcDQVAALIAQAoABgAGwGIB3VzZV9vaWwBMRUAACbOtsvPkdiJQRUCKAJDMywXQBAAAAAAAAAYEmRhc2hfYmFzZWxpbmVfMV92MREAdQAA&ccb=9-4&oh=00_AfAkOKA58KhpnkYC7DMn5Py0Z1oUzG2P601N-3nb29ujpA&oe=658C4FD6&_nc_sid=1d576d&_nc_rid=9edb823ecd', 'id': '17979499424474576'}, {'caption': 'Namos e risalat by hafizabdulmuttalibrizvi #short #israel #islam #islamic #jihad #quran #explorepage #explore #allah', 'like_count': 1, 'permalink': 'https://www.instagram.com/reel/C1UUd4TPi4W/', 'timestamp': '2023-12-26T13:16:55+0000', 'media_type': 'VIDEO', 'comments_count': 0, 'media_url': 'https://scontent-mad2-1.cdninstagram.com/o1/v/t16/f1/m82/414FFC974083649C7DC317D070EAA384_video_dashinit.mp4?efg=eyJ2ZW5jb2RlX3RhZyI6InZ0c192b2RfdXJsZ2VuLmNsaXBzLnVua25vd24tQzMuNzIwLmRhc2hfYmFzZWxpbmVfMV92MSJ9&_nc_ht=scontent-mad2-1.cdninstagram.com&_nc_cat=101&vs=1433684174203548_975937810&_nc_vs=HBksFQIYT2lnX3hwdl9yZWVsc19wZXJtYW5lbnRfcHJvZC80MTRGRkM5NzQwODM2NDlDN0RDMzE3RDA3MEVBQTM4NF92aWRlb19kYXNoaW5pdC5tcDQVAALIAQAVAhg6cGFzc3Rocm91Z2hfZXZlcnN0b3JlL0dFSVBzUmhwMXJVdnByc0RBT1ppYkVLTDZkZGRicV9FQUFBRhUCAsgBACgAGAAbAYgHdXNlX29pbAExFQAAJpaAgLv874RAFQIoAkMzLBdATdU%2FfO2RaBgSZGFzaF9iYXNlbGluZV8xX3YxEQB1AAA%3D&ccb=9-4&oh=00_AfDQLODvuKOPR5q4DxadhunNSFivo_VnZ_51r0knsXgHEA&oe=658C4D8A&_nc_sid=1d576d&_nc_rid=2b8b2b697f', 'id': '17883012413930949'}, {'caption': 'PALESTINA | Egipto Propone Iniciativa para Poner Fin al Conflicto Israel-Hamás\\n\\nEl presidente egipcio, en una histórica declaración, anunció una propuesta de tres fases para terminar con la guerra en Oriente Medio:\\n-\\nAlto el Fuego Inmediato: Durante 2-3 semanas, se realizará un intercambio humanitario: 40 rehenes israelíes serán liberados a cambio de 120 prisioneros palestinos.\\n\\nDiálogo Interpalestino: Egipto lidera la entrega de ayuda y la reconstrucción en Gaza para preparar elecciones, supervisando el proceso hacia un diálogo intrapalestino.\\n\\nAlto el Fuego Definitivo: Con retirada total de fuerzas de ocupación, retorno de desplazados y un amplio canje de prisioneros.\\n\\nLa iniciativa fue presentada a Hamás en El Cairo, pero hay informes contradictorios sobre su aceptación. Israel, aunque conoce el plan, muestra resistencia según declaraciones del Primer Ministro Netanyahu.\\n\\n\"No nos queda más remedio que seguir luchando hasta la victoria\", afirmó Netanyahu. \"Hasta que los secuestrados regresen, Hamás no será eliminado, y no habrá seguridad en el norte y el sur de Israel.\"\\n\\n#Egipto #Israel #Palestina', 'like_count': 5, 'permalink': 'https://www.instagram.com/p/C1UU6MJuPPI/', 'timestamp': '2023-12-26T13:16:53+0000', 'media_type': 'CAROUSEL_ALBUM', 'comments_count': 0, 'id': '18027070885702202'}, {'caption': '#palestine #freepalestine #gaza #islam #israel #jerusalem #savepalestine #muslim #syria #palestina #indonesia #palestinian #love #lebanon #alquds #turkey #jordan #westbank #palestinewillbefree #allah #savegaza #alaqsa #iraq #quran #gazaunderattack #standwithgaza #standwithpalestine #egypt #hijrah #prayforpalestine', 'like_count': 0, 'permalink': 'https://www.instagram.com/reel/C1UU2Q0oFhU/', 'timestamp': '2023-12-26T13:16:47+0000', 'media_type': 'VIDEO', 'comments_count': 0, 'media_url': 'https://scontent-mad2-1.cdninstagram.com/o1/v/t16/f1/m82/1947D213C333AA5428BCEA31E8436E93_video_dashinit.mp4?efg=eyJ2ZW5jb2RlX3RhZyI6InZ0c192b2RfdXJsZ2VuLmNsaXBzLnVua25vd24tQzMuNDgwLmRhc2hfYmFzZWxpbmVfMV92MSJ9&_nc_ht=scontent-mad2-1.cdninstagram.com&_nc_cat=101&vs=1529088771222455_1133920671&_nc_vs=HBksFQIYT2lnX3hwdl9yZWVsc19wZXJtYW5lbnRfcHJvZC8xOTQ3RDIxM0MzMzNBQTU0MjhCQ0VBMzFFODQzNkU5M192aWRlb19kYXNoaW5pdC5tcDQVAALIAQAVAhg6cGFzc3Rocm91Z2hfZXZlcnN0b3JlL0dIclR2QmlvTEgzU3VTVUJBS1otRnpUc1lTeDdicV9FQUFBRhUCAsgBACgAGAAbAYgHdXNlX29pbAExFQAAJqyUy62ygYBAFQIoAkMzLBdARUQ5WBBiThgSZGFzaF9iYXNlbGluZV8xX3YxEQB1AAA%3D&ccb=9-4&oh=00_AfC11bIIjHmnk_CtwFB1l9UZF-792q9MG6KpmFbyHbGhgQ&oe=658C72BF&_nc_sid=1d576d&_nc_rid=5b65c72f76', 'id': '18024297652732174'}, {'caption': 'They say justice is blind. I guess that’s true. But not for the reasons we thought. ⚖️🙈\\n\\n📸: swaha_cartoons \\n\\n#freepalestine #palestine #gaza #islam #muslim #ceasefirenow #FreePalestine #gazaunderattack #israel #istandwithpalestine #ceasefirenow🇵🇸 #jerusalem #palestina #love #christmas #allah #merrychristmas #savepalestine #explore #alquds #savegaza #instagram #fyp #ceasefire #Gaza #gazagenocide #alaqsa #palestinewillbefree #islamicquotes #quran', 'like_count': 0, 'permalink': 'https://www.instagram.com/p/C1UU2s_C4P7/', 'timestamp': '2023-12-26T13:16:24+0000', 'media_type': 'IMAGE', 'comments_count': 0, 'media_url': 'https://scontent-mad2-1.cdninstagram.com/v/t51.29350-15/412370604_1294746857861244_5120293993851607069_n.jpg?_nc_cat=109&ccb=1-7&_nc_sid=c4dd86&_nc_ohc=1OmPIh6DvNMAX80trWW&_nc_ht=scontent-mad2-1.cdninstagram.com&edm=AEoDcc0EAAAA&oh=00_AfAdtgvL1lPwnNDy7H4sNDFMAp3cT_OmBTkBgMzv2kHWTQ&oe=658F5350', 'id': '17888549072966784'}, {'caption': 'adelatheer holylandspeaks #freepalestine 🇵🇸 #savepalestine #muslim #islam #palestine #war #israel #palestinewillbefree #islamic #trend #trending #arab #istandwithpalestine #saudiarabia #boycottstarbucks #sudan #uae #unitedarabemirates #us #unitedstates #islamic #boycott #boycottisrael #boycottisraelproducts #boycottisraelapartheid #nyc #newyorkcity #joebiden #rishisunak #democracy #vote', 'like_count': 1, 'permalink': 'https://www.instagram.com/p/C1UU2lDymsF/', 'timestamp': '2023-12-26T13:16:23+0000', 'media_type': 'IMAGE', 'comments_count': 0, 'media_url': 'https://scontent-mad1-1.cdninstagram.com/v/t51.29350-15/414270156_1278574729477084_1246556605947671850_n.webp?stp=dst-jpg&_nc_cat=105&ccb=1-7&_nc_sid=c4dd86&_nc_ohc=GFqh4PhxOVEAX-E7R-G&_nc_ht=scontent-mad1-1.cdninstagram.com&edm=AEoDcc0EAAAA&oh=00_AfAbQfa-599oqMusFUH8jJakY_B8Wn5ZOeDH-BKqrLVy9g&oe=658F4370', 'id': '17981813660422467'}, {'caption': 'Survivor, İsrail ordusunun aileye ateş açtığı anı anlattı\\nSurvivor recounts moment Israeli army opened fire on family\\n#israel #israil #usa #america #amerika #palestine #filistin #kids #life #thursdays #saturday #sunday #monday #tuesday #wednesday #friday #humanrights #humanity #worldplaces\\n#gaza #child #boy #girl #son #mothernature #aile #family #innocent #insan #humanit', 'like_count': 1, 'permalink': 'https://www.instagram.com/reel/C1UUe-EKvNR/', 'timestamp': '2023-12-26T13:16:17+0000', 'media_type': 'VIDEO', 'comments_count': 0, 'media_url': 'https://scontent-mad2-1.cdninstagram.com/o1/v/t16/f1/m82/0C4964B3D442164714F471D8A79DD4A7_video_dashinit.mp4?efg=eyJ2ZW5jb2RlX3RhZyI6InZ0c192b2RfdXJsZ2VuLmNsaXBzLnVua25vd24tQzMuNzIwLmRhc2hfYmFzZWxpbmVfMV92MSJ9&_nc_ht=scontent-mad2-1.cdninstagram.com&_nc_cat=111&vs=1030869581505624_1251879887&_nc_vs=HBksFQIYT2lnX3hwdl9yZWVsc19wZXJtYW5lbnRfcHJvZC8wQzQ5NjRCM0Q0NDIxNjQ3MTRGNDcxRDhBNzlERDRBN192aWRlb19kYXNoaW5pdC5tcDQVAALIAQAVAhg6cGFzc3Rocm91Z2hfZXZlcnN0b3JlL0dLeklpUmpKWmhSR0cxNEZBRWtNcTdpRHRLOTJicV9FQUFBRhUCAsgBACgAGAAbAYgHdXNlX29pbAExFQAAJozZnPq4xfY%2FFQIoAkMzLBdATnztkWhysBgSZGFzaF9iYXNlbGluZV8xX3YxEQB1AAA%3D&ccb=9-4&oh=00_AfC8x-QSGUzS1vOpCycjJ9NiL0SLWFNqiK7bPp7hb1pnSQ&oe=658CC32A&_nc_sid=1d576d&_nc_rid=f5fe143997', 'id': '17918382557764212'}, {'caption': '#einstein #israel #facts #unknownfacts #facts #science #mystery', 'like_count': 0, 'permalink': 'https://www.instagram.com/reel/C1UUi1WSTQH/', 'timestamp': '2023-12-26T13:16:07+0000', 'media_type': 'VIDEO', 'comments_count': 0, 'media_url': 'https://scontent-mad2-1.cdninstagram.com/o1/v/t16/f1/m82/D74398A4D2967D79055A87879ADB9B91_video_dashinit.mp4?efg=eyJ2ZW5jb2RlX3RhZyI6InZ0c192b2RfdXJsZ2VuLmNsaXBzLnVua25vd24tQzMuNzIwLmRhc2hfYmFzZWxpbmVfMV92MSJ9&_nc_ht=scontent-mad2-1.cdninstagram.com&_nc_cat=106&vs=376912038219533_1673369769&_nc_vs=HBksFQIYT2lnX3hwdl9yZWVsc19wZXJtYW5lbnRfcHJvZC9ENzQzOThBNEQyOTY3RDc5MDU1QTg3ODc5QURCOUI5MV92aWRlb19kYXNoaW5pdC5tcDQVAALIAQAVAhg6cGFzc3Rocm91Z2hfZXZlcnN0b3JlL0dLNkVsQmlBU0llTm1aa2FBRzdnQTdGYlQ1bG1icV9FQUFBRhUCAsgBACgAGAAbAYgHdXNlX29pbAExFQAAJorPo8ShtZhAFQIoAkMzLBdAO2ZmZmZmZhgSZGFzaF9iYXNlbGluZV8xX3YxEQB1AAA%3D&ccb=9-4&oh=00_AfCNWYSyQh2TDMcw7vGyu9qoLYHrOvvnP8In6q5S-emiPQ&oe=658C5198&_nc_sid=1d576d&_nc_rid=38109e372a', 'id': '18279738061083750'}, {'caption': 'A father transports the body of his baby girl in the basket of his bicycle 💔😢', 'like_count': 0, 'permalink': 'https://www.instagram.com/reel/C1UUzRzt8fa/', 'timestamp': '2023-12-26T13:16:06+0000', 'media_type': 'VIDEO', 'comments_count': 1, 'media_url': 'https://scontent-mad2-1.cdninstagram.com/o1/v/t16/f1/m82/78437A98B0DE70A848251915A69B75A3_video_dashinit.mp4?efg=eyJ2ZW5jb2RlX3RhZyI6InZ0c192b2RfdXJsZ2VuLmNsaXBzLnVua25vd24tQzMuNDgwLmRhc2hfYmFzZWxpbmVfMV92MSJ9&_nc_ht=scontent-mad2-1.cdninstagram.com&_nc_cat=104&vs=1560968064669535_920019637&_nc_vs=HBksFQIYT2lnX3hwdl9yZWVsc19wZXJtYW5lbnRfcHJvZC83ODQzN0E5OEIwREU3MEE4NDgyNTE5MTVBNjlCNzVBM192aWRlb19kYXNoaW5pdC5tcDQVAALIAQAVAhg6cGFzc3Rocm91Z2hfZXZlcnN0b3JlL0dCdVl0aGpyWDJraDJoMERBRjhTNGdFZkxtQWdicV9FQUFBRhUCAsgBACgAGAAbAYgHdXNlX29pbAExFQAAJobIqtTA%2FOxAFQIoAkMzLBdAJNocrAgxJxgSZGFzaF9iYXNlbGluZV8xX3YxEQB1AAA%3D&ccb=9-4&oh=00_AfDYoNZefKX8XLGByXgvKtzCaCFVrHAhfxu-aLpl9eH5_g&oe=658C6182&_nc_sid=1d576d&_nc_rid=88c7d68062', 'id': '18111343258317965'}, {'caption': 'Devemos suportar as adversidades, aprendermos com as dificuldades e confiarmos em Deus, pois Ele tem um plano perfeito para nós.\\n\\n#odesbloqueiodedeus #fe #palavradedeus #pregacao #deus #deusnocomando #geracaodefogo #jesus #jesuscristo #famila #santaceia #deusefiel #israel #igreja #brasil #deusnocomando #deusebom #deusnocontrole #batismo #descendoasaguas #novacriatura', 'like_count': 3, 'permalink': 'https://www.instagram.com/p/C1UUzOagJG3/', 'timestamp': '2023-12-26T13:15:56+0000', 'media_type': 'IMAGE', 'comments_count': 1, 'media_url': 'https://scontent-mad1-1.cdninstagram.com/v/t51.29350-15/413384171_1229718044615464_8223875698757997214_n.jpg?_nc_cat=102&ccb=1-7&_nc_sid=c4dd86&_nc_ohc=s-4WRBIEICsAX9YPb_c&_nc_ht=scontent-mad1-1.cdninstagram.com&edm=AEoDcc0EAAAA&oh=00_AfCdq37bHp2FH3IVsoIB6HePjoX_CeIV8Qce6jfaEtOVxg&oe=658F4A7B', 'id': '17861718252068535'}, {'caption': \"source : anwaralsharif87 \\n\\nThis is how #israel and the #israeli army treat Orthodox #Jewish children. Imagine how they treat #Palestinian children.\\n\\nAll because that Jewish boy wanted to practice his Jewish religion in peace.\\n\\nI've said it a million times and I'll say it again. The biggest threat to #Judaism is #Zionism\\n\\nAt its core #Zionism is just an #antisemitic #islamaphobic #ideology\", 'like_count': 1, 'permalink': 'https://www.instagram.com/reel/C1UUsKYpbBL/', 'timestamp': '2023-12-26T13:15:50+0000', 'media_type': 'VIDEO', 'comments_count': 0, 'media_url': 'https://scontent-mad2-1.cdninstagram.com/o1/v/t16/f1/m82/AE4E0080C1C4891F1002A6804087F2B4_video_dashinit.mp4?efg=eyJ2ZW5jb2RlX3RhZyI6InZ0c192b2RfdXJsZ2VuLmNsaXBzLnVua25vd24tQzMuNzIwLmRhc2hfYmFzZWxpbmVfMV92MSJ9&_nc_ht=scontent-mad2-1.cdninstagram.com&_nc_cat=107&vs=890950845895357_1463565374&_nc_vs=HBksFQIYT2lnX3hwdl9yZWVsc19wZXJtYW5lbnRfcHJvZC9BRTRFMDA4MEMxQzQ4OTFGMTAwMkE2ODA0MDg3RjJCNF92aWRlb19kYXNoaW5pdC5tcDQVAALIAQAVAhg6cGFzc3Rocm91Z2hfZXZlcnN0b3JlL0dMX21zQmk3VzUwVDI0SUZBQ204eTRrTTMwSkJicV9FQUFBRhUCAsgBACgAGAAbAYgHdXNlX29pbAExFQAAJt7kvI6QtPs%2FFQIoAkMzLBdAFJ64UeuFHxgSZGFzaF9iYXNlbGluZV8xX3YxEQB1AAA%3D&ccb=9-4&oh=00_AfD6fQsug5l9-wS_B0vM_Yj5fs_BgL-n00VU6KIZEvw8Sg&oe=658C44D1&_nc_sid=1d576d&_nc_rid=313729111d', 'id': '17981672975422777'}, {'caption': 'Israel laknatullah 🤬 #palestine #freepalestine #savepalestine #genocideingaza #savehumanity #prayforpalestine #ceaseafirenow  #savechildreningaza #savechildrenpalestine #savecivilianpalestine #worldsilent #helppalestine #beritapalestinehariini #dontstoptalkaboutpalestine  #palestinenews #standwithpalestine #palestinewillbefree #viral #lagiviral #indonesiawithpalestine #dontgiveup #dontgiveupforpalestine #unitedstate #unicef #idf #idfloser #israelloser #israel #israelisterrorist #standwithisrael 🇮🇱🤮💩', 'like_count': 2, 'permalink': 'https://www.instagram.com/reel/C1UUXkNp-VW/', 'timestamp': '2023-12-26T13:15:38+0000', 'media_type': 'VIDEO', 'comments_count': 0, 'media_url': 'https://scontent-mad2-1.cdninstagram.com/o1/v/t16/f1/m82/8248A58F717286661EA97A290995E5A3_video_dashinit.mp4?efg=eyJ2ZW5jb2RlX3RhZyI6InZ0c192b2RfdXJsZ2VuLmNsaXBzLnVua25vd24tQzMuNDY0LmRhc2hfYmFzZWxpbmVfMV92MSJ9&_nc_ht=scontent-mad2-1.cdninstagram.com&_nc_cat=109&vs=734739694875288_1767351056&_nc_vs=HBksFQIYT2lnX3hwdl9yZWVsc19wZXJtYW5lbnRfcHJvZC84MjQ4QTU4RjcxNzI4NjY2MUVBOTdBMjkwOTk1RTVBM192aWRlb19kYXNoaW5pdC5tcDQVAALIAQAVAhg6cGFzc3Rocm91Z2hfZXZlcnN0b3JlL0dKblRueGdFVGdPTHdENERBSjRhUkgyQzFuTWZicV9FQUFBRhUCAsgBACgAGAAbAYgHdXNlX29pbAExFQAAJoaf5%2B%2BK54lAFQIoAkMzLBdAJWj1wo9cKRgSZGFzaF9iYXNlbGluZV8xX3YxEQB1AAA%3D&ccb=9-4&oh=00_AfCZnEQfTRzXWgPTal_EYO6ZCOeN2TqpCa1LuSoSd9SOVA&oe=658C8051&_nc_sid=1d576d&_nc_rid=59dfdcc5ab', 'id': '17893368026878106'}, {'caption': '#Bible #HolyBible #Bibleprophecy #prophecy #God #TheMostHigh #Yahuah #Yahawah #Christ #Yahawashi #Lord #Savior #HolySpirit #ProofofGod #existenceofGod #Godexists #Godofisrael #israel #blackjews #realjews #jewsareblack #Faith', 'like_count': 0, 'permalink': 'https://www.instagram.com/p/C1UUOcqLvPk/', 'timestamp': '2023-12-26T13:10:54+0000', 'media_type': 'IMAGE', 'comments_count': 0, 'media_url': 'https://scontent-mad2-1.cdninstagram.com/v/t51.29350-15/413317496_741466267853634_6978832751626870245_n.jpg?_nc_cat=109&ccb=1-7&_nc_sid=c4dd86&_nc_ohc=njO9oGh5j8oAX8dc0Pc&_nc_ht=scontent-mad2-1.cdninstagram.com&edm=AEoDcc0EAAAA&oh=00_AfACR_Rx-pzw4GdTg-lqFNjm8_kXx-mSaNsAQe89vIW8ng&oe=6590213D', 'id': '18406901398041854'}, {'caption': 'Arraste para o lado e venha conhecer o mundo conosco! tiachelletour em parceria com karla.rosa.74 e operação factourviage #viagem #travel #viajar #grupo #turismo #internacional #tourism #tour #egypt #egito #dubai #abudhabi #grecia #greece #turquia #turkey #marrocos #italia #italy #frança #france #africadosul #southafrica #portugal #israel #chile #mexico #disney', 'like_count': 3, 'permalink': 'https://www.instagram.com/p/C1USfLeOpcB/', 'timestamp': '2023-12-26T12:55:43+0000', 'media_type': 'CAROUSEL_ALBUM', 'comments_count': 0, 'id': '18034705528731772'}], 'paging': {'cursors': {'after': 'UVZAGQlZAIQk1WQzFaT1UxU2RYRndiV2MwUlhSSVp6bGlPRUZAqY2tsdk9XdHBORmhtYTNGTlRqZAFhVMDlHTURVdGVUVnRTMGg1YzBsZAldHOHRhVEIzVmw4MU5EQllXbTFVWDBKc1ZAtRlpkMGhNTkZAsWlNGRXdSdz09'}, 'next': 'https://graph.facebook.com/v18.0/17841596584074200/recent_media?access_token=EAAKb83xTK40BO7gBDVcd3GoFsLMwJFEv1MrkbdbqpTKOVeA2a0GuZCnusq2SuGeD4IG2GjbeEV5OkV4dzHEN53KTRoDgnsKlsPLAIkuo2Yz7zdtEYRl3IvM4mHct3e6syQu0MjKt4wq3FViWZBkms1jGhxbFmOe8ZALYRQNfOBTOs4wH9I5v4kC&user_id=17841402187545471&fields=caption%2Clike_count%2Cpermalink%2Ctimestamp%2Cmedia_type%2Ccomments_count%2Cmedia_url&limit=25&after=UVZAGQlZAIQk1WQzFaT1UxU2RYRndiV2MwUlhSSVp6bGlPRUZAqY2tsdk9XdHBORmhtYTNGTlRqZAFhVMDlHTURVdGVUVnRTMGg1YzBsZAldHOHRhVEIzVmw4MU5EQllXbTFVWDBKc1ZAtRlpkMGhNTkZAsWlNGRXdSdz09'}}\n",
      "2023-12-26T13:15:37+0000\n",
      "2023-12-26T13:12:54+0000\n",
      "2023-12-26T13:09:50+0000\n",
      "2023-12-26T13:07:33+0000\n",
      "2023-12-26T13:05:56+0000\n",
      "2023-12-26T13:03:51+0000\n",
      "2023-12-26T13:01:36+0000\n",
      "2023-12-26T12:59:16+0000\n",
      "2023-12-26T12:57:01+0000\n",
      "2023-12-26T12:53:59+0000\n",
      "2023-12-26T12:51:38+0000\n",
      "2023-12-26T12:50:06+0000\n",
      "2023-12-26T12:47:32+0000\n",
      "2023-12-26T12:43:18+0000\n",
      "2023-12-26T12:40:20+0000\n",
      "2023-12-26T12:37:10+0000\n",
      "2023-12-26T12:32:42+0000\n",
      "2023-12-26T12:30:26+0000\n",
      "2023-12-26T12:28:10+0000\n",
      "2023-12-26T12:25:14+0000\n",
      "2023-12-26T12:21:18+0000\n",
      "2023-12-26T12:16:23+0000\n",
      "2023-12-26T12:11:56+0000\n",
      "2023-12-26T12:08:34+0000\n",
      "2023-12-26T12:05:15+0000\n",
      "2023-12-26T12:00:42+0000\n",
      "2023-12-26T11:56:54+0000\n",
      "2023-12-26T11:53:02+0000\n",
      "2023-12-26T11:49:11+0000\n",
      "2023-12-26T11:47:07+0000\n",
      "2023-12-26T11:43:26+0000\n",
      "2023-12-26T11:41:27+0000\n",
      "2023-12-26T12:00:00+0000\n",
      "2023-12-26T11:36:47+0000\n",
      "2023-12-26T11:33:58+0000\n",
      "2023-12-26T12:20:41+0000\n",
      "2023-12-26T12:00:44+0000\n",
      "2023-12-26T11:23:56+0000\n",
      "2023-12-26T11:21:51+0000\n",
      "2023-12-26T11:18:07+0000\n",
      "2023-12-26T11:15:41+0000\n",
      "2023-12-26T11:13:02+0000\n",
      "2023-12-26T11:08:55+0000\n",
      "2023-12-26T11:05:52+0000\n",
      "2023-12-26T11:02:45+0000\n",
      "2023-12-26T11:00:02+0000\n",
      "2023-12-26T10:56:56+0000\n",
      "2023-12-26T10:54:06+0000\n",
      "2023-12-26T10:51:02+0000\n",
      "{'call_count': 25, 'total_cputime': 0, 'total_time': 36}\n",
      "2023-12-26T10:48:38+0000\n",
      "2023-12-26T10:45:33+0000\n",
      "2023-12-26T10:42:36+0000\n",
      "2023-12-26T10:40:13+0000\n",
      "2023-12-26T10:36:57+0000\n",
      "2023-12-26T10:32:35+0000\n",
      "2023-12-26T10:29:20+0000\n",
      "2023-12-26T10:26:59+0000\n",
      "2023-12-26T10:23:02+0000\n",
      "2023-12-26T12:55:43+0000\n",
      "2023-12-26T10:14:22+0000\n",
      "2023-12-26T10:10:14+0000\n",
      "2023-12-26T10:06:41+0000\n",
      "2023-12-26T10:03:50+0000\n",
      "2023-12-26T10:01:10+0000\n",
      "2023-12-26T09:58:17+0000\n",
      "2023-12-26T09:55:12+0000\n",
      "2023-12-26T09:52:36+0000\n",
      "2023-12-26T09:47:15+0000\n",
      "2023-12-26T09:44:34+0000\n",
      "2023-12-26T09:38:38+0000\n",
      "2023-12-26T09:33:37+0000\n",
      "2023-12-26T09:29:05+0000\n",
      "2023-12-26T09:25:07+0000\n",
      "2023-12-26T09:20:24+0000\n",
      "2023-12-26T09:16:54+0000\n",
      "2023-12-26T09:12:27+0000\n",
      "2023-12-26T11:00:00+0000\n",
      "2023-12-26T09:04:33+0000\n",
      "2023-12-26T09:01:58+0000\n",
      "2023-12-26T08:58:46+0000\n",
      "2023-12-26T11:15:39+0000\n",
      "2023-12-26T08:52:51+0000\n",
      "2023-12-26T08:47:54+0000\n",
      "2023-12-26T08:42:24+0000\n",
      "2023-12-26T08:36:46+0000\n",
      "2023-12-26T08:31:40+0000\n",
      "2023-12-26T08:28:07+0000\n",
      "2023-12-26T08:23:21+0000\n",
      "2023-12-26T08:19:00+0000\n",
      "2023-12-26T08:15:45+0000\n",
      "2023-12-26T08:11:03+0000\n",
      "2023-12-26T08:07:18+0000\n",
      "2023-12-26T08:01:21+0000\n",
      "2023-12-26T07:56:30+0000\n",
      "2023-12-26T07:52:31+0000\n",
      "2023-12-26T07:45:55+0000\n",
      "2023-12-26T07:41:26+0000\n",
      "2023-12-26T07:36:15+0000\n",
      "2023-12-26T07:30:36+0000\n",
      "{'call_count': 24, 'total_cputime': 0, 'total_time': 30}\n",
      "2023-12-26T07:27:24+0000\n",
      "2023-12-26T07:21:31+0000\n",
      "2023-12-26T07:16:02+0000\n",
      "2023-12-26T07:11:03+0000\n",
      "2023-12-26T07:06:17+0000\n",
      "2023-12-26T07:00:35+0000\n",
      "2023-12-26T12:15:34+0000\n",
      "2023-12-26T06:50:01+0000\n",
      "2023-12-26T06:46:12+0000\n",
      "2023-12-26T07:00:58+0000\n",
      "2023-12-26T09:05:00+0000\n",
      "2023-12-26T06:30:51+0000\n",
      "2023-12-26T08:15:09+0000\n",
      "2023-12-26T07:15:54+0000\n",
      "2023-12-26T06:16:12+0000\n",
      "2023-12-26T06:12:32+0000\n",
      "2023-12-26T06:06:21+0000\n",
      "2023-12-26T06:00:42+0000\n",
      "2023-12-26T05:53:01+0000\n",
      "2023-12-26T12:30:00+0000\n",
      "2023-12-26T05:42:14+0000\n",
      "2023-12-26T05:35:19+0000\n",
      "2023-12-26T05:27:32+0000\n",
      "2023-12-26T05:21:44+0000\n",
      "2023-12-26T05:15:28+0000\n",
      "2023-12-26T10:00:00+0000\n",
      "2023-12-26T05:02:16+0000\n",
      "2023-12-26T12:15:14+0000\n",
      "2023-12-26T04:49:41+0000\n",
      "2023-12-26T04:41:58+0000\n",
      "2023-12-26T04:34:28+0000\n",
      "2023-12-26T04:29:49+0000\n",
      "2023-12-26T04:25:58+0000\n",
      "2023-12-26T04:22:40+0000\n",
      "2023-12-26T04:16:49+0000\n",
      "2023-12-26T04:10:44+0000\n",
      "2023-12-26T04:04:26+0000\n",
      "2023-12-26T04:00:13+0000\n"
     ]
    }
   ],
   "source": [
    "while True:\n",
    "    posts = get_all_posts_since_24hours(hashtags_for_palästina+hashtags_for_isreal+hashtags_for_general_war,access_token, instagram_account_id)\n",
    "    print(f\"posts succesfull getted {len(posts)}\")\n",
    "    print(f\"posts succesfull getted {client['bda']['posts'].count_documents({})}\")\n",
    "    #sleep 3 hours till next execution\n",
    "    time.sleep(10800)\n"
   ]
  },
  {
   "cell_type": "code",
   "execution_count": 14,
   "metadata": {},
   "outputs": [
    {
     "data": {
      "text/plain": [
       "65923"
      ]
     },
     "execution_count": 14,
     "metadata": {},
     "output_type": "execute_result"
    }
   ],
   "source": [
    "client['bda']['posts'].count_documents({})"
   ]
  },
  {
   "cell_type": "code",
   "execution_count": 12,
   "metadata": {},
   "outputs": [
    {
     "data": {
      "text/plain": [
       "<pymongo.results.InsertManyResult at 0x2870f2a6440>"
      ]
     },
     "execution_count": 12,
     "metadata": {},
     "output_type": "execute_result"
    }
   ],
   "source": [
    "client['bda']['posts'].insert_many(posts)"
   ]
  },
  {
   "cell_type": "code",
   "execution_count": 13,
   "metadata": {},
   "outputs": [
    {
     "data": {
      "text/plain": [
       "Collection(Database(MongoClient(host=['localhost:27017'], document_class=dict, tz_aware=False, connect=True), 'bda'), 'posts')"
      ]
     },
     "execution_count": 13,
     "metadata": {},
     "output_type": "execute_result"
    }
   ],
   "source": [
    "client['bda']['posts']."
   ]
  },
  {
   "cell_type": "code",
   "execution_count": 12,
   "metadata": {},
   "outputs": [
    {
     "data": {
      "text/plain": [
       "71012"
      ]
     },
     "execution_count": 12,
     "metadata": {},
     "output_type": "execute_result"
    }
   ],
   "source": [
    "client['bda']['posts'].count_documents({})"
   ]
  }
 ],
 "metadata": {
  "kernelspec": {
   "display_name": "Python 3",
   "language": "python",
   "name": "python3"
  },
  "language_info": {
   "codemirror_mode": {
    "name": "ipython",
    "version": 3
   },
   "file_extension": ".py",
   "mimetype": "text/x-python",
   "name": "python",
   "nbconvert_exporter": "python",
   "pygments_lexer": "ipython3",
   "version": "3.11.7"
  }
 },
 "nbformat": 4,
 "nbformat_minor": 2
}
