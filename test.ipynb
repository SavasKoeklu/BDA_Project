{
 "cells": [
  {
   "cell_type": "markdown",
   "metadata": {},
   "source": [
    "Define function to access instagram graph api. To implement the functions I followed the article  https://medium.com/@ritikkhndelwal/instagram-hashtag-search-using-python-and-instagram-graph-api-a5efc2dce6f1 and adapted the given functions to my case. Nevertheless I tried also extensively the instagram graph api and read the doucmentation for it to discover the restirictions and what data I can get. For example I could not get with the business covery endpoint any data foro hastags."
   ]
  },
  {
   "cell_type": "code",
   "execution_count": 2,
   "metadata": {},
   "outputs": [],
   "source": [
    "import requests\n",
    "# access token can be used till february 2024\n",
    "access_token = \"EAAKb83xTK40BO7gBDVcd3GoFsLMwJFEv1MrkbdbqpTKOVeA2a0GuZCnusq2SuGeD4IG2GjbeEV5OkV4dzHEN53KTRoDgnsKlsPLAIkuo2Yz7zdtEYRl3IvM4mHct3e6syQu0MjKt4wq3FViWZBkms1jGhxbFmOe8ZALYRQNfOBTOs4wH9I5v4kC\"\n",
    "instagram_account_id = 17841402187545471\n",
    "\n",
    "\n",
    "graph_url = 'https://graph.facebook.com/v18.0/'\n",
    "def get_hashtag_id(hashtag = '',instagram_account_id = '',access_token = ''):\n",
    "    url = graph_url + 'ig_hashtag_search'\n",
    "    param = dict()\n",
    "    param['user_id'] = instagram_account_id\n",
    "    param['q'] = hashtag\n",
    "    param['access_token'] = access_token\n",
    "    response = requests.get(url,param)\n",
    "    response = response.json()\n",
    "    hashtag_id = response['data'][0]['id']\n",
    "    return hashtag_id\n",
    "\n",
    "# retrieve name and id for a hasthag\n",
    "def get_data_of_hashtag(hashtag_id = '',access_token=''):\n",
    "    url = graph_url + hashtag_id\n",
    "    param =dict()\n",
    "    param['access_token'] = access_token\n",
    "    param['fields'] = 'id,name'\n",
    "    response = requests.get(url,param)\n",
    "    response = response.json()\n",
    "    return response\n",
    "\n",
    "# recent media for a hashtag\n",
    "def get_recent_media(hashtag_id='',access_token = '',instagram_account_id = ''):\n",
    "    url = graph_url + hashtag_id + '/recent_media'\n",
    "    param = dict()\n",
    "    param['access_token'] = access_token\n",
    "    param['user_id'] = instagram_account_id\n",
    "    param['fields'] = 'caption,like_count,permalink,timestamp,media_type'\n",
    "    response = requests.get(url, param)\n",
    "    response = response.json()\n",
    "    print(response)\n",
    "    return response\n",
    "\n",
    "def get_top_media(hashtag_id='',access_token='',instagram_account_id=''):\n",
    "    url = graph_url + hashtag_id + '/top_media'\n",
    "    param = dict()\n",
    "    param['access_token'] = access_token\n",
    "    param['user_id'] = instagram_account_id\n",
    "    param['fields'] = 'caption,like_count,permalink'\n",
    "    response = requests.get(url, param)\n",
    "    response = response.json()\n",
    "    print(response)\n",
    "    return response"
   ]
  },
  {
   "cell_type": "markdown",
   "metadata": {},
   "source": [
    "We will use mango db for a variety of advantages First I want to put focus on flexiblity and scalability. The Database will not be complex also, so not need complex queries with joins, which would favor relational database technologies like postgresql."
   ]
  },
  {
   "cell_type": "code",
   "execution_count": 1,
   "metadata": {},
   "outputs": [
    {
     "name": "stdout",
     "output_type": "stream",
     "text": [
      "['admin', 'config', 'local']\n"
     ]
    }
   ],
   "source": [
    "from pymongo import MongoClient\n",
    "import json\n",
    "\n",
    "client = MongoClient('localhost', 27017)\n",
    "\n",
    "# let's get the list of DBs already defined\n",
    "print(client.list_database_names())\n"
   ]
  },
  {
   "cell_type": "code",
   "execution_count": null,
   "metadata": {},
   "outputs": [],
   "source": [
    "# let's create a new DB - bda\n",
    "database = client['bda']\n",
    "\n",
    "# let's create a collection\n",
    "posts = database.posts"
   ]
  },
  {
   "cell_type": "markdown",
   "metadata": {},
   "source": [
    "Grap the messages for the last 24 hours for the hashtags FreePalestine and proisrael. Two of the most popular hashtags in the isreal plästina war. With it we can look what hastasgs are occuring most often in the las 24 hours and determine our hashtags to use."
   ]
  },
  {
   "cell_type": "code",
   "execution_count": null,
   "metadata": {},
   "outputs": [],
   "source": [
    "hashtag\n",
    "\n",
    "count = 0\n",
    "recent = get_recent_media(hashtag_id, access_token,instagram_account_id)\n",
    "while True:\n",
    "    if (recent['paging']['next'] == ''):\n",
    "        break;\n",
    "    count = count + 1\n",
    "    try:\n",
    "        response = requests.get(recent['paging']['next'] )\n",
    "        recent = response.json()\n",
    "        print(recent['data'][0]['timestamp'])\n",
    "    except: #code to run if error occurs\n",
    "        print(\"caught_it\")\n",
    "    #code to run if error is raised\n",
    "       "
   ]
  },
  {
   "cell_type": "code",
   "execution_count": 3,
   "metadata": {},
   "outputs": [],
   "source": [
    "def get_all_posts_since_24hours(hashtag_names, access_token, instagram_account_id):\n",
    "    hashtag_ids = []\n",
    "    for name in hashtag_names:\n",
    "        hashtag_ids.append(get_hashtag_id(name,instagram_account_id,access_token))\n",
    "\n",
    "\n",
    "    \n"
   ]
  },
  {
   "cell_type": "code",
   "execution_count": 6,
   "metadata": {},
   "outputs": [
    {
     "name": "stdout",
     "output_type": "stream",
     "text": [
      "['17841562354125930', '17841531883073197']\n"
     ]
    }
   ],
   "source": [
    "get_all_posts_since_24hours(['FreePalestine','BringThemHomeNow'],access_token,instagram_account_id)\n",
    "\n"
   ]
  },
  {
   "cell_type": "markdown",
   "metadata": {},
   "source": [
    "I searched after the popularst hastags for the palätina isreal war. So I have searched 5 different hastags for the palästina side and 5 for isreal. For the palästina side I fount the hashtags #FreePalestine, #palistina, #savepalestine, #alquds (the holy city), gazaunderattack, #palestinewillbefree, #palastine. For the isreal side I have : #IsraelUnderAttack, #FreeIsrael, #israel, #proisrael (30000), #standwithisreal, #BringThemHomeNow. I will put all posts in one collection into a mongodb database."
   ]
  },
  {
   "cell_type": "code",
   "execution_count": null,
   "metadata": {},
   "outputs": [],
   "source": [
    "hashtags_for_palästina = ['FreePalestine','palistina', 'savepalestine', 'alquds', 'gazaunderattack', 'palestinewillbefree','gaza']\n",
    "hashtags_for_isreal = ['IsraelUnderAttack', 'FreeIsrael', 'israel', 'proisrael', 'standwithisreal', 'BringThemHomeNow','prayforisrael']\n",
    "\n",
    "# First retrieve the hashtag ids and also look up if they are \n"
   ]
  },
  {
   "cell_type": "code",
   "execution_count": null,
   "metadata": {},
   "outputs": [],
   "source": [
    "# load the data\n",
    "adults_list = list(data.values())\n",
    "result = adults.insert_many(adults_list)\n",
    "adults.count_documents({})"
   ]
  }
 ],
 "metadata": {
  "kernelspec": {
   "display_name": "Python 3",
   "language": "python",
   "name": "python3"
  },
  "language_info": {
   "codemirror_mode": {
    "name": "ipython",
    "version": 3
   },
   "file_extension": ".py",
   "mimetype": "text/x-python",
   "name": "python",
   "nbconvert_exporter": "python",
   "pygments_lexer": "ipython3",
   "version": "3.11.7"
  }
 },
 "nbformat": 4,
 "nbformat_minor": 2
}
