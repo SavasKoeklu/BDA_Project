{
 "cells": [
  {
   "cell_type": "code",
   "execution_count": 26,
   "metadata": {},
   "outputs": [],
   "source": [
    "import requests\n",
    "\n",
    "access_token = \"EAAKb83xTK40BO7gBDVcd3GoFsLMwJFEv1MrkbdbqpTKOVeA2a0GuZCnusq2SuGeD4IG2GjbeEV5OkV4dzHEN53KTRoDgnsKlsPLAIkuo2Yz7zdtEYRl3IvM4mHct3e6syQu0MjKt4wq3FViWZBkms1jGhxbFmOe8ZALYRQNfOBTOs4wH9I5v4kC\"\n",
    "instagram_account_id = 17841402187545471\n",
    "\n",
    "\n",
    "graph_url = 'https://graph.facebook.com/v18.0/'\n",
    "def get_hashtag_id(hashtag = '',instagram_account_id = '',access_token = ''):\n",
    "    url = graph_url + 'ig_hashtag_search'\n",
    "    param = dict()\n",
    "    param['user_id'] = instagram_account_id\n",
    "    param['q'] = hashtag\n",
    "    param['access_token'] = access_token\n",
    "    response = requests.get(url,param)\n",
    "    response = response.json()\n",
    "    hashtag_id = response['data'][0]['id']\n",
    "    return hashtag_id"
   ]
  },
  {
   "cell_type": "code",
   "execution_count": 3,
   "metadata": {},
   "outputs": [
    {
     "name": "stdout",
     "output_type": "stream",
     "text": [
      "17843857138016461\n"
     ]
    }
   ],
   "source": [
    "print(get_hashtag_id(\"war\",instagram_account_id,access_token))"
   ]
  },
  {
   "cell_type": "code",
   "execution_count": 7,
   "metadata": {},
   "outputs": [],
   "source": [
    "# retrieve name and id for a hasthag\n",
    "def get_data_of_hashtag(hashtag_id = '',access_token=''):\n",
    "    url = graph_url + hashtag_id\n",
    "    param =dict()\n",
    "    param['access_token'] = access_token\n",
    "    param['fields'] = 'id,name'\n",
    "    response = requests.get(url,param)\n",
    "    response = response.json()\n",
    "    return response"
   ]
  },
  {
   "cell_type": "code",
   "execution_count": 8,
   "metadata": {},
   "outputs": [
    {
     "name": "stdout",
     "output_type": "stream",
     "text": [
      "{'id': '17843857138016461', 'name': 'war'}\n"
     ]
    }
   ],
   "source": [
    "# now try to retrieve the hastag name with the hashtag id, to check if get_data_of_hashtag and get_hashtag_id functions\n",
    "\n",
    "hashtag_id = get_hashtag_id(\"war\",instagram_account_id,access_token)\n",
    "\n",
    "print(get_data_of_hashtag(hashtag_id,access_token))"
   ]
  },
  {
   "cell_type": "code",
   "execution_count": 21,
   "metadata": {},
   "outputs": [],
   "source": [
    "# recent media for a hashtag\n",
    "def get_recent_media(hashtag_id='',access_token = '',instagram_account_id = ''):\n",
    "    url = graph_url + hashtag_id + '/recent_media'\n",
    "    param = dict()\n",
    "    param['access_token'] = access_token\n",
    "    param['user_id'] = instagram_account_id\n",
    "    param['fields'] = 'caption,like_count,permalink,timestamp,media_type'\n",
    "    response = requests.get(url, param)\n",
    "    response = response.json()\n",
    "    print(response)\n",
    "    return response\n"
   ]
  },
  {
   "cell_type": "code",
   "execution_count": 33,
   "metadata": {},
   "outputs": [
    {
     "name": "stdout",
     "output_type": "stream",
     "text": [
      "{'data': [{'caption': 'دست گل اهالی برق 🙂\\n.\\n.\\n.\\n.\\n.\\n.\\n#جالب #electronics  #جنگ#اسرائیل #ایران #برق_صنعتی #الکترونیک#تعمیرات #power #skills #oil #oilpainting \\n#intel #corsair #amd #nvidia #asus #msa #explore #fun#war #جنگ #غزه #پیرانشهر#پیرانشار#kurd#electronics #الکترونیک', 'like_count': 1, 'permalink': 'https://www.instagram.com/reel/C1NBESaI_J-/', 'timestamp': '2023-12-23T17:11:40+0000', 'media_type': 'VIDEO', 'id': '17925211682816930'}, {'caption': 'Male figure. Colima culture, Comala style, 300 B.C - 200 A.D. ceramic. State of Colima, Mexico 🇲🇽 \\n\\n🏺 The Colimas are a population of western Mexico who are thought to have lived from 300 BC to 500 AD. The artistic production of the Colimas is marked by an abundance of ceramics of extraordinary variety and quality. In fact, the Colimas produced numerous terracotta figures and vases, as well as large hollow ceramics for funerary purposes, along with statuettes and pottery. The ornamentation on Colima ceramics is quite complex, and differs greatly from that of other civilisations in central Mexico. The figures - anthropomorphic or zoomorphic - wear extremely elaborate and precise hairstyles, jewellery, clothing and other details. Here, the figure is shown standing and holding a mace.\\n-\\n📍Rietberg Museum, Zürich 🇨🇭 \\n.\\n.\\n.\\n#america #northamerica #mesoamerica #mesoamerican #mexico #colima #mexicanculture #ancientcivilization #ancientculture #ancientart #archeology #arqueologiamexicana #precolumbian #precolumbianart #prehispanico #prehispanic #colimacolima #sculpture #figurine #terracotta #war #museum #museumlover #rietbergmuseum #switzerland🇨🇭 #zurich', 'like_count': 0, 'permalink': 'https://www.instagram.com/p/C1NBWQzKr9I/', 'timestamp': '2023-12-23T17:11:16+0000', 'media_type': 'CAROUSEL_ALBUM', 'id': '18132022954314449'}, {'caption': 'What a way to start the Christmas break🥱 sent the boys through war today🥊 Warm up✅ Circuit✅ bag work ✅ Fight👊 or Flight❌ #boxing #2023 \\n#reels #gym #motivation #war #fightlife', 'like_count': 0, 'permalink': 'https://www.instagram.com/reel/C1NA4IpNivl/', 'timestamp': '2023-12-23T17:11:06+0000', 'media_type': 'VIDEO', 'id': '18304312600133346'}, {'caption': '\"Danger Close\"\\n\\nFinally finished my first mini-diorama. I designed the letters a long time ago and 3d printed them last year but didn\\'t really Knox what tot do with them but i decided tot create this mini-diorama tot combine my hobbies and interests: graffiti, 3d design/printing & making miniatures.\\n\\nSince i barely did anything creative this year because of several personal reasons i\\'m quite happy with the end result. And i hope i will work/finish some new projects soon.\\n\\n#void #voidr #paint #painting #graffiti #spraypaint #aerosol #camo #camouflage #3d #3dprinting #diorama #soldier #soldiers #war #warhammer #sculpting #miniature #miniatures #imperialguard #astramilitarum', 'like_count': 0, 'permalink': 'https://www.instagram.com/p/C1NBVF_IwXw/', 'timestamp': '2023-12-23T17:11:06+0000', 'media_type': 'CAROUSEL_ALBUM', 'id': '18219793504253128'}, {'caption': 'Visit our website here 💻👨🏾\\u200d💻🖥\\n🔴 https://solo.to/hebrewjournal\\n.……………………………………\\n\\nSanta? No, Satan 👺 Open your eyes 🫣👀 See the lies! 📖 Christmas has nothing to do with Christ 🙅🏾\\u200d♂️🚫The Hebrews Journal, 🗞️ Get your copy! 📣\\n\\n#HebrewsJournal #IUICTV #IUIC #12TribesWorldWide #Prophets #Meditate #Bible #Holy #Church #Jesus #Christ #Read #Hanukkah #FeastofDedication #History #NonFiction #Reality #Christianity #Viral #Trending #War #Israel #Palestine #Christmas #Colonialism #Colonizers #Curse', 'like_count': 0, 'permalink': 'https://www.instagram.com/p/C1NBUjTusJZ/', 'timestamp': '2023-12-23T17:11:02+0000', 'media_type': 'IMAGE', 'id': '18010136939151258'}, {'caption': '#freepalestine #ceasefire #ceasefirenow🇵🇸 #free #palestine #savethechildern #arab #war #art #likeforlike #charity #allah #god #instagram #instagood #celebrity #insta #humanity #humanrights #freedom #water #reels #love #uk #usa #yemen #islam #france #politics #life', 'like_count': 0, 'permalink': 'https://www.instagram.com/reel/C1NA_g9ovRv/', 'timestamp': '2023-12-23T17:10:31+0000', 'media_type': 'VIDEO', 'id': '18222995785252739'}, {'caption': 'نا کردا گناہ \\n\\n#imrankhan #imrankhanprimeminister #imrankhanvoiceofkashmir #imrankhanzindabad #imrankhanworld #imrankhanworld \\n#ik #pti #ptigovernment #ptiofficial #pakistan #politics #pakistan #pmimrankhan #pti #pakistanitrends #قیدی_نمبر_804 #قیدی_ہے_غلام_نہیں \\n #عمران #عمران_تو_ہوگا \\n#wewantimrankhanback \\n#ImranKhanArrest \\n#freedom #revolution  #war #law #constitutionofindia', 'like_count': 0, 'permalink': 'https://www.instagram.com/p/C1NBPeiIo7m/', 'timestamp': '2023-12-23T17:10:20+0000', 'media_type': 'IMAGE', 'id': '18030362401692330'}, {'caption': '#hulu #israel #palastine #war #america u better stop watching this fake news making u think Palestinians are terrorist when this is about money and letting Israel and jewish ppl run the world and annihilate a race', 'like_count': 0, 'permalink': 'https://www.instagram.com/reel/C1M6HXpO_DV/', 'timestamp': '2023-12-23T17:10:19+0000', 'media_type': 'VIDEO', 'id': '18073330015447401'}, {'caption': 'با حال هست.\\n\\n#ریلز #اکسپلور #ایران #تهران #تبریز #مشهد \\n\\n#reels #followforfollowback #explorepage #bts #staysafe #viral #war', 'like_count': 0, 'permalink': 'https://www.instagram.com/reel/C1NA7dpoKZz/', 'timestamp': '2023-12-23T17:10:10+0000', 'media_type': 'VIDEO', 'id': '18382617289068339'}, {'caption': '(22/12/23) It might just seem like another video of an M2A2 Bradley IFV operating around Stepove, but it seems this vehicle has been mentioned in particular by Pro-Russian Telegram channels as the “White Bradley” that has evaded incoming attacks time and time again. \\nNow obviously the vehicle isn’t painted white but rather desert camo, but nevertheless it’s a standout vehicle. \\nJudging by the reactions of Pro-Russian’s (they’re slightly annoyed by it lol) it’s doing a good job of keeping the Russian forces in the area busy. \\n-\\n#tank #modelmaking #tanks #military #war #modeltanks #modeltank #ukraine #ukrainewar #ukraineonline #ukrainetoday #украина🇺🇦 #украина #україна🇺🇦 #україна #зсу #зсу🇺🇦 #бмп #танк #авдіївка #m2bradley #m2a2 #m2a2bradley #ifv #russiaukraine #russiaukraineconflict #russiaukrainewar', 'like_count': 0, 'permalink': 'https://www.instagram.com/reel/C1NBFojNggT/', 'timestamp': '2023-12-23T17:09:57+0000', 'media_type': 'VIDEO', 'id': '17869329993040518'}, {'caption': '#Aleepo #oldcity #war #natural #video #instagram #reels #reelsinstagram #best #shotoniphone', 'like_count': 0, 'permalink': 'https://www.instagram.com/reel/C1M9g4Nt3E3/', 'timestamp': '2023-12-23T17:09:41+0000', 'media_type': 'VIDEO', 'id': '17974898498640267'}, {'caption': 'Les photos que j ai fait en 2019 sous forme d album ´’ Fews days at prypiat Tchernobyl ‘´ tchernobyl #ukraine #prypiat #war #castle #urbex #urbexphotography #urbexphoto #urbexplaces #urbexpeople #urbexeurope #urbex_kings #urbex_supreme #urbexchampions #explorationurbaine #exploration #abandonedplaces #abandoned #urbexsupreme #urbexfrance #lostplaces #explore', 'like_count': 0, 'permalink': 'https://www.instagram.com/reel/C1NA0aNCCS1/', 'timestamp': '2023-12-23T17:09:30+0000', 'media_type': 'VIDEO', 'id': '17844603780123746'}, {'caption': '#modena#xmas#war', 'like_count': 0, 'permalink': 'https://www.instagram.com/p/C1NBHcaNa6O/', 'timestamp': '2023-12-23T17:09:14+0000', 'media_type': 'CAROUSEL_ALBUM', 'id': '17997962162160279'}, {'caption': 'The Power of Choice. \\n\\nBELIEVE IN THE WORD OF יהוה, JESUS CHRIST IS THE ONLY WAY, THE ONLY TRUTH, AND THE ONLY LIFE. ANY OTHER WAY IS DEATH. \\n_________________________________________\\n#kids #teens #childern #people #young #youth  #beware #cartoons #school #wow #what #goodnees #war #evil #kid #bully #bullies #fights #run #away #from #sexual #immortality #dogood #hateevil #dojustice #wordshurt  #speech #speaking #everyone', 'like_count': 0, 'permalink': 'https://www.instagram.com/p/C1NBE-sJLZ0/', 'timestamp': '2023-12-23T17:08:54+0000', 'media_type': 'IMAGE', 'id': '17971202726644144'}, {'caption': 'सारी नजरें तुम पर टिकी हुई है...😡\\n तुम्हारी एक गलती का इंतजार है !! 💪😈\\n#dj wale babu.🚫\\n.\\n.\\n.\\n.\\n.\\n.\\n.\\n.\\n.\\n.#gym #gymmotivation #attitude #attitude #fitness #war #warning #gymlover #gymlife #boy #boxing #bodybuilding #arm #fitnessmodel #gymaddict #body #gymlifestyle #photooftheday #photooftheday', 'like_count': 5, 'permalink': 'https://www.instagram.com/p/C1NBE1uMMlj/', 'timestamp': '2023-12-23T17:08:53+0000', 'media_type': 'IMAGE', 'id': '18021257740910632'}, {'caption': '#love and #war', 'like_count': 0, 'permalink': 'https://www.instagram.com/reel/C1NA7-CNnDY/', 'timestamp': '2023-12-23T17:08:33+0000', 'media_type': 'VIDEO', 'id': '18028576429775018'}, {'caption': 'contrary to modern belief, the lawn jockey was a tradition started by George Washington in dedication of a 12 year old African-American boy named Tom “Jocko” Graves. too young to volunteer for battle, Washington had him hold a lantern to help soldiers find their way to camp. Jocko died that Christmas Eve night of hypothermia doing his faithful duty. #kentuckytravels #kentucky #travels #lawn #jockey #president #history #georgewashington #jocko #tomgraves #war #honor #revolutionarywar #lantern #Christmas  #appalachian #life #battle #crossingthedelaware #potomac #rivercrossing #river #delaware #jamesmadison #tradition #hypothermia #tribute #volunteer #theappalachianlife', 'like_count': 0, 'permalink': 'https://www.instagram.com/p/C1NBBg0uqQp/', 'timestamp': '2023-12-23T17:08:26+0000', 'media_type': 'CAROUSEL_ALBUM', 'id': '18291388108153508'}, {'caption': 'За Україну за її волю/For Ukraine, for its will⛏️\\n⠀\\n#postersofreedoom #ukraine #posterdesign #graphicdesign#russiaisaterroriststate #postereveryday\\n#standwithukraine #war #supportukraine #stoprussia #freedoom #ukraineart #artistsupport #pofua #saveukraine #ukrainewillwin #helpukraine #posterart #ukrainewar #uaf #постер #україна #плакат #зсу #війна #128огшбр #збройнісилиукраїни #заукраїну', 'like_count': 1, 'permalink': 'https://www.instagram.com/p/C1NBBE-NwPO/', 'timestamp': '2023-12-23T17:08:22+0000', 'media_type': 'IMAGE', 'id': '18219776446265781'}, {'caption': 'Є маленькі люди на планеті,\\nНевгамовні, часом смішні, діти.\\nЗ щирими та добрими серцями,\\nЗ допитливими і чистими очима.\\nВони гідні самої кращої долі.\\nНехай ніколи їх не спіткає горе❤️🙏. #love#war#childrenphotography#mericrismas#ukraine#heartbroken#newyear', 'like_count': 1, 'permalink': 'https://www.instagram.com/p/C1NA4NlNdWN/', 'timestamp': '2023-12-23T17:07:10+0000', 'media_type': 'CAROUSEL_ALBUM', 'id': '18028785541796604'}, {'caption': \"Could also be 27th December due to Salman's birthday, but 31st seems more likely. \\n•\\n•\\n#YRFSpyUniverse #SalmanKhan #HrithikRoshan #ShahRukhKhan #KatrinaKaif #DeepikaPadukone #TigerShroff #JohnAbraham #EmraanHashmi #AliaBhatt #JrNTR #KiaraAdvani #AyanMukherji #EkThaTiger #TigerZindaHai #War #Pathaan #Tiger3 #War2 #TigerVsPathaan #AmazonPrime #Bollywood #Insta #Explore #ExplorePage\", 'like_count': 3, 'permalink': 'https://www.instagram.com/p/C1NA2eLSPf-/', 'timestamp': '2023-12-23T17:06:55+0000', 'media_type': 'IMAGE', 'id': '18405722704046185'}, {'caption': 'Noam survived the October 7th terrorist attacks by Hamas. Unfortunately, the love of her life did not. Her soul, her story, her heart, her pain, her art, her perseverance and resilience will always stays with me. In this video, you’ll see why. \\n\\nNoam story is one of a hundreds, every single time I’m watching one if these my heart breaks. It’s wrong, no one should ever go through this. No one.\\n\\nWhat happened to us on October 7th isn’t resistance, the terrorists organisation Hamas isn’t resistance. it’s pure hate and evil and we won’t tolerate this anymore - Hamas has no place in our world.\\n\\nSHARE NOAM STORY noambd \\n\\n#jewsihandproud  #reels #reelitfeelit #reelsinstagram #israel #israeli #explore #fyp #viral #war #gaza #freepalestinefromhamas #hamasisisis #love #stopterrorism #neveragain #neveragainisnow #history #bringthemhome  #standwithus #hamas_is_isis #standwithisrael #trending #video #terror #instagram #instagood #instadaily', 'permalink': 'https://www.instagram.com/reel/C1NAKQvNQIK/', 'timestamp': '2023-12-23T17:06:26+0000', 'media_type': 'VIDEO', 'id': '18093055960378545'}, {'caption': 'Yine fakir fukaranın çocukları “Şehitlik mertebesine erişti”\\nÇünkü garibanın sesi çıkmaz, parası az, özgüveni düşük, her şeye karşı boynu kıldan incedir... Ağzı laf yapamaz, ortalığı ayağa kaldıramaz, kime nereye başvuracağını bile bilemez. O yüzden onun çocuğu en tehlikeli yerlere gönderilir, en zor görevlerde vatanı korur ya da devletin isteğini gerçekleştirmeye çalışır... \\nGün gelir oralarda düşer toprağa ...\\nGelirler evine üç beş teselli lafı eder, çok büyük onur yaşadınız der, girişe de bayrak asıp dönerler günlük rutinlerine..\\nNedense bu siyasilerin ve zenginlerin tek bir çocuğu bile  şehitlik mertebesine ulaşamaz,bu gururu yaşayamazlar onca varlık içinde! \\nE her şey onların olacak değil ya, bunu da yoksula bırakmışlar bu cennetlik yüce insanlar ...\\n...\\n...\\nNeyse..\\nKahramanlarınıza rahmet, ana babalarına ve ailelerine sabırlar dilerim ...\\nRuhları şâd olsun.\\nBelki gittikleri yerde adalet vardır..\\n#şehit #siyasiler #asker #soldiers #war #savaş #nowar #bukarikatürükaçıncıkoyuşummaalesef', 'like_count': 14, 'permalink': 'https://www.instagram.com/p/C1NAueoNTQO/', 'timestamp': '2023-12-23T17:05:50+0000', 'media_type': 'CAROUSEL_ALBUM', 'id': '17985429806568745'}, {'caption': 'First history video Normandy War(d-day) #fyppppppppppppppppp #history #dday #war #normandywar', 'like_count': 0, 'permalink': 'https://www.instagram.com/reel/C1NAeJota-3/', 'timestamp': '2023-12-23T17:05:11+0000', 'media_type': 'VIDEO', 'id': '18219862687252904'}, {'caption': '🇵🇸Palestine will be free.\\n.\\n.\\n.\\n.\\n.\\n.\\n#gaza #gazaunderattack #freepalestine🇵🇸 #america #israel #zionism #palestine #endtheoccupation #justiceforpalestine🇵🇸 #humanrights #themoreyouknow #genocideingaza #childrenofpalestine #antizionism #civilrights #coexist #peace #bds #war #genocide #racism #colonialism #imperialism #boycott #gazapalestine #activism #resistance #protest #ethniccleansing #istandwithpalestine', 'like_count': 1, 'permalink': 'https://www.instagram.com/reel/C1M5mRhM3vq/', 'timestamp': '2023-12-23T16:04:47+0000', 'media_type': 'VIDEO', 'id': '17894837414940035'}, {'caption': '🇵🇸Palestine will be free.\\n.\\n.\\n.\\n.\\n.\\n.\\n#gaza #gazaunderattack #freepalestine🇵🇸 #america #israel #zionism #palestine #endtheoccupation #justiceforpalestine🇵🇸 #humanrights #themoreyouknow #genocideingaza #childrenofpalestine #antizionism #civilrights #coexist #peace #bds #war #genocide #racism #colonialism #imperialism #boycott #gazapalestine #activism #resistance #protest #ethniccleansing #istandwithpalestine', 'like_count': 1, 'permalink': 'https://www.instagram.com/reel/C1MnIFaMn2V/', 'timestamp': '2023-12-23T13:22:14+0000', 'media_type': 'VIDEO', 'id': '18209319262281538'}], 'paging': {'cursors': {'after': 'UVZAGRWVXWmtNa3BWVERoQ2VGRnlPV1J2VkRRMVkxRTNVRTl3YVhjNWVIUTNla1ZAMWjBjMk0wRlZASVWR5TFdSVlpWVm9SbFowYWpCdVZAWSnJObXBpTlZAod2QwMXlObGN3WWpOV1gxa3hNRkptZAVZAkeGVHOUthdz09'}, 'next': 'https://graph.facebook.com/v18.0/17843857138016461/recent_media?access_token=EAAKb83xTK40BO7gBDVcd3GoFsLMwJFEv1MrkbdbqpTKOVeA2a0GuZCnusq2SuGeD4IG2GjbeEV5OkV4dzHEN53KTRoDgnsKlsPLAIkuo2Yz7zdtEYRl3IvM4mHct3e6syQu0MjKt4wq3FViWZBkms1jGhxbFmOe8ZALYRQNfOBTOs4wH9I5v4kC&user_id=17841402187545471&fields=caption%2Clike_count%2Cpermalink%2Ctimestamp%2Cmedia_type&limit=25&after=UVZAGRWVXWmtNa3BWVERoQ2VGRnlPV1J2VkRRMVkxRTNVRTl3YVhjNWVIUTNla1ZAMWjBjMk0wRlZASVWR5TFdSVlpWVm9SbFowYWpCdVZAWSnJObXBpTlZAod2QwMXlObGN3WWpOV1gxa3hNRkptZAVZAkeGVHOUthdz09'}}\n"
     ]
    }
   ],
   "source": [
    "#get_recent_media(hashtag_id, access_token,instagram_account_id)\n",
    "\n",
    "recent = get_recent_media(hashtag_id, access_token,instagram_account_id)\n",
    "\n",
    "# while True\n",
    "#    recent =  get_recent_media(hashtag_id, access_token,instagram_account_id)\n",
    "   "
   ]
  },
  {
   "cell_type": "code",
   "execution_count": 45,
   "metadata": {},
   "outputs": [
    {
     "ename": "TypeError",
     "evalue": "'Response' object is not subscriptable",
     "output_type": "error",
     "traceback": [
      "\u001b[1;31m---------------------------------------------------------------------------\u001b[0m",
      "\u001b[1;31mTypeError\u001b[0m                                 Traceback (most recent call last)",
      "Cell \u001b[1;32mIn[45], line 1\u001b[0m\n\u001b[1;32m----> 1\u001b[0m \u001b[43mrecent\u001b[49m\u001b[43m[\u001b[49m\u001b[38;5;124;43m'\u001b[39;49m\u001b[38;5;124;43mdata\u001b[39;49m\u001b[38;5;124;43m'\u001b[39;49m\u001b[43m]\u001b[49m[\u001b[38;5;241m0\u001b[39m]\n",
      "\u001b[1;31mTypeError\u001b[0m: 'Response' object is not subscriptable"
     ]
    }
   ],
   "source": [
    "recent['data'][0]"
   ]
  },
  {
   "cell_type": "code",
   "execution_count": 50,
   "metadata": {},
   "outputs": [
    {
     "name": "stdout",
     "output_type": "stream",
     "text": [
      "{'data': [{'caption': 'Sniping in Squad44 #headshot #game #gaming #squad #steam #warzonechile #war #warzone #gun #bastogne #gamer #sniper #snow #shot #chilegamers #codwarzone', 'like_count': 0, 'permalink': 'https://www.instagram.com/reel/C1NDO0vOr_3/', 'timestamp': '2023-12-23T17:32:45+0000', 'media_type': 'VIDEO', 'id': '17997164534183423'}, {'caption': '#Palestine #Gaza #war #israel #settlercolonialism #idf', 'like_count': 0, 'permalink': 'https://www.instagram.com/reel/C1NDiHDo2WZ/', 'timestamp': '2023-12-23T17:32:26+0000', 'media_type': 'VIDEO', 'id': '17983188086391024'}, {'caption': 'The reason you #love massa so much is because you don\\'t know who \"YOU\" are. This is why you buy his cars, buy his clothes and pay his taxes. 😂 This is why you want to be him. You want to be \"White\". Making dior, mercedes and dodge rich lol thinking you smart your not smart your a follower. \\nSmart men build their own. Their own cars, their own clothes. Their own government. Their own sovereignty. Their own World. Instead of trying to fit in that white man\\'s world. Tell your uncle Sam you wanna be a free nigga. A REAL Nigga 😏 instead you a SLAVE! A victim of indoctrination. Nice degree. 😂 When y\\'all ready to be free follow us theindigenousroute we are Leading the way, the new underground railroad! The ancestors passed us the baton. The #revolution is now. It\\'s a WAR going on outside. A #war for your #mind, #soul, body and yo land. Lend me your hand, your people are in the frying pan! I\\'ll die standing then to live on my knees bowing to another man. Betrayal is Payne. #god Grant me another chance to rise from the dead, I am his #sun. To raise the #consciousness of hu man. - The cristos said leave the mental plantation. #freedom how you gun blocc the Sun goofy. 😂 That\\'s a suicide mission! 60million ⬆️: tribal sovereignty we don\\'t pay taxes we collect them 😯 lil nigga. What\\'s a Draco to a Demon? 😂 Good luck. #spiritual #warfare #deleted #forever Instant Grams of Dopamine. #addicted to the #feed keep scRolling cuh. 🫴🏾 🔴🫴🏾🔵', 'like_count': 0, 'permalink': 'https://www.instagram.com/p/C1NDsPyRGZg/', 'timestamp': '2023-12-23T17:31:44+0000', 'media_type': 'IMAGE', 'id': '17915960630845136'}, {'caption': 'An aerial view of destroyed Ugledar, Donetsk region. 22 December 2023. Photo: Libkos\\n\\nВид с воздуха на разрушенный Угледар Донецкой области. 22 декабря 2023 года. Фото:  Libkos\\n\\nФото зруйнованого Вугледара Донецької області, зроблене з безпілотника. 22 грудня 2023 року. Фото: Libkos\\n\\nTelegram: https://t.me/crimina_belli\\nInstagram: crimina_belli\\nFacebook: https://facebook.com/groups/3695216794046863/?ref=share\\nВКонтакте: https://vk.com/criminabelli\\nSnapchat:\\nhttps://www.snapchat.com/add/criminabelli\\nTikTok: https://www.tiktok.com/yev_shi?_t=8iJSBz1gygb&_r=1\\n\\n#война #донбасс #украина #россия #войнанадонбассе #донецк #история #политика #пацифизм #зеленский #путин #всрф #всу #новости #Луганск #war #Donbass #Ukraine #Russia #warinDonbass #donetsk #history #politics #pacifism #Zelensky #Putin #Russianarmy #Ukrainianarmy #news #Lugansk', 'like_count': 1, 'permalink': 'https://www.instagram.com/p/C1NDqUONf9-/', 'timestamp': '2023-12-23T17:31:29+0000', 'media_type': 'IMAGE', 'id': '18041328805614836'}, {'caption': 'Friend!!!\\n#Friend #dost #yaar #jannat #heen #palistine🇵🇸 #war #trending #saqibrazamustafai💞💞💞 #saqibrazamustafai #motivation #motivational #motivationalquotes #quotes', 'like_count': 1, 'permalink': 'https://www.instagram.com/reel/C1NDPBfvnTB/', 'timestamp': '2023-12-23T17:30:45+0000', 'media_type': 'VIDEO', 'id': '17924631056736457'}, {'caption': 'Abonne toi je post 1 vidéo par jour #tonyyoka #boxeanglaise #ko #fight #punition #war', 'like_count': 0, 'permalink': 'https://www.instagram.com/reel/C1NDS6jixWw/', 'timestamp': '2023-12-23T17:30:35+0000', 'media_type': 'VIDEO', 'id': '18009844712291246'}, {'caption': 'Was glaubst Du, welches Tier wird in Zukunft an den Märkten dominieren?\\u2060\\n\\u2060\\nSchreibe es gerne in unsere Kommentare.\\u2060\\n\\u2060\\n\\u2060\\n\\u2060\\n\\u2060\\n#bundeswehr #europe #soldaten #stolz #weapons #soldat #luftwaffe #heer #nato #patches #instagood #france #militaire #germanmilitary #insta #mightygermany #wirdienendeutschland #armeedeterre #armee #airforce #war #frencharmy #combat #germanyarmy #armeefrancaise #milfit #bundeswehrkrankenhaus #bundeswehrmemes #memes #crossfit', 'like_count': 1, 'permalink': 'https://www.instagram.com/p/C1NDgIKR1Bf/', 'timestamp': '2023-12-23T17:30:09+0000', 'media_type': 'IMAGE', 'id': '18045655144561493'}, {'caption': '‘In the Mood’\\nSeries 1 - Episode 6\\n\\nAfter Yvonne finds out the true cost of Gary’s wartime hobby, Yvonne warns Gary it’s time for him to stop with his obsession. As Gary clears away his memorabilia, he comes across a video tape that could help him back in 1940, as he knows the exact time and place that he can take his wartime gang to meet the King. all goes to plan and there are celebrations between Gary and Phoebe. However the celebration is cut short when Phoebe gets some worrying news, leaving Gary questioning whether it is time to leave the past in the past for good.\\n\\nSocials\\nInstagram - duckettspod\\nTwitter/X - duckettspod\\nFacebook - ‘A Trip Down Ducketts Passage’ or ‘Ducketts Passage’\\nEmail - duckettspod@gmail.com\\nSpotify - A Trip Down Ducketts Passage\\n\\nYou can find us on Spotify, Amazon Music, Apple Podcast, Tunein, and Google Podcasts.\\n\\nWhere to watch Goodnight Sweetheart - That’s TV channel or on ITVX\\n\\nPlease Like, Share, Review and Follow us for all Goodnight Sweetheart content.\\n\\n#goodnightsweetheart #podcast #sitcom #1990s #1940s #timetravel #timeslip #worldwar2 #london #royaloak #pub #sitcom #phoebesparrow #spotify #newepisode #bigamy #garysparrow #timetraveller #history #review #overview #twowives #duckettspassage #nostalgia #television #blitz #blastfromthepast #christmas #festive #war', 'like_count': 0, 'permalink': 'https://www.instagram.com/p/C1NDc8DtVbQ/', 'timestamp': '2023-12-23T17:29:39+0000', 'media_type': 'CAROUSEL_ALBUM', 'id': '17994334634227507'}, {'caption': '————✧༺༻✧—————\\n💫𝙎 𝙃 𝘼 𝙍 𝙀 ⌲\\n💫𝙁 𝙊 𝙇 𝙇 𝙊 𝙒 aawaz_haq_ki_01\\n\\n———————✧༺༻✧——————\\n\\n\"𝘛𝘩𝘪𝘴 𝘸𝘰𝘶𝘭𝘥 𝘣𝘦 𝘚𝘢𝘥𝘲𝘢 𝘌 𝘡𝘢𝘳𝘪𝘺𝘢 𝘧𝘰𝘳 𝘺𝘰𝘶 𝘢𝘯𝘥 𝘔𝘦\".\\n\\n❤𝙿𝚛𝚘𝚙𝚑𝚎𝚝 𝙼𝚞𝚑𝚊𝚖𝚖𝚊𝚍 ﷺ 𝚜𝚊𝚒𝚍, \"𝚃𝚑𝚎 𝚘𝚗𝚎 𝚠𝚑𝚘 𝙶𝚞𝚒𝚍𝚎 𝚝𝚘 𝚂𝚘𝚖𝚎𝚝𝚑𝚒𝚗𝚐 𝚐𝚘𝚘𝚍 𝚑𝚊𝚜 𝚊 𝚂𝚒𝚖𝚒𝚕𝚊𝚛 𝚁𝚎𝚠𝚊𝚛𝚍 𝚝𝚘 𝚝𝚑𝚎 𝚘𝚗𝚎 𝚍𝚘𝚒𝚗𝚐 𝚒𝚝\". ( 𝙼𝚞𝚜𝚕𝚒𝚖 1893 ) \\n\\n———————✧༺༻✧——————\\n\\n#quran #quranhindi #viral #masjid#allahﷻ#prophetmuhammadﷺ ﷺ  #quranhindi #quranverses#viral #namaz #makkah #madinah #instagramreels #allahﷻ #jahannam #qyamat #shirk  #kafir #plestine #israel #war #freeplestine🇵🇸', 'like_count': 6, 'permalink': 'https://www.instagram.com/reel/C1NDDeFPMwp/', 'timestamp': '2023-12-23T17:29:23+0000', 'media_type': 'VIDEO', 'id': '18004371713209010'}, {'caption': 'I know it is near Christmas, and people probably don’t want to read this right now, but that is part of the point; if not now, when? \\n\\nTo the universe, there is no discrimination about when information is shared. It’s not like, “Oh, it’s Christmas. Wait to share it with the people.” \\n\\nThe timing around Christmas helps point to all our distractions with shiny material consumption. The timing also magnifies the importance of family. \\n\\nWe are also upon the New Year, a sign of new times. It is an act of love to prepare people. To give humanity the chance to wake up, AWAKEN, and get ready. \\n\\nRead “WHO WILL LISTEN TO THE WOMAN WHO TALKS ABOUT HER DREAMS?” @ https://kokowolfe.com/\\n\\nThe website link is in the bio 💛✨\\n\\n*\\n\\n*\\n\\n*\\n\\n#dreamtime #highlysensitivepeople #premonition #prepare #timesarechanging #war #perception #guides #guardians #universehasyourback #wearetheuniverse #listen #respond #offthegridliving #offthegrid #parenting #family #community #newways #newwave #purpose #newearthnow #christmas #newyear2024', 'like_count': 1, 'permalink': 'https://www.instagram.com/p/C1NDZ-KpIRe/', 'timestamp': '2023-12-23T17:29:15+0000', 'media_type': 'IMAGE', 'id': '18019302901817873'}, {'caption': 'Şehitlerimizin Ruhu Şad Olsun.\\nVatan Sağolsun.\\n\\nTürk Piyade Komandoları - Mavi Bereliler ⚡\\n#GÜÇLÜYÜZCESURUZHAZIRIZ ..\\nTurkish Infantry Commandos - Blue Berets ⚡\\n#KOMANDOYENİLMEZ\\n#HERZAMANHERYERDE\\nInstagram / turkeycommando \\n#turkeycommando #komando #commando #asker #soldier #piyadekomando #piyade #war #warrior #turkey #motivation #infantryman #ship #submarine #armedforces #militaryphoto #maritime #türkkarakuvvetleri #savunmabakanlığı #infantry #mpt76 #türksilahlıkuvvetleri⚔️🪖', 'like_count': 69, 'permalink': 'https://www.instagram.com/p/C1NDV79IX0q/', 'timestamp': '2023-12-23T17:28:42+0000', 'media_type': 'IMAGE', 'id': '17997737915162489'}, {'caption': 'Digital zine poetry project - “I can’t imagine how you must feel” (link in bio)\\n\\n+ Digital zine & cover art by (me) ia_poetry_official\\n+ Poetry prompt idea by khalidalbaih \\n\\n~ A digital renga using anaphora.\\n\\nCollaborating Sudanese Poets:\\nbastgepoet_\\nthe_dual_duo \\nahmedelnasri.a\\nfaatuumah \\nshah__noor \\nnihal_writes \\nhumanthepoet \\nassassinateher \\n\\n#poetry #zine #digitalzine #Sudan #Poet #writer #sudanese #sudanespoetry #sudanesewriters #archive #library #KeepEyesOnSudan #SudanActionWeek #Sudan_Updates #Sudanese #war #blacklivesmatter #darfur #african #africanwriters', 'permalink': 'https://www.instagram.com/p/C1NDTvsOcHj/', 'timestamp': '2023-12-23T17:28:24+0000', 'media_type': 'IMAGE', 'id': '18062017921469188'}, {'caption': 'Political terrorism\\n\\n#domestic#terrorist#geoengineering#enemy#cfr#fed#1913#fiat#currency#reality#manufactured#crisis#actors#war#life#republican#shootings#military#training#coincidence#usa#puppets#wakeup#payattn', 'like_count': 0, 'permalink': 'https://www.instagram.com/p/C1NDPsWRRhG/', 'timestamp': '2023-12-23T17:27:51+0000', 'media_type': 'IMAGE', 'id': '17965003628677035'}, {'caption': 'Who is UNRWA? And what are the problems with it?\\nHere’s a compilation of the major problems with the organization.\\n\\nSources: unitednationswatch , Palestinian Media Watch, Wikipedi\\n\\nwe_love_humans_\\n\\n#unrwa #un #currentaffairs #worldnews #news #warcrimes #warcrime #israel #middleeast #war', 'like_count': 0, 'permalink': 'https://www.instagram.com/reel/C1NC5aZIGfL/', 'timestamp': '2023-12-23T17:27:50+0000', 'media_type': 'VIDEO', 'id': '18018090598948364'}, {'caption': 'You might think the only reason behind Israel’s decision to starve Gaza is seeking revenge (rightfully so), however, deciding to starve Palestinians is fueled by more sinister and systematic reasons. We will discuss them over 4 parts before explaining exactly what happens when a population is starved.\\n\\ndecolonising_healthcare will post all parts.\\n\\n#freepalestine #publichealth #starvation #kids #babies #war #justice #nft #freedom', 'like_count': 1, 'permalink': 'https://www.instagram.com/reel/C1NC6CVLNvE/', 'timestamp': '2023-12-23T17:27:50+0000', 'media_type': 'VIDEO', 'id': '17925216002733359'}, {'caption': 'New Podcast Episode!\\nA FESTIVE EDITION OF A TRIP DOWN DUCKETTS PASSAGE\\n‘In the Mood’\\nSeries 1 - Episode 6\\n\\nAfter Yvonne finds out the true cost of Gary’s wartime hobby, Yvonne warns Gary it’s time for him to stop with his obsession. As Gary clears away his memorabilia, he comes across a video tape that could help him back in 1940, as he knows the exact time and place that he can take his wartime gang to meet the King. all goes to plan and there are celebrations between Gary and Phoebe. However the celebration is cut short when Phoebe gets some worrying news, leaving Gary questioning whether it is time to leave the past in the past for good.\\n\\nAlso on this episode of ‘A Trip Down Ducketts Passage’:\\nWe get in the mood for Christmas as we look at what Christmas would’ve looked like during World War ll.\\nA festive timeslip story on Bold Street.\\nA time slip story featuring some strange toilets in Norwich.\\nWe say goodbye to Eric Bamford.\\nAnd much, much more!!\\n\\nSocials\\nInstagram - duckettspod\\nTwitter/X - duckettspod\\nFacebook - ‘A Trip Down Ducketts Passage’ or ‘Ducketts Passage’\\nEmail - duckettspod@gmail.com\\nSpotify - A Trip Down Ducketts Passage\\n\\nYou can find us on Spotify, Amazon Music, Apple Podcast, Tunein, and Google Podcasts.\\n\\nWhere to watch Goodnight Sweetheart - That’s TV channel or on ITVX\\n\\nPlease Like, Share, Review and Follow us for all Goodnight Sweetheart content.\\n\\n#goodnightsweetheart #podcast #sitcom #1990s #1940s #timetravel #timeslip #worldwar2 #london #royaloak #pub #sitcom #phoebesparrow #spotify #newepisode #bigamy #garysparrow #timetraveller #history #review #overview #twowives #duckettspassage #nostalgia #television #blitz #blastfromthepast #christmas #festive #war', 'like_count': 0, 'permalink': 'https://www.instagram.com/p/C1NDLqbtwbB/', 'timestamp': '2023-12-23T17:27:18+0000', 'media_type': 'IMAGE', 'id': '18019063138822260'}, {'caption': '.. Turn Friday’s into “A FRIDAY”\\ntgifridays \\n\\n dj_keetielow ™\\n#FloErzArkENT ™\\n\\n#djkeetielow \\n#djingismylife \\n#djingislife \\n#djlife \\n#djlifestyle \\n#her\\n#damage\\n#mix\\n#blendmusic\\n#blend\\n#randb \\n#dj\\n#mood\\n#international \\n#global\\n#theculture\\n#hiphop\\n#floerzarkent \\n#greatmix \\n#seratodj \\n#serato\\n#war\\n#tiktok\\n#tiktokers\\n#zone\\n#music \\n#value \\n#allnatural', 'like_count': 3, 'permalink': 'https://www.instagram.com/p/C1NDJvbu-O5/', 'timestamp': '2023-12-23T17:27:02+0000', 'media_type': 'CAROUSEL_ALBUM', 'id': '18032035084688608'}, {'caption': \"Hi there followers.........\\n\\nThe first book, A United Kingdom - Trains Of Logical Thought:\\n\\n(Introduction)\\nAbortion\\nChild Of The World\\nThe Democratic Will Of The People\\n(Brexit Pt.1)\\nThe Depths Of The Subconscious\\nThe Great British Fallacy\\nThe Movers & Shakers\\nThe NHS Pt.1 (Compulsions v Consequences)\\nThe NHS Pt. 2 (Tobacco Road)\\nPandora's Box\\nProfessionalism Personified\\nThe Rabies Of Propaganda\\nStrategic Styles\\n(Blair/Cameron/May/Thatcher)\\nThou Shalt Not Kill\\nWatching The Television\\nThe Will Of The People (Brexit Pt.2)\\n\\nWell spotted, those of you that've noticed the alphabetical order!\\n\\nlinktr.ee/stuartwatkinsauthor\\n\\n#logic #politics #philosophy #economics #psychology #abortion #Brexit #propaganda #pornography #monarchy #television #war #tobacco\", 'like_count': 0, 'permalink': 'https://www.instagram.com/p/C1NDE8BoXIO/', 'timestamp': '2023-12-23T17:26:23+0000', 'media_type': 'IMAGE', 'id': '18035609812724362'}, {'caption': 'Fake Blood - professionals at work\\n\\nFor those want to crush 2024, you better workout and start now. even Christmas, make it a bloody Xmas.\\n\\n#motivation #discipline #mma #boxing #war #masculinity #testosterone #testosteroneedit #masculinityedit #warrior #UFC #pridefc', 'like_count': 1, 'permalink': 'https://www.instagram.com/reel/C1NDCYnIcgp/', 'timestamp': '2023-12-23T17:26:17+0000', 'media_type': 'VIDEO', 'id': '18024817540888861'}, {'caption': 'We lovely , bit of Winston Churchill ...😩😅\\n•\\n•\\n•\\n#photography #fashion #photo #workout #followme #acter #beautiful #realjameslowe #happy #foryou #fyp #russia #dream #meme #war #india #bodybuilding #camera #acting #news #tram #Germany #goth #Berlin #Stalybridge #christmas #london', 'permalink': 'https://www.instagram.com/p/C1NC-gdIx8u/', 'timestamp': '2023-12-23T17:25:30+0000', 'media_type': 'IMAGE', 'id': '18049867996558975'}, {'caption': 'I will be the best. \\n.\\n.\\n.\\n#best #samsulek #hardwork #dedication #fitness #fitnessmotivation #quotes #motivationalquotes #motivation #war #army', 'like_count': 1, 'permalink': 'https://www.instagram.com/reel/C1NCu1zPHiB/', 'timestamp': '2023-12-23T17:24:50+0000', 'media_type': 'VIDEO', 'id': '18079912942421316'}, {'caption': '💔\\n. \\n. \\n. \\n#allah #aestheticposts #allahkaghar #iloveislam🕋 #iloveislam #muslimworld #muslimrights #muslim_instagram #islam_is_peace #islam_is_my_life #islam_my_motivation #islam_is_peace #truth #war #stopwar #stop #weather #rain #rainyweather', 'like_count': 0, 'permalink': 'https://www.instagram.com/reel/C1NCspKCeTT/', 'timestamp': '2023-12-23T17:24:29+0000', 'media_type': 'VIDEO', 'id': '18276223480094513'}, {'caption': \"•The war ⚔️between me 🌪️and myself🔥 is nobody else's business..❌\\n.\\n.\\n.\\n«🐺🧠 Wolf 🌪️♓»\\n.\\n.\\n.\\n#kata #karateka #karate #karategirl #kumite #war #wolf #algerienne #algeria #kabyle_girl #kabyle_dz #gym #gymmotivation #wkfkarate #championship #♓︎ #wolf\", 'like_count': 14, 'permalink': 'https://www.instagram.com/reel/C1NCXZrM_LF/', 'timestamp': '2023-12-23T17:23:06+0000', 'media_type': 'VIDEO', 'id': '17984731595539686'}, {'caption': 'Look at this sweet baby girl who has injured in her limbs , look how she can’t open her eyes as  like she is saying to herself why all this thing is happening to me ! what’s my fault ! For anyone who has any kind of humanity around the world please save our children and keep praying for us 🙏🏼\\n#gaza_under_attack #palestine #war #cheldren #humanity #sevillanas #israelattack #ceasefirenow🇵🇸', 'like_count': 151, 'permalink': 'https://www.instagram.com/reel/C1M81pbt6tG/', 'timestamp': '2023-12-23T16:41:51+0000', 'media_type': 'VIDEO', 'id': '18032606635686135'}, {'caption': 'Didn’t you get enough yet?!!!!\\n\\n#europe #media #explorepage #babies #savepalestine #savegazachildren #gaza #ghazaunderattack #ghaza #sos #unitednations #usa #people #stopgenocide #genocide #gaza #gazaunderattack #war #massacre #genocide #crime #savepalestine #savegaza #أخبار #news #newsupdate #explore #explorepage #foryou #foryoupage #fyp', 'like_count': 24, 'permalink': 'https://www.instagram.com/reel/C1KxQ1fsj5i/', 'timestamp': '2023-12-22T20:12:50+0000', 'media_type': 'VIDEO', 'id': '18293567074145857'}], 'paging': {'cursors': {'after': 'UVZAGRWRWTmFTblp0UzI1b2N6Qk9UMWhIYldvMVYyMWlSamhyTldzelptZAzRPSGQ0U2pGUFFWcHpXbkZA0VjJaVlRFSnFabVJWZAURCVlh6ZAG5WUzFSVGpFMk5qbENiRGx2VWtvNVpHaGxUWGhmWVdWa2NFTTJTdz09'}, 'next': 'https://graph.facebook.com/v18.0/17843857138016461/recent_media?access_token=EAAKb83xTK40BO7gBDVcd3GoFsLMwJFEv1MrkbdbqpTKOVeA2a0GuZCnusq2SuGeD4IG2GjbeEV5OkV4dzHEN53KTRoDgnsKlsPLAIkuo2Yz7zdtEYRl3IvM4mHct3e6syQu0MjKt4wq3FViWZBkms1jGhxbFmOe8ZALYRQNfOBTOs4wH9I5v4kC&user_id=17841402187545471&fields=caption%2Clike_count%2Cpermalink%2Ctimestamp%2Cmedia_type&limit=25&after=UVZAGRWRWTmFTblp0UzI1b2N6Qk9UMWhIYldvMVYyMWlSamhyTldzelptZAzRPSGQ0U2pGUFFWcHpXbkZA0VjJaVlRFSnFabVJWZAURCVlh6ZAG5WUzFSVGpFMk5qbENiRGx2VWtvNVpHaGxUWGhmWVdWa2NFTTJTdz09'}}\n",
      "2023-12-23T17:22:28+0000\n",
      "2023-12-23T17:10:10+0000\n",
      "2023-12-23T17:01:24+0000\n",
      "2023-12-23T16:53:01+0000\n",
      "2023-12-23T16:43:58+0000\n",
      "2023-12-23T16:39:04+0000\n",
      "2023-12-23T16:32:09+0000\n",
      "2023-12-23T16:19:13+0000\n",
      "2023-12-23T16:09:26+0000\n",
      "2023-12-23T16:00:46+0000\n",
      "2023-12-23T15:50:51+0000\n",
      "2023-12-23T15:42:25+0000\n",
      "2023-12-23T15:33:32+0000\n",
      "2023-12-23T15:25:25+0000\n",
      "2023-12-23T15:18:24+0000\n",
      "2023-12-23T15:06:18+0000\n",
      "2023-12-23T14:59:28+0000\n",
      "2023-12-23T14:54:59+0000\n",
      "2023-12-23T14:45:48+0000\n",
      "2023-12-23T14:35:11+0000\n",
      "2023-12-23T14:26:07+0000\n",
      "2023-12-23T14:10:40+0000\n",
      "2023-12-23T14:02:16+0000\n",
      "2023-12-23T13:56:58+0000\n",
      "2023-12-23T13:50:40+0000\n",
      "2023-12-23T15:30:00+0000\n",
      "2023-12-23T13:31:24+0000\n",
      "2023-12-23T13:18:33+0000\n",
      "2023-12-23T15:00:00+0000\n",
      "2023-12-23T13:00:57+0000\n",
      "2023-12-23T12:52:56+0000\n",
      "2023-12-23T14:00:00+0000\n",
      "2023-12-23T12:31:37+0000\n",
      "2023-12-23T12:22:16+0000\n",
      "2023-12-23T12:08:07+0000\n",
      "2023-12-23T11:56:59+0000\n",
      "2023-12-23T11:49:46+0000\n",
      "2023-12-23T11:39:34+0000\n",
      "2023-12-23T11:28:44+0000\n",
      "2023-12-23T11:22:10+0000\n",
      "2023-12-23T11:09:40+0000\n",
      "2023-12-23T10:53:47+0000\n",
      "2023-12-23T10:42:31+0000\n",
      "2023-12-23T10:27:20+0000\n",
      "2023-12-23T16:35:05+0000\n",
      "2023-12-23T10:09:04+0000\n",
      "2023-12-23T09:57:11+0000\n",
      "2023-12-23T09:44:11+0000\n",
      "2023-12-23T09:28:51+0000\n",
      "2023-12-23T09:16:22+0000\n",
      "2023-12-23T09:01:15+0000\n",
      "2023-12-23T08:52:52+0000\n",
      "2023-12-23T08:39:52+0000\n",
      "2023-12-23T08:30:24+0000\n",
      "2023-12-23T08:21:08+0000\n",
      "2023-12-23T08:06:45+0000\n",
      "2023-12-23T07:56:38+0000\n",
      "2023-12-23T07:41:43+0000\n",
      "2023-12-23T07:33:57+0000\n",
      "2023-12-23T07:17:18+0000\n",
      "2023-12-23T07:06:38+0000\n",
      "2023-12-23T06:53:54+0000\n",
      "2023-12-23T06:38:51+0000\n",
      "2023-12-23T06:23:58+0000\n",
      "2023-12-23T06:13:35+0000\n",
      "2023-12-23T06:05:10+0000\n",
      "2023-12-23T05:53:20+0000\n",
      "2023-12-23T16:00:00+0000\n",
      "2023-12-23T05:20:36+0000\n",
      "2023-12-23T05:16:53+0000\n",
      "2023-12-23T13:00:00+0000\n",
      "2023-12-23T04:38:24+0000\n",
      "2023-12-23T04:17:22+0000\n",
      "2023-12-23T03:57:33+0000\n",
      "2023-12-23T03:31:36+0000\n",
      "2023-12-23T03:07:04+0000\n",
      "2023-12-23T02:42:16+0000\n",
      "2023-12-23T10:30:00+0000\n",
      "2023-12-23T01:50:11+0000\n",
      "2023-12-23T01:26:36+0000\n",
      "2023-12-23T01:11:18+0000\n",
      "2023-12-23T00:56:19+0000\n",
      "2023-12-23T00:48:34+0000\n",
      "2023-12-23T00:29:12+0000\n",
      "2023-12-23T00:09:45+0000\n",
      "2023-12-22T23:55:41+0000\n",
      "2023-12-22T23:36:25+0000\n",
      "2023-12-22T23:12:31+0000\n",
      "2023-12-22T22:53:27+0000\n",
      "2023-12-22T22:32:50+0000\n",
      "2023-12-22T22:14:36+0000\n",
      "2023-12-22T22:02:51+0000\n",
      "2023-12-22T21:48:10+0000\n",
      "2023-12-22T21:38:56+0000\n",
      "2023-12-22T21:26:05+0000\n",
      "2023-12-22T21:12:07+0000\n",
      "2023-12-22T20:56:47+0000\n",
      "2023-12-22T20:50:14+0000\n",
      "2023-12-22T20:33:24+0000\n",
      "2023-12-22T20:20:39+0000\n",
      "2023-12-22T20:09:42+0000\n",
      "2023-12-22T20:00:00+0000\n",
      "2023-12-22T19:50:49+0000\n",
      "2023-12-22T19:43:35+0000\n",
      "2023-12-23T02:30:32+0000\n",
      "2023-12-22T19:15:23+0000\n",
      "2023-12-22T19:01:23+0000\n",
      "2023-12-22T18:53:57+0000\n",
      "2023-12-22T18:42:30+0000\n",
      "2023-12-23T14:55:00+0000\n",
      "2023-12-22T18:25:15+0000\n",
      "2023-12-22T18:20:30+0000\n",
      "2023-12-22T18:35:00+0000\n",
      "2023-12-22T18:06:56+0000\n",
      "2023-12-22T18:01:16+0000\n",
      "2023-12-22T17:54:15+0000\n",
      "2023-12-23T12:00:26+0000\n",
      "2023-12-23T11:05:57+0000\n"
     ]
    },
    {
     "ename": "IndexError",
     "evalue": "list index out of range",
     "output_type": "error",
     "traceback": [
      "\u001b[1;31m---------------------------------------------------------------------------\u001b[0m",
      "\u001b[1;31mIndexError\u001b[0m                                Traceback (most recent call last)",
      "Cell \u001b[1;32mIn[50], line 9\u001b[0m\n\u001b[0;32m      7\u001b[0m response \u001b[38;5;241m=\u001b[39m requests\u001b[38;5;241m.\u001b[39mget(recent[\u001b[38;5;124m'\u001b[39m\u001b[38;5;124mpaging\u001b[39m\u001b[38;5;124m'\u001b[39m][\u001b[38;5;124m'\u001b[39m\u001b[38;5;124mnext\u001b[39m\u001b[38;5;124m'\u001b[39m] )\n\u001b[0;32m      8\u001b[0m recent \u001b[38;5;241m=\u001b[39m response\u001b[38;5;241m.\u001b[39mjson()\n\u001b[1;32m----> 9\u001b[0m \u001b[38;5;28mprint\u001b[39m(\u001b[43mrecent\u001b[49m\u001b[43m[\u001b[49m\u001b[38;5;124;43m'\u001b[39;49m\u001b[38;5;124;43mdata\u001b[39;49m\u001b[38;5;124;43m'\u001b[39;49m\u001b[43m]\u001b[49m\u001b[43m[\u001b[49m\u001b[38;5;241;43m0\u001b[39;49m\u001b[43m]\u001b[49m[\u001b[38;5;124m'\u001b[39m\u001b[38;5;124mtimestamp\u001b[39m\u001b[38;5;124m'\u001b[39m] )\n",
      "\u001b[1;31mIndexError\u001b[0m: list index out of range"
     ]
    }
   ],
   "source": [
    "count = 0\n",
    "recent = get_recent_media(hashtag_id, access_token,instagram_account_id)\n",
    "while True:\n",
    "    if (recent['paging']['next'] == ''):\n",
    "        break;\n",
    "    count = count + 1\n",
    "    response = requests.get(recent['paging']['next'] )\n",
    "    recent = response.json()\n",
    "    recent['data'][0]['timestamp'] )\n",
    "\n"
   ]
  },
  {
   "cell_type": "code",
   "execution_count": 53,
   "metadata": {},
   "outputs": [
    {
     "name": "stdout",
     "output_type": "stream",
     "text": [
      "{'data': [{'caption': 'พวกแกก็ใจเย็นๆก่อน ค่อยๆคุยกัน อย่าประชดกันแบบนี้สาววายชิปไม่ถูก😂🤭\\n\\n#ฟีด #fyp #yinyin_anw #warwanarat #promratchapat #bonnadol #yin #war #prom #bon #yinwar #หยิ่นอานันท์ #วอร์วนรัตน์ #พร้อมราชภัทร #บอนซ์ณดล #หยิ่นวอร์ #หยิ่นวอร์เป็นแฟนกัน #หยิ่นพร้อม #บอนซ์วอร์ #หมูยอของหยิ่นวอร์', 'like_count': 51, 'permalink': 'https://www.instagram.com/p/C1Mnfu_r1MN/', 'id': '17900042738923518'}, {'caption': 'Taiwanese Giant Shipping line Evergreen has officially ceased accepting Israeli cargo following Yemen’s Pro-Palestine maritime war against the Israeli Regime.\\n\\nEvergreen further asked all its container ships to halt navigation through the Red Sea until further notice. \\n\\nEvergreen further cited that ships on regional services to the Red Sea ports will sail to safe waters nearby and await further instructions. Meanwhile, container ships destined to pass through the Red Sea will reroute around the Cape of Good Hope and reach their destination accordingly.\\n\\n#breaking #news #2023 #december #latest #breakingnews #national #international #stories #new #update #information #info #breakdown #breakingstory #Israel #Israeli #war #war2023 #warupdates #evergreen #cargoship #cargo #israelicargo #maritime', 'like_count': 5427, 'permalink': 'https://www.instagram.com/p/C1IMoMEtSgu/', 'id': '18036860005724943'}, {'caption': 'Male figure. Colima culture, Comala style, 300 B.C - 200 A.D. ceramic. State of Colima, Mexico 🇲🇽 \\n\\n🏺 The Colimas are a population of western Mexico who are thought to have lived from 300 BC to 500 AD. The artistic production of the Colimas is marked by an abundance of ceramics of extraordinary variety and quality. In fact, the Colimas produced numerous terracotta figures and vases, as well as large hollow ceramics for funerary purposes, along with statuettes and pottery. The ornamentation on Colima ceramics is quite complex, and differs greatly from that of other civilisations in central Mexico. The figures - anthropomorphic or zoomorphic - wear extremely elaborate and precise hairstyles, jewellery, clothing and other details. Here, the figure is shown standing and holding a mace.\\n-\\n📍Rietberg Museum, Zürich 🇨🇭 \\n.\\n.\\n.\\n#america #northamerica #mesoamerica #mesoamerican #mexico #colima #mexicanculture #ancientcivilization #ancientculture #ancientart #archeology #arqueologiamexicana #precolumbian #precolumbianart #prehispanico #prehispanic #colimacolima #sculpture #figurine #terracotta #war #museum #museumlover #rietbergmuseum #switzerland🇨🇭 #zurich', 'like_count': 34, 'permalink': 'https://www.instagram.com/p/C1NBWQzKr9I/', 'id': '18132022954314449'}, {'caption': '#aviation #aircraftphotography #warbirds #war ##aviationlovers #aviationphoto #vintage #instagram #vintagestyle #warplane #raf #planesofinstagram #ww2 #ww2planes #ww2history #militaryaviation #militaryaviationphotography #vintageaircraft #aviationphotography #avgeek #planespotter #planes', 'like_count': 984, 'permalink': 'https://www.instagram.com/p/C1FEvS7tf_j/', 'id': '17947677836736796'}, {'caption': '😩❤️\\n.\\n.\\n.\\n.\\n.#vtipy #vtip #vtipyamemesprokazdeho #memesdaily #jokes #joke #meme #memes😂 #ukrajina #memecz #memescz #memes #memes #dankmemes #memesczsk #sranda #srandamusibyt #memessk #war #faktyczsk #zabava #czech #slovakia #legrace #citat', 'like_count': 204, 'permalink': 'https://www.instagram.com/p/C1M-bcwtNcA/', 'id': '18072357889444246'}, {'caption': '😩❤️\\n.\\n.\\n.\\n.\\n.#vtipy #vtip #vtipyamemesprokazdeho #memesdaily #jokes #joke #meme #memes😂 #ukrajina #memecz #memescz #memes #memes #dankmemes #memesczsk #sranda #srandamusibyt #memessk #war #faktyczsk #zabava #czech #slovakia #legrace #citat', 'like_count': 211, 'permalink': 'https://www.instagram.com/p/C1M-h3ytWfI/', 'id': '18000023843132191'}, {'caption': '😩❤️\\nBudu rád za follow dekujuu <3\\n.\\n.\\n\\n.\\n.\\n.\\n#vtipy #vtip #vtipyamemesprokazdeho #memesdaily #jokes #joke #meme #memes😂 #ukrajina #memecz #memescz #memes #memes #dankmemes #memesczsk #sranda #srandamusibyt #memessk #war #faktyczsk #zabava #czech #slovakia #legrace #citat', 'like_count': 319, 'permalink': 'https://www.instagram.com/p/C1M-mT3tC0y/', 'id': '18276824728095142'}, {'caption': 'Flower and nightingale collection\\n.\\n.« یلداتون مبارک ❤️🍉»\\n.\\n.\\n#بلبل #گل #گلومرغ #تصویرسازی #نقاشی_ایرانی #نگارگری #هنرایرانی #مینیاتور #گرافیک #یلدا #شب_یلدا #انار #هوش_مصنوعی #دیجیتال_آرت #flowers #iran #orang #war #aiart #geaphicdesign #miniature #iranart #art #nft', 'like_count': 1417, 'permalink': 'https://www.instagram.com/p/C1FdZsdtgms/', 'id': '17982588059614246'}, {'caption': '«RUSSLAND HAT UKRAINE VERLOREN»\\n\\nDer NATO-Generalsekretär Jens Stoltenberg sagte heute: «Putin hat die Ukraine für immer verloren. Russland wird dort seine Ziele nicht mehr erreichen.» \\n \\nSeiner Meinung nach bestand der Zweck der Invasion in der Ukraine darin, eine Annäherung des Landes an die NATO und die EU zu verhindern: Doch nach fast zwei Jahren Krieg ist die Ukraine ihnen näher als je zuvor. Stoltenberg erklärte auch, dass wir nicht mit einem schnellen Ende des Krieges rechnen sollten.\\n\\n#ukraineaktuell #russia #ukraine #russland #freedom #defence #war #krieg #konflikt #conflict #eurasian #tank #soldiers #civilians #ukraineaktuell #news #fight #battle #victory #selensky #selenski #stoltenberg #nato #northatlantictreatyorganization #northatlanticterroristorganization #putin #loss', 'like_count': 39, 'permalink': 'https://www.instagram.com/p/C1M3QQnMjTe/', 'id': '18404196538055049'}, {'caption': 'Pray for Sudan \\n\\n#sudan #palestine #pray #god #allah #islam #christian #christmas #war #hate #killing #world #love', 'like_count': 3, 'permalink': 'https://www.instagram.com/p/C1NIq91RU-l/', 'id': '17941309853764592'}, {'caption': \"I haven't said much around the conflict and deaths in Gaza but as a person who cares deeply about the safety of children worldwide, I am terribly troubled and absolutely horrified. All children ever want is to be safe, loved and know they matter. The children of Gaza matter. The children of Israel matter . All children matter. They had stories, and they had stories that will never be told. :( #christmas #remember #childrenofgaza #matter #childrenofisrael #matter\", 'like_count': 535, 'permalink': 'https://www.instagram.com/p/C1IySQFBOBf/', 'id': '17993007572400570'}, {'caption': 'Thinking about his actions.\\n\\n#starwars#war#rebels#empire#imperial#vehicle#jedi#sith#501st#clone#clonetrooper#trooper#starwarsnerd#clonewars#theclonewar#starwarsfanart#bountyhunter#lastorder#theempire#starwarsday#starwarsfans#picture#starwarsart#starwarsedit#ship#space#spaceship#starwarsmemes', 'like_count': 1087, 'permalink': 'https://www.instagram.com/p/C1H7SeYK2Ok/', 'id': '18016960666996551'}, {'caption': 'You know who you are? 😉😙\\n\\n#putchristbackinchristianity  #jesuschrist #immigrants #war #warcrimes #murderinthenameofgod #hatredinthenameofgod #isntitironic', 'like_count': 1112, 'permalink': 'https://www.instagram.com/p/C1Ayau_OyjB/', 'id': '18063755812479231'}, {'caption': 'Ukrainian serviceman Yura kisses his girlfriend Margarita after they had not seen each other for six months. He is fighting in the Donbas and on a brief leave for Christmas. To make the most out of the little time they have together, Margarita has come to see him in Kramatorsk, a relatively calm town near the front line.\\n\\n#Ukraine #donbas #war #christmas', 'like_count': 44, 'permalink': 'https://www.instagram.com/p/C1NISkJrEL9/', 'id': '18005042234195727'}, {'caption': 'Ukrainian serviceman Vyacheslav greets his wife Viktoria who is visiting him during a short break from his frontline duty in Kramatorsk, Ukraine, December 22, 2023. \\xa0📷 tomoroz  #ukraine #russia #war #conflict #reuters #reutersphotos', 'like_count': 3009, 'permalink': 'https://www.instagram.com/p/C1MrlUWu0xg/', 'id': '18127634773316951'}, {'caption': 'Christmas Snap🤍🌿\\n.\\n.\\n.\\n.\\n#no #to #war #christmas #celebration', 'like_count': 104, 'permalink': 'https://www.instagram.com/p/C1MWmYdvAdd/', 'id': '17981502275422508'}, {'caption': 'Nouvelle vidéo sur le YouTube !\\n\\nRetrouvez nous lors de notre journée à Paris le 2 décembre 2023 au Invalides et à la cérémonie du ravivage de la flamme à l’Arc de Triomphe !\\nPremière partie ce moi-ci, la seconde sera postée en 2024.\\n\\nNous espérons que vous profiterez de la video !\\nEn vous souhaitant de bonnes fêtes, à 2024 !\\n\\n(crédit photo : Musée de l’Armée, Paris, France, 2023, georges1394)\\n\\n#reconstitution #historique #reconstitutionhistorique #histoire #reenactment #france #war #guerre #infanterie #infantry #empire #premierempire #empire #napoleon #napoléon #napoleonic #napoleonicwars #vlog #paris #austerlitz #sacre', 'like_count': 68, 'permalink': 'https://www.instagram.com/p/C1NHBqoNCX5/', 'id': '17856727368076460'}, {'caption': 'rayoboxing KNOCKED OUT Chris Colbert BAD in the rematch of their previously close fight 💥🥊🥶\\n-\\n-\\n-\\n#boxing #fighting #fitness #mma #war #boxingtraining #boxinggym #boxingday #boxingworkout #boxinggloves #miketyson #floydmayweather #athlete #muhammadali #foryou #fyp #lifestyle #health #wealth #knockout #p4p #warrior #money #gym #canelo #workout #strong #fighter  #mindset #champion', 'like_count': 1036, 'permalink': 'https://www.instagram.com/p/C08SKYfun-G/', 'id': '18370548907078627'}, {'caption': '#1/35 #warnerzazscalemodels #war-models.com #scalemodels #scalemodeling #plasticmodels #scalemodelling #scalemodeldiorama #scalemodelbuilding #scale35 #maquette #afvmodel #Frensharmy #1940 #FCM36 #portecharbernard #blitzkit', 'like_count': 24, 'permalink': 'https://www.instagram.com/p/C1Myn04NrUz/', 'id': '17994268439418395'}, {'caption': 'Yet another Christmas is coming, and every year many celebrate it under the bombs someone decided to drop on them.\\n\\n#christmas #xmas #navidad #natale #noel #war #gaza #humanrights #cartoon #editorialcartoon #satire', 'like_count': 19, 'permalink': 'https://www.instagram.com/p/C1M9biMtcUP/', 'id': '17881202222939662'}, {'caption': 'This year, more than 2,500 people drowned in the Mediterranean.\\n\\nWith them, their hopes of escaping #war, conflict and economic hardship; their hopes of living quieter, safer lives in Europe, drowned too. \\n\\nAccording to the UN, at least 186,000 people tried to cross the Mediterranean this year alone; many are leaving conflict-torn countries such as #Syria, #Sudan or #Libya. Many have been tortured on their journeys, many have escaped unspeakable #injustice.\\n\\nEarlier this year, I spent a week with a rescue mission in the #Mediterranean, documenting their work and, later, getting to know some of the incredible people the team at emergency.ngo (check them out) was able to save: some of their small boats had run out of fuel; other boats were not even worthy to be used at #sea. \\n\\nOver the coming days and weeks, I’d like to share a bit more about the work Emergency is doing, but I’d also like to share some of the stories of the wonderful people I got to meet; people who are now in Europe and who are hoping for safe and dignified futures.\\n\\nThis first picture is a #boat we passed in the middle of the Mediterranean, likely one that didn’t make it. Who were the people on board trying to get to #Europe? What were their stories? \\u2028I will likely never know. \\n\\nAs more violence keeps erupting around the globe and on the shores of the Mediterranean, as greater injustices are being committed, I’d like to share more about the people who crave and deserve peace - and who are seeking it, even though the journey is dangerous - and often deadly.\\n\\n#journalist #reportagespotlight #mediterraneansea', 'like_count': 988, 'permalink': 'https://www.instagram.com/p/C1CMzI4sH6O/', 'id': '18016584130851750'}, {'caption': 'Puedes dormir para soñar tus sueños, o despertarte y trabajar duro para poder vivirlos 🙌🏼🛩️\\n\\n#aviation #aviationdaily #aviators #aviationgeek #aviation4u #aviator #aviationlovers #aviationlife #reels #reel #reelsinstagram #plane #aircraft #pilot #pilotlife #pilots #aviationphotography #crew #crewlife #crm #avion #military #airforce #fuerzaaereauruguaya #instaaviation #instareels #instapilot #instagood #instalike #war\\n\\nema.oficial \\nfau_oficial \\nmuseoaeronautico.uy \\ngauchoenvuelo \\nskyhawkargentina \\naermacchi_official \\ncombat_learjet\\ncaptainbere', 'like_count': 126, 'permalink': 'https://www.instagram.com/p/C1MqQg3gMpb/', 'id': '18013252952019625'}, {'caption': 'Was nice being here ...✨\\n•\\n•\\n•\\n#photography #fashion #photo #workout #followme #acter #beautiful #realjameslowe #happy #foryou #fyp #russia #dream #meme #war #india #bodybuilding #camera #acting #news #tram #Germany #goth #Berlin #Stalybridge #christmas #see #40s', 'permalink': 'https://www.instagram.com/p/C1KU4Tvo1MB/', 'id': '18020361736937177'}, {'caption': '#Ein#SKI#Urlaub#der#Mega#war#mit#so#einer#tollen#berglandschaft❄️', 'like_count': 4, 'permalink': 'https://www.instagram.com/p/C1MTFHSMz4g/', 'id': '18030972787705984'}, {'caption': 'Out for my first good run to break in the engine 😁 😎 💯\\nSuch a beauty and sounds so good 😍 🥳 😁 \\n\\n#vintagemotorcycle #motorcycle #caferacer #war #classicmotorcycle #vintage #harley #custommotorcycle #bobber #chopper #knucklehead #photographer #motorcycles #vintagebike #motorcyclelife #classicbike #motorbike #custombike #honda #biker #new #bikelife #moto #classic #vintagemotorcycles #bullet #myphotography #shovelhead #royalenfield #bratstyle', 'like_count': 38, 'permalink': 'https://www.instagram.com/p/C1MzEMWMsOA/', 'id': '17879361900002772'}], 'paging': {'cursors': {'after': 'ZADhkODYwZAWY4YjgxNDBiYzg0MzFmYWRiZAWQ5YjgyNWIZD'}, 'next': 'https://graph.facebook.com/v18.0/17843857138016461/top_media?access_token=EAAKb83xTK40BO7gBDVcd3GoFsLMwJFEv1MrkbdbqpTKOVeA2a0GuZCnusq2SuGeD4IG2GjbeEV5OkV4dzHEN53KTRoDgnsKlsPLAIkuo2Yz7zdtEYRl3IvM4mHct3e6syQu0MjKt4wq3FViWZBkms1jGhxbFmOe8ZALYRQNfOBTOs4wH9I5v4kC&user_id=17841402187545471&fields=caption%2Clike_count%2Cpermalink&limit=25&after=ZADhkODYwZAWY4YjgxNDBiYzg0MzFmYWRiZAWQ5YjgyNWIZD'}}\n"
     ]
    },
    {
     "ename": "KeyError",
     "evalue": "'timestamp'",
     "output_type": "error",
     "traceback": [
      "\u001b[1;31m---------------------------------------------------------------------------\u001b[0m",
      "\u001b[1;31mKeyError\u001b[0m                                  Traceback (most recent call last)",
      "Cell \u001b[1;32mIn[53], line 9\u001b[0m\n\u001b[0;32m      7\u001b[0m response \u001b[38;5;241m=\u001b[39m requests\u001b[38;5;241m.\u001b[39mget(recent[\u001b[38;5;124m'\u001b[39m\u001b[38;5;124mpaging\u001b[39m\u001b[38;5;124m'\u001b[39m][\u001b[38;5;124m'\u001b[39m\u001b[38;5;124mnext\u001b[39m\u001b[38;5;124m'\u001b[39m] )\n\u001b[0;32m      8\u001b[0m recent \u001b[38;5;241m=\u001b[39m response\u001b[38;5;241m.\u001b[39mjson()\n\u001b[1;32m----> 9\u001b[0m \u001b[38;5;28mprint\u001b[39m(\u001b[43mrecent\u001b[49m\u001b[43m[\u001b[49m\u001b[38;5;124;43m'\u001b[39;49m\u001b[38;5;124;43mdata\u001b[39;49m\u001b[38;5;124;43m'\u001b[39;49m\u001b[43m]\u001b[49m\u001b[43m[\u001b[49m\u001b[38;5;241;43m0\u001b[39;49m\u001b[43m]\u001b[49m\u001b[43m[\u001b[49m\u001b[38;5;124;43m'\u001b[39;49m\u001b[38;5;124;43mtimestamp\u001b[39;49m\u001b[38;5;124;43m'\u001b[39;49m\u001b[43m]\u001b[49m )\n",
      "\u001b[1;31mKeyError\u001b[0m: 'timestamp'"
     ]
    }
   ],
   "source": [
    "count = 0\n",
    "recent = get_top_media(hashtag_id, access_token,instagram_account_id)\n",
    "while True:\n",
    "    if (recent['paging']['next'] == ''):\n",
    "        break;\n",
    "    count = count + 1\n",
    "    response = requests.get(recent['paging']['next'] )\n",
    "    recent = response.json()\n",
    "    print(recent['data'][0]['timestamp'] )"
   ]
  },
  {
   "cell_type": "code",
   "execution_count": 51,
   "metadata": {},
   "outputs": [],
   "source": [
    "def get_recent_searched_hashtag(instagram_account_id='', access_token =''):\n",
    "    url = graph_url + instagram_account_id + '/recently_searched_hashtags'\n",
    "    param = dict()\n",
    "    param['access_token'] = access_token\n",
    "    param['limit'] = 30\n",
    "    response = requests.get(url, param)\n",
    "    response = response.json()\n",
    "    return response\n",
    "\n",
    "def get_top_media(hashtag_id='',access_token='',instagram_account_id=''):\n",
    "    url = graph_url + hashtag_id + '/top_media'\n",
    "    param = dict()\n",
    "    param['access_token'] = access_token\n",
    "    param['user_id'] = instagram_account_id\n",
    "    param['fields'] = 'caption,like_count,permalink'\n",
    "    response = requests.get(url, param)\n",
    "    response = response.json()\n",
    "    print(response)\n",
    "    return response"
   ]
  },
  {
   "cell_type": "code",
   "execution_count": 15,
   "metadata": {},
   "outputs": [
    {
     "data": {
      "text/plain": [
       "{'data': [{'id': '17843857138016461'},\n",
       "  {'id': '17841562834122078'},\n",
       "  {'id': '17841562699083092'}],\n",
       " 'paging': {'cursors': {'before': 'QVFIUnlJbzFZAQUU0cVhYYVR5RlVPbGxKeWhGNlp4UUZANSlNGMlJ2OVJHMllRei02WklpZAVBDTGVOaktqWmhTejRyQ1JrMWJERkVEUEk4b1o0eUotV0hnbDh3',\n",
       "   'after': 'QVFIUnV3dXVLcFgwSFNQaG9Gbk9mQnl6RGtHbjdBb2U1X2wyWnJzSmE4LXJPcGR0d29Dd2VrTXJVekxfRGVWNll2ZADRHYk4yTUNJSDREcTZA6YzFxblY2SWln'}}}"
      ]
     },
     "execution_count": 15,
     "metadata": {},
     "output_type": "execute_result"
    }
   ],
   "source": [
    "# In one request I can only retrieve answers for one hastag."
   ]
  }
 ],
 "metadata": {
  "kernelspec": {
   "display_name": "Python 3",
   "language": "python",
   "name": "python3"
  },
  "language_info": {
   "codemirror_mode": {
    "name": "ipython",
    "version": 3
   },
   "file_extension": ".py",
   "mimetype": "text/x-python",
   "name": "python",
   "nbconvert_exporter": "python",
   "pygments_lexer": "ipython3",
   "version": "3.11.7"
  }
 },
 "nbformat": 4,
 "nbformat_minor": 2
}
