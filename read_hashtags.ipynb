{
 "cells": [
  {
   "cell_type": "code",
   "execution_count": 2,
   "metadata": {},
   "outputs": [],
   "source": [
    "import requests\n",
    "\n",
    "access_token = \"EAAKb83xTK40BO7gBDVcd3GoFsLMwJFEv1MrkbdbqpTKOVeA2a0GuZCnusq2SuGeD4IG2GjbeEV5OkV4dzHEN53KTRoDgnsKlsPLAIkuo2Yz7zdtEYRl3IvM4mHct3e6syQu0MjKt4wq3FViWZBkms1jGhxbFmOe8ZALYRQNfOBTOs4wH9I5v4kC\"\n",
    "instagram_account_id = 17841402187545471\n",
    "\n",
    "\n",
    "graph_url = 'https://graph.facebook.com/v18.0/'\n",
    "def get_hashtag_id(hashtag = '',instagram_account_id = '',access_token = ''):\n",
    "    url = graph_url + 'ig_hashtag_search'\n",
    "    param = dict()\n",
    "    param['user_id'] = instagram_account_id\n",
    "    param['q'] = hashtag\n",
    "    param['access_token'] = access_token\n",
    "    response = requests.get(url,param)\n",
    "    response = response.json()\n",
    "    hashtag_id = response['data'][0]['id']\n",
    "    return hashtag_id"
   ]
  },
  {
   "cell_type": "code",
   "execution_count": 3,
   "metadata": {},
   "outputs": [
    {
     "name": "stdout",
     "output_type": "stream",
     "text": [
      "17843857138016461\n"
     ]
    }
   ],
   "source": [
    "print(get_hashtag_id(\"war\",instagram_account_id,access_token))"
   ]
  },
  {
   "cell_type": "code",
   "execution_count": 4,
   "metadata": {},
   "outputs": [],
   "source": [
    "# retrieve name and id for a hasthag\n",
    "def get_data_of_hashtag(hashtag_id = '',access_token=''):\n",
    "    url = graph_url + hashtag_id\n",
    "    param =dict()\n",
    "    param['access_token'] = access_token\n",
    "    param['fields'] = 'id,name'\n",
    "    response = requests.get(url,param)\n",
    "    response = response.json()\n",
    "    return response"
   ]
  },
  {
   "cell_type": "code",
   "execution_count": 5,
   "metadata": {},
   "outputs": [
    {
     "name": "stdout",
     "output_type": "stream",
     "text": [
      "{'id': '17841562354125930', 'name': 'freepalestine'}\n"
     ]
    }
   ],
   "source": [
    "# now try to retrieve the hastag name with the hashtag id, to check if get_data_of_hashtag and get_hashtag_id functions\n",
    "\n",
    "hashtag_id = get_hashtag_id(\"FreePalestine\",instagram_account_id,access_token)\n",
    "\n",
    "print(get_data_of_hashtag(hashtag_id,access_token))"
   ]
  },
  {
   "cell_type": "code",
   "execution_count": 6,
   "metadata": {},
   "outputs": [],
   "source": [
    "# recent media for a hashtag\n",
    "def get_recent_media(hashtag_id='',access_token = '',instagram_account_id = ''):\n",
    "    url = graph_url + hashtag_id + '/recent_media'\n",
    "    param = dict()\n",
    "    param['access_token'] = access_token\n",
    "    param['user_id'] = instagram_account_id\n",
    "    param['fields'] = 'caption,like_count,permalink,timestamp,media_type'\n",
    "    response = requests.get(url, param)\n",
    "    response = response.json()\n",
    "    print(response)\n",
    "    return response\n"
   ]
  },
  {
   "cell_type": "code",
   "execution_count": 7,
   "metadata": {},
   "outputs": [
    {
     "name": "stdout",
     "output_type": "stream",
     "text": [
      "{'data': [{'caption': \"How many children has your tax money killed today?\\n\\nلا تنس، ولا تسامح ابدا، لا تقاطعهم، بل استغن عنهم. \\n\\nNever forget. Never forgive. Don't just boycott, CANCEL them. \\n\\n#Istandwithpalestine #Palestine #freepalestine #gaza #gazaunderattack #genocide #doublestandards #unitedstatesofisreal #isreahell\", 'like_count': 0, 'permalink': 'https://www.instagram.com/p/C1PW_1rs7n7/', 'timestamp': '2023-12-24T14:58:55+0000', 'media_type': 'IMAGE', 'id': '18276508105080550'}, {'caption': 'potus - You should be ashamed! usun - You should be ashamed! \\n\\nVideo by mustafa_musllm \\n#ceasefirenow #freepalestine #gaza #gazagenocide2023 #gaza_under_attack #gazagenocide', 'like_count': 0, 'permalink': 'https://www.instagram.com/reel/C1PWfvGuKxH/', 'timestamp': '2023-12-24T14:58:52+0000', 'media_type': 'VIDEO', 'id': '18031890070692690'}, {'caption': 'Over 20,000 Palestinians dead, more than 8,000 of them being children… all of it funded with your tax dollars\\n\\nMerry Christmas \\n•\\n•\\n•\\nIllustrations from heritagetype\\nBrushes from bracken.design\\n•\\n•\\n•\\n#freepalestine #freefreepalestine #palestinalibre #christmas #palestine #christmasposter #vintagechristmas', 'like_count': 0, 'permalink': 'https://www.instagram.com/p/C1PW_JkriL-/', 'timestamp': '2023-12-24T14:58:50+0000', 'media_type': 'CAROUSEL_ALBUM', 'id': '18017641465978954'}, {'caption': 'Learn how to stand first \\n\\n#viral #viral #fyp #fypppppppppppppppppppppppppppppppppppppppppppppppppppppppppppppppppppppp #viralreels #freepalestine #freepalestine #freepalestine #viralvideos #real #batman #virallllllllllllllllllllllllllllllllllllllllllllllllllllllllllllllllllllllllllllllllllllllllllllllllllllllllllllllllllllllllllllllllllllllllĺlllllllll', 'like_count': 1, 'permalink': 'https://www.instagram.com/reel/C1PWw5grOa4/', 'timestamp': '2023-12-24T14:58:46+0000', 'media_type': 'VIDEO', 'id': '18012221935921861'}, {'caption': '#ceasefirenow🇵🇸#freepalestine#gaza_under_attack', 'like_count': 0, 'permalink': 'https://www.instagram.com/reel/C1PW4H-rG5j/', 'timestamp': '2023-12-24T14:58:45+0000', 'media_type': 'VIDEO', 'id': '18276871999095518'}, {'caption': 'I love you so much, Anjali !\\nAnjali is a very understanding girl. She understands the way i feel about what is happening to our brothers, sisters and children in Palestine. I believe that she also prays for a  #Free🍉 #freepalestine🇵🇸 . I always ask Anjali and the rest of my fur babies to pray for the safety of the people and their friends in Palestine. \\nYa Allah, please grant our brothers and sisters Your blessings, sabr, strength and rizq. Please make them strong. Please protect and save them from more attacks. Ya Allah please grant freedom to them, make them free from horrendous hardship life. Ya Allah, please speed Your aid to them. Please #freepalestine , Ya Allah \\nAamiin Allahumma Aamiin.', 'like_count': 0, 'permalink': 'https://www.instagram.com/reel/C1PVgDFJ9B3/', 'timestamp': '2023-12-24T14:58:42+0000', 'media_type': 'VIDEO', 'id': '18042125218547044'}, {'caption': \"Man got schooled 👌\\nDuring a televised event, an Indian TV presenter was accused by her Israeli guest of wearing attire that resembled the colors of the Palestinian flag.\\nIsrael's vindictive and entitled cancel culture on full display:\\n\\nIsraeli commentator complains about Indian anchor's saree having the wrong colours, reminding him too much of #Palestine\\n\\n#Israel #FreePalestine #Gaza #ceasefirenow\", 'like_count': 0, 'permalink': 'https://www.instagram.com/reel/C1PWlbxo5yq/', 'timestamp': '2023-12-24T14:58:38+0000', 'media_type': 'VIDEO', 'id': '18006434054235625'}, {'caption': 'Sizce haklı mı?\\n\\n#islamiyet #islamofobi #yılbaşı #yeniyıl #müslümanyılbaşıkutlamaz #islamdüşmanları #müslümanlarayapılanzulmedurde #zulmeortakolma #zulmesessizkalma #freepalestine #din #islam', 'like_count': 0, 'permalink': 'https://www.instagram.com/reel/C1PW2K9srI2/', 'timestamp': '2023-12-24T14:58:37+0000', 'media_type': 'VIDEO', 'id': '18304665166193347'}, {'caption': '💪🏼🇵🇸 \\n\\n#freepalestine #freepalestine🇵🇸', 'like_count': 0, 'permalink': 'https://www.instagram.com/reel/C1PW4rrrkb2/', 'timestamp': '2023-12-24T14:58:35+0000', 'media_type': 'VIDEO', 'id': '17987226071608150'}, {'caption': 'We will continue to fight for Gaza. We will continue to say free Palestine, even when it’s a holiday, even when they try to silence us. \\n\\n7 images from No XMAS As Usual in a Genocide Protest \\n\\npeoplesforumnyc \\nanswercoalition\\npalestinianyouthmovement \\n\\n.\\n.\\n.\\n.\\n.\\n#freepalestine #ceasefirenow #gaza #nycprotests #nycphotographer #explorepage', 'permalink': 'https://www.instagram.com/p/C1PW8OdO65g/', 'timestamp': '2023-12-24T14:58:26+0000', 'media_type': 'CAROUSEL_ALBUM', 'id': '18404359513014830'}, {'caption': '#freepalestine', 'like_count': 0, 'permalink': 'https://www.instagram.com/reel/C1PWq8YrpHm/', 'timestamp': '2023-12-24T14:58:24+0000', 'media_type': 'VIDEO', 'id': '17997082604180973'}, {'caption': '#freepalestine #fromtherivertothesea #reels #fyp', 'like_count': 0, 'permalink': 'https://www.instagram.com/p/C1PW1Svv7lR/', 'timestamp': '2023-12-24T14:58:20+0000', 'media_type': 'VIDEO', 'id': '18404581813033487'}, {'caption': '#palestine #freepalestine #gaza #islam #israel #jerusalem #savepalestine #muslim #syria #palestina #indonesia #palestinian #love #lebanon #alquds #turkey #ürdün #westbank #palestinewillbefree #allah #savegaza #alaqsa #iraq #quran #gazaunderattack #bds #boycottisrael #egypt #hijrah #prayforpalestine', 'like_count': 0, 'permalink': 'https://www.instagram.com/p/C1PW7LLtswn/', 'timestamp': '2023-12-24T14:58:17+0000', 'media_type': 'CAROUSEL_ALBUM', 'id': '17991924854283731'}, {'caption': 'Pencapaian dlm kebiadaban yg di buat oleh zionis yahudi yg bodoh dan penakut.\\nZionis super biadab,\\nZionis super penakut.\\n#Freepalestine\\n#Savegaza', 'like_count': 0, 'permalink': 'https://www.instagram.com/p/C1PW6uCLuRd/', 'timestamp': '2023-12-24T14:58:13+0000', 'media_type': 'IMAGE', 'id': '18004579313241816'}, {'caption': 'GTR R35 THE TAIL LIGHTS ARE SO HOT 🔥 THAT THEY ARE MELTING THE SNOW #FREEPALESTINE #PALESTINE \\n.\\n.\\n.\\n.\\n#nissan #gtr35 #nismo #love #withcars #sigma #trendingreels #foryou #follow', 'like_count': 1, 'permalink': 'https://www.instagram.com/reel/C1PW0HCtGdF/', 'timestamp': '2023-12-24T14:58:05+0000', 'media_type': 'VIDEO', 'id': '18011086585948508'}, {'caption': 'Anti-Zionist Jewish children burn the Israeli flag in the Jewish neighborhood of Mea Shearim in Jerusalem.🇮🇱\\n\\nAre they now anti-Semites or anti-murderers?\\n\\nAnak-anak Yahudi anti-Zionis membakar bendera Israel di lingkungan Yahudi Mea Shearim di Yerusalem.🇮🇱 Apakah mereka sekarang antiSemitisme atau anti-pembunuh?\\n#islamic #gaza #genocide #freepalestine  #غزة #فلسطين #اليمن #fyp #فديو \\n#بيت_لحم  #القدس_لنا  #حيفا #يافا #النصر #نابلس_فلسطين #fyp #zionis  #foryoupage  #love', 'like_count': 0, 'permalink': 'https://www.instagram.com/reel/C1PW0XVvlyj/', 'timestamp': '2023-12-24T14:58:03+0000', 'media_type': 'VIDEO', 'id': '17878813128004395'}, {'caption': \"Maailmanrauhan toivominen ei riitä.\\n\\nMyöskään pysyvä tulitauko ei tapahdu itsestään. Tarvitaan järeitä keinoja, jotta palestiinalaisten kansanmurhaa julmasti toteuttava Israel saadaan pysäytettyä. Toistaiseksi Suomen valtio ei ole kunnioittanut ihmisoikeuksia tai kansainvälisiä sopimuksia, vaan on tukenut Israelin sotarikoksia esimerkiksi asekaupoin. \\n\\nOn paljon, mitä päättäjämme voivat tehdä. Suomen valtion on vaadittava julkisesti ja selväsanaisesti pysyvää tulitaukoa. Israelille on asetettava pakotteet. Israelilaiset tuotteet on asetettava tuontikieltoon. Asekaupat Israelin kanssa on peruttava ja lopetettava kokonaan. Diplomaattiset suhteet Israelin kanssa on katkaistava. Israelia on vaadittava kansainvälisen oikeuden eteen rikoksistaan ihmisyyttä vastaan. \\n\\nVaadimme päättäjiltämme empaattisempaa ja ihmisoikeuksia kunnioittavaa politiikkaa nyt ja tulevaisuudessa. \\n\\nPeace does not happen by itself. \\n\\nA permanent ceasefire will not happen by itself either. Strong measures are needed to stop Israel, which is brutally carrying out the genocide of the Palestinians. So far, the Finnish state has not respected human rights or international agreements, but has supported Israel's war crimes, for example through arms sales. \\n\\nThere is a lot that our decision makers can do. The Finnish state must publicly and clearly demand a permanent ceasefire. Sanctions must be imposed on Israel. Israeli products must be banned. Arms trade with Israel must be canceled and stopped completely. Diplomatic relations with Israel must be severed. Israel must be brought before international justice for its crimes against humanity. \\n\\nWe demand a more empathetic and human rights-respecting policy from our decision-makers now and in the future.\\n\\n#freepalestine\\n#joulu\\n#hyvääjoulua #merrychristmas\", 'like_count': 0, 'permalink': 'https://www.instagram.com/p/C1PW5b-tda5/', 'timestamp': '2023-12-24T14:58:03+0000', 'media_type': 'CAROUSEL_ALBUM', 'id': '17886350627971645'}, {'caption': '🥺🤍🇵🇸\\n\\n#freepalestine #palestine #savepalestine🇵🇸', 'like_count': 0, 'permalink': 'https://www.instagram.com/reel/C1PW2z1Jm78/', 'timestamp': '2023-12-24T14:58:02+0000', 'media_type': 'VIDEO', 'id': '17915540453848048'}, {'caption': 'Tetap suarakan P4L35TIN4 jangan lelah dan jangan patah semanhat ♥️🇵🇸\\n#savepalestine\\n#freepalestine\\n#julitfisabililah', 'like_count': 0, 'permalink': 'https://www.instagram.com/reel/C1PW4kaARY8/', 'timestamp': '2023-12-24T14:57:58+0000', 'media_type': 'VIDEO', 'id': '18008521381991526'}, {'caption': '#freepalestine', 'like_count': 0, 'permalink': 'https://www.instagram.com/p/C1PW4ZYp7SA/', 'timestamp': '2023-12-24T14:57:55+0000', 'media_type': 'IMAGE', 'id': '17941892510761818'}, {'caption': \"...how I'm feeling rockin into the new yearrr...\\nLFG 2024\\nWe need radical change...\\n...Right fckin NOW!!!\\n.\\n.\\n.\\n#freepalestine \\n#permanentceasefirenow\\n#merrycrisis\", 'like_count': 0, 'permalink': 'https://www.instagram.com/p/C1PW4OnAmwt/', 'timestamp': '2023-12-24T14:57:53+0000', 'media_type': 'CAROUSEL_ALBUM', 'id': '18069591496459558'}, {'caption': 'بِسْمِ اللَّهِ الرَّحْمَنِ الرَّحِيْم\\n\\nاَللَّهُمَّ صَلِّ عَلٰى سَيِّدِنَا مُحَمَّدٍ وَعَلٰى آلِ سَيِّدِنَا مُحَمَّدٍ\\n\\nاللهُمَّ اغْفِرْ لِلْمُؤْمِنِينَ وَالْمُؤْمِنَاتِ، وَالْمُسْلِمِينَ وَالْمُسْلِمَاتِ، وَأَلِفَ بَيْنَ قُلُوبِهِمْ، وَأَصْلِحْ ذَات بَيْنِهِمْ، وَانْصُرْ عَلَى عَدُوّكَ وَعَدُوِّهِمْ اللَّهُمْ الْعَنْ كَفَرَةَ أَهْلِ الْكِتَابِ الَّذِينَ يُكَذِّبُونَ رُسُلَكَ، وَيُقَاتِلُونَ أَوْلِيَاءَكَ. اللَّهُمْ خَالِفٌ بَيْنَ كَلِمَتِهِمْ، وَزَلْزِلْ أَقْدَامَهُمْ، وَأَنْزِلْ بِهِمْ بَأْسَكَ الَّذِي لَا يُرَدُّ عَنِ الْقَوْمِ الْمُجْرِمِينَ. بِسْمِ اللَّهِ الرَّحْمَنِ الرَّحِيمِ. اللَّهُمَّ إِنَّا نَسْتَعِينُكَ\\n\\nArtinya: \"Ya Allah ampunilah dosa orang mukmin, dan mukminat, muslimin, dan muslimat, satukaniah hati-hati mereka, damaikanlah di antara mereka. Tolonglah mereka untuk mengalahkan musuhmu, dan musuh mereka. Ya Allah timpakanlah laknat kepada orang kafir ahli kitab yang telah mendustakan para utusan-Mu, dan memerangi para wali-Mu. Ya Allah, gagapkanlah ucapan mereka, pecah belahkan kekuatan mereka, dan timpakan siksa-Mu yang tidak mungkin mampu dicegah mereka. Dengan menyebut nama Allah Yang Maha Pengasih, dan Penyayang. Ya Allah sesungguhnya kami memohon pertolongan kepada-Mu.\"\\n\\n#yuksholawat #sholawat #aswaja #habaib #sholawatnabi #shodaqoh #sedekah #ceramahpendek\\u2063\\u2063\\u2063\\u2063\\u2063\\u2063\\u2063\\u2063\\u2063\\u2063\\u2063\\u2063\\u2063\\u2063\\u2063\\u2063\\u2063\\u2063\\u2063\\u2063\\u2063\\u2063\\u2063\\u2063\\u2063\\u2063\\u2063\\u2063\\u2063\\u2063\\n#kajianpendek #dakwah #oneminutebooster #selfreminder #reelsinstagram #dakwahvidgram #nasehatislami #nabimuhammadsaw #maulidnabimuhammadsaw #boicotisrael #boykotisrael #boicotprodukisrael #savepalestine #freepalestine #freepalestine🇵🇸 #gaza #freedomforgaza #freeforpalestine #bantupalestina', 'like_count': 0, 'permalink': 'https://www.instagram.com/reel/C1PWo_vpDw4/', 'timestamp': '2023-12-24T14:57:52+0000', 'media_type': 'VIDEO', 'id': '18025810903850844'}, {'caption': 'Reposted from reviewreligions “This is completely false Zionist propaganda…Muslims don’t hate Jews! They’re hating occupiers.”\\n\\nPowerful worlds from Rabbi Elhanan Beck.\\n\\nWatch the full podcast from our link in bio\\n\\n#Palestine #Israel #Gaza #VoicesForPeace  #freepalestine #savepalestine #SaveGaza #savemuslims #MuslimLivesMatter #FREEFREEPALESTINE #palestinelivesmatter #STOPtheGENOCIDE #IsraeliApartheid #reels', 'like_count': 0, 'permalink': 'https://www.instagram.com/reel/C1PWvmFtEP-/', 'timestamp': '2023-12-24T14:57:52+0000', 'media_type': 'VIDEO', 'id': '17995977758193563'}, {'caption': 'Quand on ne s’aime pas … \\n\\n#islam #musulman #musulmanes #tawhid #prophetmuhammad #الله #الله_أكبر #croyance #freepalestine #freepalestine🇵🇸', 'like_count': 0, 'permalink': 'https://www.instagram.com/reel/C1PWsR3o3lG/', 'timestamp': '2023-12-24T14:57:50+0000', 'media_type': 'VIDEO', 'id': '17981796143424952'}, {'caption': '\"A pomba está pronta a voar, se o Homem quiser!\"\\n\\n👁️\\u200d🗨️ #InfinitesimalProject\\nmhcdesign_2022\\n*\\n📱shotonoppo #oppo #oppocreators #photooftheday #fotografiaemportugal #aminhavisao #fotografiaartistica #photograph_rgb #lentepontopt #olhoportugues #ig_portugal_photo #photography #capture_pt #pt_in_sight #olharescom #shooters_pt #oppoportugal #fotografiaportugal #portugal #observarportugal #photographize #freepalestine #slavaukraini', 'like_count': 0, 'permalink': 'https://www.instagram.com/p/C1PWr8utO3g/', 'timestamp': '2023-12-24T14:56:12+0000', 'media_type': 'IMAGE', 'id': '18249748465210913'}], 'paging': {'cursors': {'after': 'UVZAGRE0zbEtVVTFsUVVwaGNWTnNaVXB2Vm1WT09UQkRPR3BsWVVKeVVtOWhZAMjlVUWpseFMySjJaRlpVTmxKRFQxQk1jM042V0hGR1p6QmZAiM1JYYVMxRGFXMU1SRGhQWkVRelN6RktOMTk1VHprdFpsVm9RZAz09'}, 'next': 'https://graph.facebook.com/v18.0/17841562354125930/recent_media?access_token=EAAKb83xTK40BO7gBDVcd3GoFsLMwJFEv1MrkbdbqpTKOVeA2a0GuZCnusq2SuGeD4IG2GjbeEV5OkV4dzHEN53KTRoDgnsKlsPLAIkuo2Yz7zdtEYRl3IvM4mHct3e6syQu0MjKt4wq3FViWZBkms1jGhxbFmOe8ZALYRQNfOBTOs4wH9I5v4kC&user_id=17841402187545471&fields=caption%2Clike_count%2Cpermalink%2Ctimestamp%2Cmedia_type&limit=25&after=UVZAGRE0zbEtVVTFsUVVwaGNWTnNaVXB2Vm1WT09UQkRPR3BsWVVKeVVtOWhZAMjlVUWpseFMySjJaRlpVTmxKRFQxQk1jM042V0hGR1p6QmZAiM1JYYVMxRGFXMU1SRGhQWkVRelN6RktOMTk1VHprdFpsVm9RZAz09'}}\n"
     ]
    }
   ],
   "source": [
    "#get_recent_media(hashtag_id, access_token,instagram_account_id)\n",
    "\n",
    "recent = get_recent_media(hashtag_id, access_token,instagram_account_id)\n",
    "\n",
    "# while True\n",
    "#    recent =  get_recent_media(hashtag_id, access_token,instagram_account_id)\n",
    "   "
   ]
  },
  {
   "cell_type": "code",
   "execution_count": 8,
   "metadata": {},
   "outputs": [
    {
     "data": {
      "text/plain": [
       "{'caption': \"How many children has your tax money killed today?\\n\\nلا تنس، ولا تسامح ابدا، لا تقاطعهم، بل استغن عنهم. \\n\\nNever forget. Never forgive. Don't just boycott, CANCEL them. \\n\\n#Istandwithpalestine #Palestine #freepalestine #gaza #gazaunderattack #genocide #doublestandards #unitedstatesofisreal #isreahell\",\n",
       " 'like_count': 0,\n",
       " 'permalink': 'https://www.instagram.com/p/C1PW_1rs7n7/',\n",
       " 'timestamp': '2023-12-24T14:58:55+0000',\n",
       " 'media_type': 'IMAGE',\n",
       " 'id': '18276508105080550'}"
      ]
     },
     "execution_count": 8,
     "metadata": {},
     "output_type": "execute_result"
    }
   ],
   "source": [
    "recent['data'][0]"
   ]
  },
  {
   "cell_type": "code",
   "execution_count": 9,
   "metadata": {},
   "outputs": [
    {
     "name": "stdout",
     "output_type": "stream",
     "text": [
      "{'data': [{'caption': \"How many children has your tax money killed today?\\n\\nلا تنس، ولا تسامح ابدا، لا تقاطعهم، بل استغن عنهم. \\n\\nNever forget. Never forgive. Don't just boycott, CANCEL them. \\n\\n#Istandwithpalestine #Palestine #freepalestine #gaza #gazaunderattack #genocide #doublestandards #unitedstatesofisreal #isreahell\", 'like_count': 0, 'permalink': 'https://www.instagram.com/p/C1PW_1rs7n7/', 'timestamp': '2023-12-24T14:58:55+0000', 'media_type': 'IMAGE', 'id': '18276508105080550'}, {'caption': 'War on the Children\\n\\n#freepalestine #freepalestine🇵🇸 #gaza #childrenofgaza #fuckisrael #fuckisrahell #israhellterrorist #israelcowards #idfcowards #israelcuak', 'like_count': 0, 'permalink': 'https://www.instagram.com/reel/C1PW8q1vxOT/', 'timestamp': '2023-12-24T14:58:54+0000', 'media_type': 'VIDEO', 'id': '17980396322453666'}, {'caption': 'potus - You should be ashamed! usun - You should be ashamed! \\n\\nVideo by mustafa_musllm \\n#ceasefirenow #freepalestine #gaza #gazagenocide2023 #gaza_under_attack #gazagenocide', 'like_count': 0, 'permalink': 'https://www.instagram.com/reel/C1PWfvGuKxH/', 'timestamp': '2023-12-24T14:58:52+0000', 'media_type': 'VIDEO', 'id': '18031890070692690'}, {'caption': 'Sta reci osim #freepalestine #freegaza', 'like_count': 0, 'permalink': 'https://www.instagram.com/reel/C1PT_yAIl8J/', 'timestamp': '2023-12-24T14:58:51+0000', 'media_type': 'VIDEO', 'id': '17910854690859934'}, {'caption': 'Over 20,000 Palestinians dead, more than 8,000 of them being children… all of it funded with your tax dollars\\n\\nMerry Christmas \\n•\\n•\\n•\\nIllustrations from heritagetype\\nBrushes from bracken.design\\n•\\n•\\n•\\n#freepalestine #freefreepalestine #palestinalibre #christmas #palestine #christmasposter #vintagechristmas', 'like_count': 0, 'permalink': 'https://www.instagram.com/p/C1PW_JkriL-/', 'timestamp': '2023-12-24T14:58:50+0000', 'media_type': 'CAROUSEL_ALBUM', 'id': '18017641465978954'}, {'caption': 'Learn how to stand first \\n\\n#viral #viral #fyp #fypppppppppppppppppppppppppppppppppppppppppppppppppppppppppppppppppppppp #viralreels #freepalestine #freepalestine #freepalestine #viralvideos #real #batman #virallllllllllllllllllllllllllllllllllllllllllllllllllllllllllllllllllllllllllllllllllllllllllllllllllllllllllllllllllllllllllllllllllllllllĺlllllllll', 'like_count': 1, 'permalink': 'https://www.instagram.com/reel/C1PWw5grOa4/', 'timestamp': '2023-12-24T14:58:46+0000', 'media_type': 'VIDEO', 'id': '18012221935921861'}, {'caption': '#ceasefirenow🇵🇸#freepalestine#gaza_under_attack', 'like_count': 0, 'permalink': 'https://www.instagram.com/reel/C1PW4H-rG5j/', 'timestamp': '2023-12-24T14:58:45+0000', 'media_type': 'VIDEO', 'id': '18276871999095518'}, {'caption': 'I love you so much, Anjali !\\nAnjali is a very understanding girl. She understands the way i feel about what is happening to our brothers, sisters and children in Palestine. I believe that she also prays for a  #Free🍉 #freepalestine🇵🇸 . I always ask Anjali and the rest of my fur babies to pray for the safety of the people and their friends in Palestine. \\nYa Allah, please grant our brothers and sisters Your blessings, sabr, strength and rizq. Please make them strong. Please protect and save them from more attacks. Ya Allah please grant freedom to them, make them free from horrendous hardship life. Ya Allah, please speed Your aid to them. Please #freepalestine , Ya Allah \\nAamiin Allahumma Aamiin.', 'like_count': 0, 'permalink': 'https://www.instagram.com/reel/C1PVgDFJ9B3/', 'timestamp': '2023-12-24T14:58:42+0000', 'media_type': 'VIDEO', 'id': '18042125218547044'}, {'caption': \"Man got schooled 👌\\nDuring a televised event, an Indian TV presenter was accused by her Israeli guest of wearing attire that resembled the colors of the Palestinian flag.\\nIsrael's vindictive and entitled cancel culture on full display:\\n\\nIsraeli commentator complains about Indian anchor's saree having the wrong colours, reminding him too much of #Palestine\\n\\n#Israel #FreePalestine #Gaza #ceasefirenow\", 'like_count': 0, 'permalink': 'https://www.instagram.com/reel/C1PWlbxo5yq/', 'timestamp': '2023-12-24T14:58:38+0000', 'media_type': 'VIDEO', 'id': '18006434054235625'}, {'caption': 'Sizce haklı mı?\\n\\n#islamiyet #islamofobi #yılbaşı #yeniyıl #müslümanyılbaşıkutlamaz #islamdüşmanları #müslümanlarayapılanzulmedurde #zulmeortakolma #zulmesessizkalma #freepalestine #din #islam', 'like_count': 0, 'permalink': 'https://www.instagram.com/reel/C1PW2K9srI2/', 'timestamp': '2023-12-24T14:58:37+0000', 'media_type': 'VIDEO', 'id': '18304665166193347'}, {'caption': '💪🏼🇵🇸 \\n\\n#freepalestine #freepalestine🇵🇸', 'like_count': 0, 'permalink': 'https://www.instagram.com/reel/C1PW4rrrkb2/', 'timestamp': '2023-12-24T14:58:35+0000', 'media_type': 'VIDEO', 'id': '17987226071608150'}, {'caption': 'We will continue to fight for Gaza. We will continue to say free Palestine, even when it’s a holiday, even when they try to silence us. \\n\\n7 images from No XMAS As Usual in a Genocide Protest \\n\\npeoplesforumnyc \\nanswercoalition\\npalestinianyouthmovement \\n\\n.\\n.\\n.\\n.\\n.\\n#freepalestine #ceasefirenow #gaza #nycprotests #nycphotographer #explorepage', 'permalink': 'https://www.instagram.com/p/C1PW8OdO65g/', 'timestamp': '2023-12-24T14:58:26+0000', 'media_type': 'CAROUSEL_ALBUM', 'id': '18404359513014830'}, {'caption': '#freepalestine', 'like_count': 0, 'permalink': 'https://www.instagram.com/reel/C1PWq8YrpHm/', 'timestamp': '2023-12-24T14:58:24+0000', 'media_type': 'VIDEO', 'id': '17997082604180973'}, {'caption': '#freepalestine #fromtherivertothesea #reels #fyp', 'like_count': 0, 'permalink': 'https://www.instagram.com/p/C1PW1Svv7lR/', 'timestamp': '2023-12-24T14:58:20+0000', 'media_type': 'VIDEO', 'id': '18404581813033487'}, {'caption': '#palestine #freepalestine #gaza #islam #israel #jerusalem #savepalestine #muslim #syria #palestina #indonesia #palestinian #love #lebanon #alquds #turkey #ürdün #westbank #palestinewillbefree #allah #savegaza #alaqsa #iraq #quran #gazaunderattack #bds #boycottisrael #egypt #hijrah #prayforpalestine', 'like_count': 0, 'permalink': 'https://www.instagram.com/p/C1PW7LLtswn/', 'timestamp': '2023-12-24T14:58:17+0000', 'media_type': 'CAROUSEL_ALBUM', 'id': '17991924854283731'}, {'caption': 'Pencapaian dlm kebiadaban yg di buat oleh zionis yahudi yg bodoh dan penakut.\\nZionis super biadab,\\nZionis super penakut.\\n#Freepalestine\\n#Savegaza', 'like_count': 0, 'permalink': 'https://www.instagram.com/p/C1PW6uCLuRd/', 'timestamp': '2023-12-24T14:58:13+0000', 'media_type': 'IMAGE', 'id': '18004579313241816'}, {'caption': 'GTR R35 THE TAIL LIGHTS ARE SO HOT 🔥 THAT THEY ARE MELTING THE SNOW #FREEPALESTINE #PALESTINE \\n.\\n.\\n.\\n.\\n#nissan #gtr35 #nismo #love #withcars #sigma #trendingreels #foryou #follow', 'like_count': 1, 'permalink': 'https://www.instagram.com/reel/C1PW0HCtGdF/', 'timestamp': '2023-12-24T14:58:05+0000', 'media_type': 'VIDEO', 'id': '18011086585948508'}, {'caption': 'Anti-Zionist Jewish children burn the Israeli flag in the Jewish neighborhood of Mea Shearim in Jerusalem.🇮🇱\\n\\nAre they now anti-Semites or anti-murderers?\\n\\nAnak-anak Yahudi anti-Zionis membakar bendera Israel di lingkungan Yahudi Mea Shearim di Yerusalem.🇮🇱 Apakah mereka sekarang antiSemitisme atau anti-pembunuh?\\n#islamic #gaza #genocide #freepalestine  #غزة #فلسطين #اليمن #fyp #فديو \\n#بيت_لحم  #القدس_لنا  #حيفا #يافا #النصر #نابلس_فلسطين #fyp #zionis  #foryoupage  #love', 'like_count': 0, 'permalink': 'https://www.instagram.com/reel/C1PW0XVvlyj/', 'timestamp': '2023-12-24T14:58:03+0000', 'media_type': 'VIDEO', 'id': '17878813128004395'}, {'caption': \"Maailmanrauhan toivominen ei riitä.\\n\\nMyöskään pysyvä tulitauko ei tapahdu itsestään. Tarvitaan järeitä keinoja, jotta palestiinalaisten kansanmurhaa julmasti toteuttava Israel saadaan pysäytettyä. Toistaiseksi Suomen valtio ei ole kunnioittanut ihmisoikeuksia tai kansainvälisiä sopimuksia, vaan on tukenut Israelin sotarikoksia esimerkiksi asekaupoin. \\n\\nOn paljon, mitä päättäjämme voivat tehdä. Suomen valtion on vaadittava julkisesti ja selväsanaisesti pysyvää tulitaukoa. Israelille on asetettava pakotteet. Israelilaiset tuotteet on asetettava tuontikieltoon. Asekaupat Israelin kanssa on peruttava ja lopetettava kokonaan. Diplomaattiset suhteet Israelin kanssa on katkaistava. Israelia on vaadittava kansainvälisen oikeuden eteen rikoksistaan ihmisyyttä vastaan. \\n\\nVaadimme päättäjiltämme empaattisempaa ja ihmisoikeuksia kunnioittavaa politiikkaa nyt ja tulevaisuudessa. \\n\\nPeace does not happen by itself. \\n\\nA permanent ceasefire will not happen by itself either. Strong measures are needed to stop Israel, which is brutally carrying out the genocide of the Palestinians. So far, the Finnish state has not respected human rights or international agreements, but has supported Israel's war crimes, for example through arms sales. \\n\\nThere is a lot that our decision makers can do. The Finnish state must publicly and clearly demand a permanent ceasefire. Sanctions must be imposed on Israel. Israeli products must be banned. Arms trade with Israel must be canceled and stopped completely. Diplomatic relations with Israel must be severed. Israel must be brought before international justice for its crimes against humanity. \\n\\nWe demand a more empathetic and human rights-respecting policy from our decision-makers now and in the future.\\n\\n#freepalestine\\n#joulu\\n#hyvääjoulua #merrychristmas\", 'like_count': 0, 'permalink': 'https://www.instagram.com/p/C1PW5b-tda5/', 'timestamp': '2023-12-24T14:58:03+0000', 'media_type': 'CAROUSEL_ALBUM', 'id': '17886350627971645'}, {'caption': '🥺🤍🇵🇸\\n\\n#freepalestine #palestine #savepalestine🇵🇸', 'like_count': 0, 'permalink': 'https://www.instagram.com/reel/C1PW2z1Jm78/', 'timestamp': '2023-12-24T14:58:02+0000', 'media_type': 'VIDEO', 'id': '17915540453848048'}, {'caption': 'Tetap suarakan P4L35TIN4 jangan lelah dan jangan patah semanhat ♥️🇵🇸\\n#savepalestine\\n#freepalestine\\n#julitfisabililah', 'like_count': 0, 'permalink': 'https://www.instagram.com/reel/C1PW4kaARY8/', 'timestamp': '2023-12-24T14:57:58+0000', 'media_type': 'VIDEO', 'id': '18008521381991526'}, {'caption': '#freepalestine', 'like_count': 0, 'permalink': 'https://www.instagram.com/p/C1PW4ZYp7SA/', 'timestamp': '2023-12-24T14:57:55+0000', 'media_type': 'IMAGE', 'id': '17941892510761818'}, {'caption': \"...how I'm feeling rockin into the new yearrr...\\nLFG 2024\\nWe need radical change...\\n...Right fckin NOW!!!\\n.\\n.\\n.\\n#freepalestine \\n#permanentceasefirenow\\n#merrycrisis\", 'like_count': 0, 'permalink': 'https://www.instagram.com/p/C1PW4OnAmwt/', 'timestamp': '2023-12-24T14:57:53+0000', 'media_type': 'CAROUSEL_ALBUM', 'id': '18069591496459558'}, {'caption': 'Quand on ne s’aime pas … \\n\\n#islam #musulman #musulmanes #tawhid #prophetmuhammad #الله #الله_أكبر #croyance #freepalestine #freepalestine🇵🇸', 'like_count': 0, 'permalink': 'https://www.instagram.com/reel/C1PWsR3o3lG/', 'timestamp': '2023-12-24T14:57:50+0000', 'media_type': 'VIDEO', 'id': '17981796143424952'}, {'caption': '\"A pomba está pronta a voar, se o Homem quiser!\"\\n\\n👁️\\u200d🗨️ #InfinitesimalProject\\nmhcdesign_2022\\n*\\n📱shotonoppo #oppo #oppocreators #photooftheday #fotografiaemportugal #aminhavisao #fotografiaartistica #photograph_rgb #lentepontopt #olhoportugues #ig_portugal_photo #photography #capture_pt #pt_in_sight #olharescom #shooters_pt #oppoportugal #fotografiaportugal #portugal #observarportugal #photographize #freepalestine #slavaukraini', 'like_count': 0, 'permalink': 'https://www.instagram.com/p/C1PWr8utO3g/', 'timestamp': '2023-12-24T14:56:12+0000', 'media_type': 'IMAGE', 'id': '18249748465210913'}], 'paging': {'cursors': {'after': 'UVZAGQ2VqWTJTbVpEWTNGcmMwZAFlVbEZAXU1VST1JUQjZAhakJ6TlhGbGRsUldkakJ2WW1OWWRFeDBlRGhXYURkS05WTlFOMEZAtTUhOamVXWnVUR3N5V2trd09VeHVjSEphZAEdWdFZAYZAHdjM0ZA6ZAVVaaFNtdzNjdz09'}, 'next': 'https://graph.facebook.com/v18.0/17841562354125930/recent_media?access_token=EAAKb83xTK40BO7gBDVcd3GoFsLMwJFEv1MrkbdbqpTKOVeA2a0GuZCnusq2SuGeD4IG2GjbeEV5OkV4dzHEN53KTRoDgnsKlsPLAIkuo2Yz7zdtEYRl3IvM4mHct3e6syQu0MjKt4wq3FViWZBkms1jGhxbFmOe8ZALYRQNfOBTOs4wH9I5v4kC&user_id=17841402187545471&fields=caption%2Clike_count%2Cpermalink%2Ctimestamp%2Cmedia_type&limit=25&after=UVZAGQ2VqWTJTbVpEWTNGcmMwZAFlVbEZAXU1VST1JUQjZAhakJ6TlhGbGRsUldkakJ2WW1OWWRFeDBlRGhXYURkS05WTlFOMEZAtTUhOamVXWnVUR3N5V2trd09VeHVjSEphZAEdWdFZAYZAHdjM0ZA6ZAVVaaFNtdzNjdz09'}}\n",
      "2023-12-24T14:57:52+0000\n",
      "2023-12-24T14:56:40+0000\n",
      "2023-12-24T14:55:52+0000\n",
      "2023-12-24T14:54:53+0000\n",
      "2023-12-24T14:54:00+0000\n",
      "2023-12-24T14:53:06+0000\n",
      "2023-12-24T14:52:06+0000\n",
      "2023-12-24T14:51:15+0000\n",
      "2023-12-24T14:49:52+0000\n",
      "2023-12-24T14:48:57+0000\n",
      "2023-12-24T14:48:06+0000\n",
      "2023-12-24T14:47:08+0000\n",
      "2023-12-24T14:46:21+0000\n",
      "2023-12-24T14:45:08+0000\n",
      "2023-12-24T14:44:12+0000\n",
      "2023-12-24T14:43:05+0000\n",
      "2023-12-24T14:41:57+0000\n",
      "2023-12-24T14:41:06+0000\n",
      "2023-12-24T14:40:15+0000\n",
      "2023-12-24T14:39:19+0000\n",
      "2023-12-24T14:38:26+0000\n",
      "2023-12-24T14:37:36+0000\n",
      "2023-12-24T14:36:50+0000\n",
      "2023-12-24T14:35:48+0000\n",
      "2023-12-24T14:35:13+0000\n",
      "2023-12-24T14:34:19+0000\n",
      "2023-12-24T14:33:20+0000\n",
      "2023-12-24T14:32:12+0000\n",
      "2023-12-24T14:31:09+0000\n",
      "2023-12-24T14:30:35+0000\n",
      "2023-12-24T14:30:00+0000\n",
      "2023-12-24T14:29:11+0000\n",
      "2023-12-24T14:28:04+0000\n",
      "2023-12-24T14:27:03+0000\n",
      "2023-12-24T14:26:22+0000\n",
      "2023-12-24T14:25:17+0000\n",
      "2023-12-24T14:24:07+0000\n",
      "2023-12-24T14:23:17+0000\n",
      "2023-12-24T14:22:29+0000\n",
      "2023-12-24T14:21:46+0000\n",
      "2023-12-24T14:20:57+0000\n",
      "2023-12-24T14:19:50+0000\n",
      "2023-12-24T14:18:43+0000\n",
      "2023-12-24T14:17:39+0000\n",
      "2023-12-24T14:16:30+0000\n",
      "2023-12-24T14:15:47+0000\n",
      "2023-12-24T14:14:40+0000\n",
      "2023-12-24T14:13:41+0000\n",
      "2023-12-24T14:12:55+0000\n",
      "2023-12-24T14:12:06+0000\n",
      "2023-12-24T14:11:12+0000\n",
      "2023-12-24T14:10:14+0000\n",
      "2023-12-24T14:09:16+0000\n",
      "2023-12-24T14:08:24+0000\n",
      "2023-12-24T14:30:00+0000\n",
      "2023-12-24T14:06:33+0000\n",
      "2023-12-24T14:05:43+0000\n",
      "2023-12-24T14:04:48+0000\n",
      "2023-12-24T14:04:01+0000\n",
      "2023-12-24T14:02:58+0000\n",
      "2023-12-24T14:02:01+0000\n",
      "2023-12-24T14:01:29+0000\n",
      "2023-12-24T14:00:55+0000\n",
      "2023-12-24T13:59:51+0000\n",
      "2023-12-24T13:59:14+0000\n",
      "2023-12-24T13:58:34+0000\n",
      "2023-12-24T13:57:36+0000\n",
      "2023-12-24T13:56:42+0000\n",
      "2023-12-24T13:56:01+0000\n",
      "2023-12-24T13:54:54+0000\n",
      "2023-12-24T13:53:49+0000\n",
      "2023-12-24T13:52:39+0000\n",
      "2023-12-24T13:51:48+0000\n",
      "2023-12-24T13:50:52+0000\n",
      "2023-12-24T13:49:39+0000\n",
      "2023-12-24T13:48:30+0000\n",
      "2023-12-24T13:47:39+0000\n",
      "2023-12-24T13:46:28+0000\n",
      "2023-12-24T13:45:40+0000\n",
      "2023-12-24T13:44:51+0000\n",
      "2023-12-24T13:44:06+0000\n",
      "2023-12-24T13:43:08+0000\n",
      "2023-12-24T13:41:52+0000\n"
     ]
    }
   ],
   "source": [
    "count = 0\n",
    "recent = get_recent_media(hashtag_id, access_token,instagram_account_id)\n",
    "while True:\n",
    "    if (recent['paging']['next'] == ''):\n",
    "        break;\n",
    "    count = count + 1\n",
    "    try:\n",
    "        response = requests.get(recent['paging']['next'] )\n",
    "        recent = response.json()\n",
    "        print(recent['data'][0]['timestamp'])\n",
    "    except: #code to run if error occurs\n",
    "        print(\"caught_it\")\n",
    "    #code to run if error is raised\n",
    "       \n",
    "\n"
   ]
  },
  {
   "cell_type": "code",
   "execution_count": null,
   "metadata": {},
   "outputs": [
    {
     "name": "stdout",
     "output_type": "stream",
     "text": [
      "{'data': [{'caption': 'พวกแกก็ใจเย็นๆก่อน ค่อยๆคุยกัน อย่าประชดกันแบบนี้สาววายชิปไม่ถูก😂🤭\\n\\n#ฟีด #fyp #yinyin_anw #warwanarat #promratchapat #bonnadol #yin #war #prom #bon #yinwar #หยิ่นอานันท์ #วอร์วนรัตน์ #พร้อมราชภัทร #บอนซ์ณดล #หยิ่นวอร์ #หยิ่นวอร์เป็นแฟนกัน #หยิ่นพร้อม #บอนซ์วอร์ #หมูยอของหยิ่นวอร์', 'like_count': 51, 'permalink': 'https://www.instagram.com/p/C1Mnfu_r1MN/', 'id': '17900042738923518'}, {'caption': 'Taiwanese Giant Shipping line Evergreen has officially ceased accepting Israeli cargo following Yemen’s Pro-Palestine maritime war against the Israeli Regime.\\n\\nEvergreen further asked all its container ships to halt navigation through the Red Sea until further notice. \\n\\nEvergreen further cited that ships on regional services to the Red Sea ports will sail to safe waters nearby and await further instructions. Meanwhile, container ships destined to pass through the Red Sea will reroute around the Cape of Good Hope and reach their destination accordingly.\\n\\n#breaking #news #2023 #december #latest #breakingnews #national #international #stories #new #update #information #info #breakdown #breakingstory #Israel #Israeli #war #war2023 #warupdates #evergreen #cargoship #cargo #israelicargo #maritime', 'like_count': 5427, 'permalink': 'https://www.instagram.com/p/C1IMoMEtSgu/', 'id': '18036860005724943'}, {'caption': 'Male figure. Colima culture, Comala style, 300 B.C - 200 A.D. ceramic. State of Colima, Mexico 🇲🇽 \\n\\n🏺 The Colimas are a population of western Mexico who are thought to have lived from 300 BC to 500 AD. The artistic production of the Colimas is marked by an abundance of ceramics of extraordinary variety and quality. In fact, the Colimas produced numerous terracotta figures and vases, as well as large hollow ceramics for funerary purposes, along with statuettes and pottery. The ornamentation on Colima ceramics is quite complex, and differs greatly from that of other civilisations in central Mexico. The figures - anthropomorphic or zoomorphic - wear extremely elaborate and precise hairstyles, jewellery, clothing and other details. Here, the figure is shown standing and holding a mace.\\n-\\n📍Rietberg Museum, Zürich 🇨🇭 \\n.\\n.\\n.\\n#america #northamerica #mesoamerica #mesoamerican #mexico #colima #mexicanculture #ancientcivilization #ancientculture #ancientart #archeology #arqueologiamexicana #precolumbian #precolumbianart #prehispanico #prehispanic #colimacolima #sculpture #figurine #terracotta #war #museum #museumlover #rietbergmuseum #switzerland🇨🇭 #zurich', 'like_count': 34, 'permalink': 'https://www.instagram.com/p/C1NBWQzKr9I/', 'id': '18132022954314449'}, {'caption': '#aviation #aircraftphotography #warbirds #war ##aviationlovers #aviationphoto #vintage #instagram #vintagestyle #warplane #raf #planesofinstagram #ww2 #ww2planes #ww2history #militaryaviation #militaryaviationphotography #vintageaircraft #aviationphotography #avgeek #planespotter #planes', 'like_count': 984, 'permalink': 'https://www.instagram.com/p/C1FEvS7tf_j/', 'id': '17947677836736796'}, {'caption': '😩❤️\\n.\\n.\\n.\\n.\\n.#vtipy #vtip #vtipyamemesprokazdeho #memesdaily #jokes #joke #meme #memes😂 #ukrajina #memecz #memescz #memes #memes #dankmemes #memesczsk #sranda #srandamusibyt #memessk #war #faktyczsk #zabava #czech #slovakia #legrace #citat', 'like_count': 204, 'permalink': 'https://www.instagram.com/p/C1M-bcwtNcA/', 'id': '18072357889444246'}, {'caption': '😩❤️\\n.\\n.\\n.\\n.\\n.#vtipy #vtip #vtipyamemesprokazdeho #memesdaily #jokes #joke #meme #memes😂 #ukrajina #memecz #memescz #memes #memes #dankmemes #memesczsk #sranda #srandamusibyt #memessk #war #faktyczsk #zabava #czech #slovakia #legrace #citat', 'like_count': 211, 'permalink': 'https://www.instagram.com/p/C1M-h3ytWfI/', 'id': '18000023843132191'}, {'caption': '😩❤️\\nBudu rád za follow dekujuu <3\\n.\\n.\\n\\n.\\n.\\n.\\n#vtipy #vtip #vtipyamemesprokazdeho #memesdaily #jokes #joke #meme #memes😂 #ukrajina #memecz #memescz #memes #memes #dankmemes #memesczsk #sranda #srandamusibyt #memessk #war #faktyczsk #zabava #czech #slovakia #legrace #citat', 'like_count': 319, 'permalink': 'https://www.instagram.com/p/C1M-mT3tC0y/', 'id': '18276824728095142'}, {'caption': 'Flower and nightingale collection\\n.\\n.« یلداتون مبارک ❤️🍉»\\n.\\n.\\n#بلبل #گل #گلومرغ #تصویرسازی #نقاشی_ایرانی #نگارگری #هنرایرانی #مینیاتور #گرافیک #یلدا #شب_یلدا #انار #هوش_مصنوعی #دیجیتال_آرت #flowers #iran #orang #war #aiart #geaphicdesign #miniature #iranart #art #nft', 'like_count': 1417, 'permalink': 'https://www.instagram.com/p/C1FdZsdtgms/', 'id': '17982588059614246'}, {'caption': '«RUSSLAND HAT UKRAINE VERLOREN»\\n\\nDer NATO-Generalsekretär Jens Stoltenberg sagte heute: «Putin hat die Ukraine für immer verloren. Russland wird dort seine Ziele nicht mehr erreichen.» \\n \\nSeiner Meinung nach bestand der Zweck der Invasion in der Ukraine darin, eine Annäherung des Landes an die NATO und die EU zu verhindern: Doch nach fast zwei Jahren Krieg ist die Ukraine ihnen näher als je zuvor. Stoltenberg erklärte auch, dass wir nicht mit einem schnellen Ende des Krieges rechnen sollten.\\n\\n#ukraineaktuell #russia #ukraine #russland #freedom #defence #war #krieg #konflikt #conflict #eurasian #tank #soldiers #civilians #ukraineaktuell #news #fight #battle #victory #selensky #selenski #stoltenberg #nato #northatlantictreatyorganization #northatlanticterroristorganization #putin #loss', 'like_count': 39, 'permalink': 'https://www.instagram.com/p/C1M3QQnMjTe/', 'id': '18404196538055049'}, {'caption': 'Pray for Sudan \\n\\n#sudan #palestine #pray #god #allah #islam #christian #christmas #war #hate #killing #world #love', 'like_count': 3, 'permalink': 'https://www.instagram.com/p/C1NIq91RU-l/', 'id': '17941309853764592'}, {'caption': \"I haven't said much around the conflict and deaths in Gaza but as a person who cares deeply about the safety of children worldwide, I am terribly troubled and absolutely horrified. All children ever want is to be safe, loved and know they matter. The children of Gaza matter. The children of Israel matter . All children matter. They had stories, and they had stories that will never be told. :( #christmas #remember #childrenofgaza #matter #childrenofisrael #matter\", 'like_count': 535, 'permalink': 'https://www.instagram.com/p/C1IySQFBOBf/', 'id': '17993007572400570'}, {'caption': 'Thinking about his actions.\\n\\n#starwars#war#rebels#empire#imperial#vehicle#jedi#sith#501st#clone#clonetrooper#trooper#starwarsnerd#clonewars#theclonewar#starwarsfanart#bountyhunter#lastorder#theempire#starwarsday#starwarsfans#picture#starwarsart#starwarsedit#ship#space#spaceship#starwarsmemes', 'like_count': 1087, 'permalink': 'https://www.instagram.com/p/C1H7SeYK2Ok/', 'id': '18016960666996551'}, {'caption': 'You know who you are? 😉😙\\n\\n#putchristbackinchristianity  #jesuschrist #immigrants #war #warcrimes #murderinthenameofgod #hatredinthenameofgod #isntitironic', 'like_count': 1112, 'permalink': 'https://www.instagram.com/p/C1Ayau_OyjB/', 'id': '18063755812479231'}, {'caption': 'Ukrainian serviceman Yura kisses his girlfriend Margarita after they had not seen each other for six months. He is fighting in the Donbas and on a brief leave for Christmas. To make the most out of the little time they have together, Margarita has come to see him in Kramatorsk, a relatively calm town near the front line.\\n\\n#Ukraine #donbas #war #christmas', 'like_count': 44, 'permalink': 'https://www.instagram.com/p/C1NISkJrEL9/', 'id': '18005042234195727'}, {'caption': 'Ukrainian serviceman Vyacheslav greets his wife Viktoria who is visiting him during a short break from his frontline duty in Kramatorsk, Ukraine, December 22, 2023. \\xa0📷 tomoroz  #ukraine #russia #war #conflict #reuters #reutersphotos', 'like_count': 3009, 'permalink': 'https://www.instagram.com/p/C1MrlUWu0xg/', 'id': '18127634773316951'}, {'caption': 'Christmas Snap🤍🌿\\n.\\n.\\n.\\n.\\n#no #to #war #christmas #celebration', 'like_count': 104, 'permalink': 'https://www.instagram.com/p/C1MWmYdvAdd/', 'id': '17981502275422508'}, {'caption': 'Nouvelle vidéo sur le YouTube !\\n\\nRetrouvez nous lors de notre journée à Paris le 2 décembre 2023 au Invalides et à la cérémonie du ravivage de la flamme à l’Arc de Triomphe !\\nPremière partie ce moi-ci, la seconde sera postée en 2024.\\n\\nNous espérons que vous profiterez de la video !\\nEn vous souhaitant de bonnes fêtes, à 2024 !\\n\\n(crédit photo : Musée de l’Armée, Paris, France, 2023, georges1394)\\n\\n#reconstitution #historique #reconstitutionhistorique #histoire #reenactment #france #war #guerre #infanterie #infantry #empire #premierempire #empire #napoleon #napoléon #napoleonic #napoleonicwars #vlog #paris #austerlitz #sacre', 'like_count': 68, 'permalink': 'https://www.instagram.com/p/C1NHBqoNCX5/', 'id': '17856727368076460'}, {'caption': 'rayoboxing KNOCKED OUT Chris Colbert BAD in the rematch of their previously close fight 💥🥊🥶\\n-\\n-\\n-\\n#boxing #fighting #fitness #mma #war #boxingtraining #boxinggym #boxingday #boxingworkout #boxinggloves #miketyson #floydmayweather #athlete #muhammadali #foryou #fyp #lifestyle #health #wealth #knockout #p4p #warrior #money #gym #canelo #workout #strong #fighter  #mindset #champion', 'like_count': 1036, 'permalink': 'https://www.instagram.com/p/C08SKYfun-G/', 'id': '18370548907078627'}, {'caption': '#1/35 #warnerzazscalemodels #war-models.com #scalemodels #scalemodeling #plasticmodels #scalemodelling #scalemodeldiorama #scalemodelbuilding #scale35 #maquette #afvmodel #Frensharmy #1940 #FCM36 #portecharbernard #blitzkit', 'like_count': 24, 'permalink': 'https://www.instagram.com/p/C1Myn04NrUz/', 'id': '17994268439418395'}, {'caption': 'Yet another Christmas is coming, and every year many celebrate it under the bombs someone decided to drop on them.\\n\\n#christmas #xmas #navidad #natale #noel #war #gaza #humanrights #cartoon #editorialcartoon #satire', 'like_count': 19, 'permalink': 'https://www.instagram.com/p/C1M9biMtcUP/', 'id': '17881202222939662'}, {'caption': 'This year, more than 2,500 people drowned in the Mediterranean.\\n\\nWith them, their hopes of escaping #war, conflict and economic hardship; their hopes of living quieter, safer lives in Europe, drowned too. \\n\\nAccording to the UN, at least 186,000 people tried to cross the Mediterranean this year alone; many are leaving conflict-torn countries such as #Syria, #Sudan or #Libya. Many have been tortured on their journeys, many have escaped unspeakable #injustice.\\n\\nEarlier this year, I spent a week with a rescue mission in the #Mediterranean, documenting their work and, later, getting to know some of the incredible people the team at emergency.ngo (check them out) was able to save: some of their small boats had run out of fuel; other boats were not even worthy to be used at #sea. \\n\\nOver the coming days and weeks, I’d like to share a bit more about the work Emergency is doing, but I’d also like to share some of the stories of the wonderful people I got to meet; people who are now in Europe and who are hoping for safe and dignified futures.\\n\\nThis first picture is a #boat we passed in the middle of the Mediterranean, likely one that didn’t make it. Who were the people on board trying to get to #Europe? What were their stories? \\u2028I will likely never know. \\n\\nAs more violence keeps erupting around the globe and on the shores of the Mediterranean, as greater injustices are being committed, I’d like to share more about the people who crave and deserve peace - and who are seeking it, even though the journey is dangerous - and often deadly.\\n\\n#journalist #reportagespotlight #mediterraneansea', 'like_count': 988, 'permalink': 'https://www.instagram.com/p/C1CMzI4sH6O/', 'id': '18016584130851750'}, {'caption': 'Puedes dormir para soñar tus sueños, o despertarte y trabajar duro para poder vivirlos 🙌🏼🛩️\\n\\n#aviation #aviationdaily #aviators #aviationgeek #aviation4u #aviator #aviationlovers #aviationlife #reels #reel #reelsinstagram #plane #aircraft #pilot #pilotlife #pilots #aviationphotography #crew #crewlife #crm #avion #military #airforce #fuerzaaereauruguaya #instaaviation #instareels #instapilot #instagood #instalike #war\\n\\nema.oficial \\nfau_oficial \\nmuseoaeronautico.uy \\ngauchoenvuelo \\nskyhawkargentina \\naermacchi_official \\ncombat_learjet\\ncaptainbere', 'like_count': 126, 'permalink': 'https://www.instagram.com/p/C1MqQg3gMpb/', 'id': '18013252952019625'}, {'caption': 'Was nice being here ...✨\\n•\\n•\\n•\\n#photography #fashion #photo #workout #followme #acter #beautiful #realjameslowe #happy #foryou #fyp #russia #dream #meme #war #india #bodybuilding #camera #acting #news #tram #Germany #goth #Berlin #Stalybridge #christmas #see #40s', 'permalink': 'https://www.instagram.com/p/C1KU4Tvo1MB/', 'id': '18020361736937177'}, {'caption': '#Ein#SKI#Urlaub#der#Mega#war#mit#so#einer#tollen#berglandschaft❄️', 'like_count': 4, 'permalink': 'https://www.instagram.com/p/C1MTFHSMz4g/', 'id': '18030972787705984'}, {'caption': 'Out for my first good run to break in the engine 😁 😎 💯\\nSuch a beauty and sounds so good 😍 🥳 😁 \\n\\n#vintagemotorcycle #motorcycle #caferacer #war #classicmotorcycle #vintage #harley #custommotorcycle #bobber #chopper #knucklehead #photographer #motorcycles #vintagebike #motorcyclelife #classicbike #motorbike #custombike #honda #biker #new #bikelife #moto #classic #vintagemotorcycles #bullet #myphotography #shovelhead #royalenfield #bratstyle', 'like_count': 38, 'permalink': 'https://www.instagram.com/p/C1MzEMWMsOA/', 'id': '17879361900002772'}], 'paging': {'cursors': {'after': 'ZADhkODYwZAWY4YjgxNDBiYzg0MzFmYWRiZAWQ5YjgyNWIZD'}, 'next': 'https://graph.facebook.com/v18.0/17843857138016461/top_media?access_token=EAAKb83xTK40BO7gBDVcd3GoFsLMwJFEv1MrkbdbqpTKOVeA2a0GuZCnusq2SuGeD4IG2GjbeEV5OkV4dzHEN53KTRoDgnsKlsPLAIkuo2Yz7zdtEYRl3IvM4mHct3e6syQu0MjKt4wq3FViWZBkms1jGhxbFmOe8ZALYRQNfOBTOs4wH9I5v4kC&user_id=17841402187545471&fields=caption%2Clike_count%2Cpermalink&limit=25&after=ZADhkODYwZAWY4YjgxNDBiYzg0MzFmYWRiZAWQ5YjgyNWIZD'}}\n"
     ]
    },
    {
     "ename": "KeyError",
     "evalue": "'timestamp'",
     "output_type": "error",
     "traceback": [
      "\u001b[1;31m---------------------------------------------------------------------------\u001b[0m",
      "\u001b[1;31mKeyError\u001b[0m                                  Traceback (most recent call last)",
      "Cell \u001b[1;32mIn[53], line 9\u001b[0m\n\u001b[0;32m      7\u001b[0m response \u001b[38;5;241m=\u001b[39m requests\u001b[38;5;241m.\u001b[39mget(recent[\u001b[38;5;124m'\u001b[39m\u001b[38;5;124mpaging\u001b[39m\u001b[38;5;124m'\u001b[39m][\u001b[38;5;124m'\u001b[39m\u001b[38;5;124mnext\u001b[39m\u001b[38;5;124m'\u001b[39m] )\n\u001b[0;32m      8\u001b[0m recent \u001b[38;5;241m=\u001b[39m response\u001b[38;5;241m.\u001b[39mjson()\n\u001b[1;32m----> 9\u001b[0m \u001b[38;5;28mprint\u001b[39m(\u001b[43mrecent\u001b[49m\u001b[43m[\u001b[49m\u001b[38;5;124;43m'\u001b[39;49m\u001b[38;5;124;43mdata\u001b[39;49m\u001b[38;5;124;43m'\u001b[39;49m\u001b[43m]\u001b[49m\u001b[43m[\u001b[49m\u001b[38;5;241;43m0\u001b[39;49m\u001b[43m]\u001b[49m\u001b[43m[\u001b[49m\u001b[38;5;124;43m'\u001b[39;49m\u001b[38;5;124;43mtimestamp\u001b[39;49m\u001b[38;5;124;43m'\u001b[39;49m\u001b[43m]\u001b[49m )\n",
      "\u001b[1;31mKeyError\u001b[0m: 'timestamp'"
     ]
    }
   ],
   "source": [
    "count = 0\n",
    "recent = get_top_media(hashtag_id, access_token,instagram_account_id)\n",
    "while True:\n",
    "    if (recent['paging']['next'] == ''):\n",
    "        break;\n",
    "    count = count + 1\n",
    "    response = requests.get(recent['paging']['next'] )\n",
    "    recent = response.json()\n",
    "    print(recent['data'][0]['timestamp'] )"
   ]
  },
  {
   "cell_type": "code",
   "execution_count": null,
   "metadata": {},
   "outputs": [],
   "source": []
  },
  {
   "cell_type": "code",
   "execution_count": 51,
   "metadata": {},
   "outputs": [],
   "source": [
    "def get_recent_searched_hashtag(instagram_account_id='', access_token =''):\n",
    "    url = graph_url + instagram_account_id + '/recently_searched_hashtags'\n",
    "    param = dict()\n",
    "    param['access_token'] = access_token\n",
    "    param['limit'] = 30\n",
    "    response = requests.get(url, param)\n",
    "    response = response.json()\n",
    "    return response\n",
    "\n",
    "def get_top_media(hashtag_id='',access_token='',instagram_account_id=''):\n",
    "    url = graph_url + hashtag_id + '/top_media'\n",
    "    param = dict()\n",
    "    param['access_token'] = access_token\n",
    "    param['user_id'] = instagram_account_id\n",
    "    param['fields'] = 'caption,like_count,permalink'\n",
    "    response = requests.get(url, param)\n",
    "    response = response.json()\n",
    "    print(response)\n",
    "    return response"
   ]
  },
  {
   "cell_type": "code",
   "execution_count": 15,
   "metadata": {},
   "outputs": [
    {
     "data": {
      "text/plain": [
       "{'data': [{'id': '17843857138016461'},\n",
       "  {'id': '17841562834122078'},\n",
       "  {'id': '17841562699083092'}],\n",
       " 'paging': {'cursors': {'before': 'QVFIUnlJbzFZAQUU0cVhYYVR5RlVPbGxKeWhGNlp4UUZANSlNGMlJ2OVJHMllRei02WklpZAVBDTGVOaktqWmhTejRyQ1JrMWJERkVEUEk4b1o0eUotV0hnbDh3',\n",
       "   'after': 'QVFIUnV3dXVLcFgwSFNQaG9Gbk9mQnl6RGtHbjdBb2U1X2wyWnJzSmE4LXJPcGR0d29Dd2VrTXJVekxfRGVWNll2ZADRHYk4yTUNJSDREcTZA6YzFxblY2SWln'}}}"
      ]
     },
     "execution_count": 15,
     "metadata": {},
     "output_type": "execute_result"
    }
   ],
   "source": [
    "# In one request I can only retrieve answers for one hastag."
   ]
  },
  {
   "cell_type": "code",
   "execution_count": null,
   "metadata": {},
   "outputs": [],
   "source": [
    "def get_insights_for_hashtag(hashtag_id, access_token, since, until, metrics=\"audience_city\")"
   ]
  }
 ],
 "metadata": {
  "kernelspec": {
   "display_name": "Python 3",
   "language": "python",
   "name": "python3"
  },
  "language_info": {
   "codemirror_mode": {
    "name": "ipython",
    "version": 3
   },
   "file_extension": ".py",
   "mimetype": "text/x-python",
   "name": "python",
   "nbconvert_exporter": "python",
   "pygments_lexer": "ipython3",
   "version": "3.11.7"
  }
 },
 "nbformat": 4,
 "nbformat_minor": 2
}
